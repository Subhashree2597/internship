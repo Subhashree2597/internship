{
 "cells": [
  {
   "cell_type": "markdown",
   "id": "bd3a132f",
   "metadata": {},
   "source": [
    "## Q2"
   ]
  },
  {
   "cell_type": "markdown",
   "id": "80c09e9f",
   "metadata": {},
   "source": [
    "# Medical Cost Personal Insurance Project"
   ]
  },
  {
   "cell_type": "markdown",
   "id": "0ea0a8b9",
   "metadata": {},
   "source": [
    "### Problem Statement"
   ]
  },
  {
   "cell_type": "markdown",
   "id": "6fa2482f",
   "metadata": {},
   "source": [
    "Health insurance is a type of insurance that covers medical expenses that arise due to an illness. These expenses could be related to hospitalisation costs, cost of medicines or doctor consultation fees. The main purpose of medical insurance is to receive the best medical care without any strain on your finances. Health insurance plans offer protection against high medical costs. It covers hospitalization expenses, day care procedures, domiciliary expenses, and ambulance charges, besides many others. Based on certain input features such as age , bmi,,no of dependents ,smoker ,region  medical insurance is calculated."
   ]
  },
  {
   "cell_type": "markdown",
   "id": "dfc6e9ab",
   "metadata": {},
   "source": [
    "#### To predict :\n",
    "Insurance cost"
   ]
  },
  {
   "cell_type": "code",
   "execution_count": 1,
   "id": "4235c2c3",
   "metadata": {},
   "outputs": [],
   "source": [
    "#Importing necessary libraries\n",
    "import pandas as pd\n",
    "import numpy as np\n",
    "import seaborn as sns\n",
    "import matplotlib.pyplot as plt\n",
    "import warnings\n",
    "warnings.filterwarnings('ignore')"
   ]
  },
  {
   "cell_type": "markdown",
   "id": "fa23d610",
   "metadata": {},
   "source": [
    "### Importing Dataset"
   ]
  },
  {
   "cell_type": "code",
   "execution_count": 2,
   "id": "5f2eab14",
   "metadata": {},
   "outputs": [
    {
     "data": {
      "text/html": [
       "<div>\n",
       "<style scoped>\n",
       "    .dataframe tbody tr th:only-of-type {\n",
       "        vertical-align: middle;\n",
       "    }\n",
       "\n",
       "    .dataframe tbody tr th {\n",
       "        vertical-align: top;\n",
       "    }\n",
       "\n",
       "    .dataframe thead th {\n",
       "        text-align: right;\n",
       "    }\n",
       "</style>\n",
       "<table border=\"1\" class=\"dataframe\">\n",
       "  <thead>\n",
       "    <tr style=\"text-align: right;\">\n",
       "      <th></th>\n",
       "      <th>age</th>\n",
       "      <th>sex</th>\n",
       "      <th>bmi</th>\n",
       "      <th>children</th>\n",
       "      <th>smoker</th>\n",
       "      <th>region</th>\n",
       "      <th>charges</th>\n",
       "    </tr>\n",
       "  </thead>\n",
       "  <tbody>\n",
       "    <tr>\n",
       "      <th>0</th>\n",
       "      <td>19</td>\n",
       "      <td>female</td>\n",
       "      <td>27.900</td>\n",
       "      <td>0</td>\n",
       "      <td>yes</td>\n",
       "      <td>southwest</td>\n",
       "      <td>16884.92400</td>\n",
       "    </tr>\n",
       "    <tr>\n",
       "      <th>1</th>\n",
       "      <td>18</td>\n",
       "      <td>male</td>\n",
       "      <td>33.770</td>\n",
       "      <td>1</td>\n",
       "      <td>no</td>\n",
       "      <td>southeast</td>\n",
       "      <td>1725.55230</td>\n",
       "    </tr>\n",
       "    <tr>\n",
       "      <th>2</th>\n",
       "      <td>28</td>\n",
       "      <td>male</td>\n",
       "      <td>33.000</td>\n",
       "      <td>3</td>\n",
       "      <td>no</td>\n",
       "      <td>southeast</td>\n",
       "      <td>4449.46200</td>\n",
       "    </tr>\n",
       "    <tr>\n",
       "      <th>3</th>\n",
       "      <td>33</td>\n",
       "      <td>male</td>\n",
       "      <td>22.705</td>\n",
       "      <td>0</td>\n",
       "      <td>no</td>\n",
       "      <td>northwest</td>\n",
       "      <td>21984.47061</td>\n",
       "    </tr>\n",
       "    <tr>\n",
       "      <th>4</th>\n",
       "      <td>32</td>\n",
       "      <td>male</td>\n",
       "      <td>28.880</td>\n",
       "      <td>0</td>\n",
       "      <td>no</td>\n",
       "      <td>northwest</td>\n",
       "      <td>3866.85520</td>\n",
       "    </tr>\n",
       "    <tr>\n",
       "      <th>...</th>\n",
       "      <td>...</td>\n",
       "      <td>...</td>\n",
       "      <td>...</td>\n",
       "      <td>...</td>\n",
       "      <td>...</td>\n",
       "      <td>...</td>\n",
       "      <td>...</td>\n",
       "    </tr>\n",
       "    <tr>\n",
       "      <th>1333</th>\n",
       "      <td>50</td>\n",
       "      <td>male</td>\n",
       "      <td>30.970</td>\n",
       "      <td>3</td>\n",
       "      <td>no</td>\n",
       "      <td>northwest</td>\n",
       "      <td>10600.54830</td>\n",
       "    </tr>\n",
       "    <tr>\n",
       "      <th>1334</th>\n",
       "      <td>18</td>\n",
       "      <td>female</td>\n",
       "      <td>31.920</td>\n",
       "      <td>0</td>\n",
       "      <td>no</td>\n",
       "      <td>northeast</td>\n",
       "      <td>2205.98080</td>\n",
       "    </tr>\n",
       "    <tr>\n",
       "      <th>1335</th>\n",
       "      <td>18</td>\n",
       "      <td>female</td>\n",
       "      <td>36.850</td>\n",
       "      <td>0</td>\n",
       "      <td>no</td>\n",
       "      <td>southeast</td>\n",
       "      <td>1629.83350</td>\n",
       "    </tr>\n",
       "    <tr>\n",
       "      <th>1336</th>\n",
       "      <td>21</td>\n",
       "      <td>female</td>\n",
       "      <td>25.800</td>\n",
       "      <td>0</td>\n",
       "      <td>no</td>\n",
       "      <td>southwest</td>\n",
       "      <td>2007.94500</td>\n",
       "    </tr>\n",
       "    <tr>\n",
       "      <th>1337</th>\n",
       "      <td>61</td>\n",
       "      <td>female</td>\n",
       "      <td>29.070</td>\n",
       "      <td>0</td>\n",
       "      <td>yes</td>\n",
       "      <td>northwest</td>\n",
       "      <td>29141.36030</td>\n",
       "    </tr>\n",
       "  </tbody>\n",
       "</table>\n",
       "<p>1338 rows × 7 columns</p>\n",
       "</div>"
      ],
      "text/plain": [
       "      age     sex     bmi  children smoker     region      charges\n",
       "0      19  female  27.900         0    yes  southwest  16884.92400\n",
       "1      18    male  33.770         1     no  southeast   1725.55230\n",
       "2      28    male  33.000         3     no  southeast   4449.46200\n",
       "3      33    male  22.705         0     no  northwest  21984.47061\n",
       "4      32    male  28.880         0     no  northwest   3866.85520\n",
       "...   ...     ...     ...       ...    ...        ...          ...\n",
       "1333   50    male  30.970         3     no  northwest  10600.54830\n",
       "1334   18  female  31.920         0     no  northeast   2205.98080\n",
       "1335   18  female  36.850         0     no  southeast   1629.83350\n",
       "1336   21  female  25.800         0     no  southwest   2007.94500\n",
       "1337   61  female  29.070         0    yes  northwest  29141.36030\n",
       "\n",
       "[1338 rows x 7 columns]"
      ]
     },
     "execution_count": 2,
     "metadata": {},
     "output_type": "execute_result"
    }
   ],
   "source": [
    "#Importing dataset\n",
    "df = pd.read_csv('https://raw.githubusercontent.com/dsrscientist/dataset4/main/medical_cost_insurance.csv')\n",
    "df"
   ]
  },
  {
   "cell_type": "markdown",
   "id": "46894e7d",
   "metadata": {},
   "source": [
    "#### Columns"
   ]
  },
  {
   "cell_type": "markdown",
   "id": "b90350c5",
   "metadata": {},
   "source": [
    "•\tage: age of primary beneficiary\n",
    "    \n",
    "•\tsex: insurance contractor gender, female, male\n",
    "    \n",
    "•\tbmi: Body mass index, providing an understanding of body, weights that are relatively high or low relative to height, objective index of body weight (kg / m ^ 2) using the ratio of height to weight, ideally 18.5 to 24.9.\n",
    "    \n",
    "•\tchildren: Number of children covered by health insurance / Number of dependents\n",
    "    \n",
    "•\tsmoker: Smoking\n",
    "    \n",
    "•\tregion: the beneficiary's residential area in the US, northeast, southeast, southwest, northwest.\n",
    "    \n",
    "•\tcharges: Individual medical costs billed by health insurance\n"
   ]
  },
  {
   "cell_type": "markdown",
   "id": "0faafd9b",
   "metadata": {},
   "source": [
    "### Exploratory Data Analysis(EDA)"
   ]
  },
  {
   "cell_type": "code",
   "execution_count": 3,
   "id": "59484d95",
   "metadata": {},
   "outputs": [
    {
     "data": {
      "text/plain": [
       "(1338, 7)"
      ]
     },
     "execution_count": 3,
     "metadata": {},
     "output_type": "execute_result"
    }
   ],
   "source": [
    "#Checking the shape\n",
    "df.shape"
   ]
  },
  {
   "cell_type": "markdown",
   "id": "cc1ae67b",
   "metadata": {},
   "source": [
    "It shows the size of our dataset: 1338 rows and 7 columns out of which 6 columns are our features and 1 column is our target variable or label."
   ]
  },
  {
   "cell_type": "code",
   "execution_count": 4,
   "id": "633b8b28",
   "metadata": {},
   "outputs": [
    {
     "data": {
      "text/plain": [
       "Index(['age', 'sex', 'bmi', 'children', 'smoker', 'region', 'charges'], dtype='object')"
      ]
     },
     "execution_count": 4,
     "metadata": {},
     "output_type": "execute_result"
    }
   ],
   "source": [
    "#Checking the columns\n",
    "df.columns"
   ]
  },
  {
   "cell_type": "markdown",
   "id": "c4610aac",
   "metadata": {},
   "source": [
    "It shows the column names in the dataset."
   ]
  },
  {
   "cell_type": "code",
   "execution_count": 5,
   "id": "4a72aaa1",
   "metadata": {},
   "outputs": [
    {
     "data": {
      "text/plain": [
       "age           int64\n",
       "sex          object\n",
       "bmi         float64\n",
       "children      int64\n",
       "smoker       object\n",
       "region       object\n",
       "charges     float64\n",
       "dtype: object"
      ]
     },
     "execution_count": 5,
     "metadata": {},
     "output_type": "execute_result"
    }
   ],
   "source": [
    "#Checking the data type\n",
    "df.dtypes"
   ]
  },
  {
   "cell_type": "markdown",
   "id": "9bad94cb",
   "metadata": {},
   "source": [
    "Here, we can see our data set has different data types such as int( 2 values), float( 2 values) and object( 3 values)."
   ]
  },
  {
   "cell_type": "code",
   "execution_count": 6,
   "id": "b12db380",
   "metadata": {},
   "outputs": [
    {
     "data": {
      "text/plain": [
       "age         0\n",
       "sex         0\n",
       "bmi         0\n",
       "children    0\n",
       "smoker      0\n",
       "region      0\n",
       "charges     0\n",
       "dtype: int64"
      ]
     },
     "execution_count": 6,
     "metadata": {},
     "output_type": "execute_result"
    }
   ],
   "source": [
    "#Checking for null values\n",
    "df.isna().sum()"
   ]
  },
  {
   "cell_type": "markdown",
   "id": "a99c6333",
   "metadata": {},
   "source": [
    "We can see there are no null values present right now. Let's move ahead.  "
   ]
  },
  {
   "cell_type": "code",
   "execution_count": 7,
   "id": "26602031",
   "metadata": {},
   "outputs": [
    {
     "data": {
      "text/plain": [
       "<Axes: >"
      ]
     },
     "execution_count": 7,
     "metadata": {},
     "output_type": "execute_result"
    },
    {
     "data": {
      "image/png": "[encoded data removed]",
      "text/plain": [
       "<Figure size 640x480 with 2 Axes>"
      ]
     },
     "metadata": {},
     "output_type": "display_data"
    }
   ],
   "source": [
    "#Let's visualize it using heatmap\n",
    "sns.heatmap(df.isna())"
   ]
  },
  {
   "cell_type": "markdown",
   "id": "e699a66e",
   "metadata": {},
   "source": [
    "As we can see the above figure is whole red in colour, that means there are no null values present in our dataset."
   ]
  },
  {
   "cell_type": "code",
   "execution_count": 8,
   "id": "e1376053",
   "metadata": {},
   "outputs": [
    {
     "name": "stdout",
     "output_type": "stream",
     "text": [
      "<class 'pandas.core.frame.DataFrame'>\n",
      "RangeIndex: 1338 entries, 0 to 1337\n",
      "Data columns (total 7 columns):\n",
      " #   Column    Non-Null Count  Dtype  \n",
      "---  ------    --------------  -----  \n",
      " 0   age       1338 non-null   int64  \n",
      " 1   sex       1338 non-null   object \n",
      " 2   bmi       1338 non-null   float64\n",
      " 3   children  1338 non-null   int64  \n",
      " 4   smoker    1338 non-null   object \n",
      " 5   region    1338 non-null   object \n",
      " 6   charges   1338 non-null   float64\n",
      "dtypes: float64(2), int64(2), object(3)\n",
      "memory usage: 73.3+ KB\n"
     ]
    }
   ],
   "source": [
    "#Checking info\n",
    "df.info()"
   ]
  },
  {
   "cell_type": "markdown",
   "id": "f63f65a6",
   "metadata": {},
   "source": [
    "The info() method gives the information about no. of columns, rows, column names, non-null count, data types and memory usage."
   ]
  },
  {
   "cell_type": "code",
   "execution_count": 9,
   "id": "bf124d97",
   "metadata": {},
   "outputs": [
    {
     "data": {
      "text/plain": [
       "age           47\n",
       "sex            2\n",
       "bmi          548\n",
       "children       6\n",
       "smoker         2\n",
       "region         4\n",
       "charges     1337\n",
       "dtype: int64"
      ]
     },
     "execution_count": 9,
     "metadata": {},
     "output_type": "execute_result"
    }
   ],
   "source": [
    "df.nunique()"
   ]
  },
  {
   "cell_type": "markdown",
   "id": "0ea43e94",
   "metadata": {},
   "source": [
    "We can see the unique values in each column."
   ]
  },
  {
   "cell_type": "code",
   "execution_count": 10,
   "id": "6467a4f8",
   "metadata": {
    "scrolled": true
   },
   "outputs": [
    {
     "name": "stdout",
     "output_type": "stream",
     "text": [
      "18    69\n",
      "19    68\n",
      "50    29\n",
      "51    29\n",
      "47    29\n",
      "46    29\n",
      "45    29\n",
      "20    29\n",
      "48    29\n",
      "52    29\n",
      "22    28\n",
      "49    28\n",
      "54    28\n",
      "53    28\n",
      "21    28\n",
      "26    28\n",
      "24    28\n",
      "25    28\n",
      "28    28\n",
      "27    28\n",
      "23    28\n",
      "43    27\n",
      "29    27\n",
      "30    27\n",
      "41    27\n",
      "42    27\n",
      "44    27\n",
      "31    27\n",
      "40    27\n",
      "32    26\n",
      "33    26\n",
      "56    26\n",
      "34    26\n",
      "55    26\n",
      "57    26\n",
      "37    25\n",
      "59    25\n",
      "58    25\n",
      "36    25\n",
      "38    25\n",
      "35    25\n",
      "39    25\n",
      "61    23\n",
      "60    23\n",
      "63    23\n",
      "62    23\n",
      "64    22\n",
      "Name: age, dtype: int64\n",
      "\n",
      "\n",
      "male      676\n",
      "female    662\n",
      "Name: sex, dtype: int64\n",
      "\n",
      "\n",
      "32.300    13\n",
      "28.310     9\n",
      "30.495     8\n",
      "30.875     8\n",
      "31.350     8\n",
      "          ..\n",
      "46.200     1\n",
      "23.800     1\n",
      "44.770     1\n",
      "32.120     1\n",
      "30.970     1\n",
      "Name: bmi, Length: 548, dtype: int64\n",
      "\n",
      "\n",
      "0    574\n",
      "1    324\n",
      "2    240\n",
      "3    157\n",
      "4     25\n",
      "5     18\n",
      "Name: children, dtype: int64\n",
      "\n",
      "\n",
      "no     1064\n",
      "yes     274\n",
      "Name: smoker, dtype: int64\n",
      "\n",
      "\n",
      "southeast    364\n",
      "southwest    325\n",
      "northwest    325\n",
      "northeast    324\n",
      "Name: region, dtype: int64\n",
      "\n",
      "\n",
      "1639.56310     2\n",
      "16884.92400    1\n",
      "29330.98315    1\n",
      "2221.56445     1\n",
      "19798.05455    1\n",
      "              ..\n",
      "7345.08400     1\n",
      "26109.32905    1\n",
      "28287.89766    1\n",
      "1149.39590     1\n",
      "29141.36030    1\n",
      "Name: charges, Length: 1337, dtype: int64\n",
      "\n",
      "\n"
     ]
    }
   ],
   "source": [
    "#Checking the value count for each column\n",
    "for i in df.columns:\n",
    "    print(df[i].value_counts())\n",
    "    print(\"\\n\")"
   ]
  },
  {
   "cell_type": "markdown",
   "id": "628170e4",
   "metadata": {},
   "source": [
    "We can see that there are no missing values as well as white spaces present in our dataset. Let's move ahead."
   ]
  },
  {
   "cell_type": "code",
   "execution_count": 11,
   "id": "7923139c",
   "metadata": {
    "scrolled": true
   },
   "outputs": [
    {
     "data": {
      "text/html": [
       "<div>\n",
       "<style scoped>\n",
       "    .dataframe tbody tr th:only-of-type {\n",
       "        vertical-align: middle;\n",
       "    }\n",
       "\n",
       "    .dataframe tbody tr th {\n",
       "        vertical-align: top;\n",
       "    }\n",
       "\n",
       "    .dataframe thead th {\n",
       "        text-align: right;\n",
       "    }\n",
       "</style>\n",
       "<table border=\"1\" class=\"dataframe\">\n",
       "  <thead>\n",
       "    <tr style=\"text-align: right;\">\n",
       "      <th></th>\n",
       "      <th>age</th>\n",
       "      <th>bmi</th>\n",
       "      <th>children</th>\n",
       "      <th>charges</th>\n",
       "    </tr>\n",
       "  </thead>\n",
       "  <tbody>\n",
       "    <tr>\n",
       "      <th>count</th>\n",
       "      <td>1338.000000</td>\n",
       "      <td>1338.000000</td>\n",
       "      <td>1338.000000</td>\n",
       "      <td>1338.000000</td>\n",
       "    </tr>\n",
       "    <tr>\n",
       "      <th>mean</th>\n",
       "      <td>39.207025</td>\n",
       "      <td>30.663397</td>\n",
       "      <td>1.094918</td>\n",
       "      <td>13270.422265</td>\n",
       "    </tr>\n",
       "    <tr>\n",
       "      <th>std</th>\n",
       "      <td>14.049960</td>\n",
       "      <td>6.098187</td>\n",
       "      <td>1.205493</td>\n",
       "      <td>12110.011237</td>\n",
       "    </tr>\n",
       "    <tr>\n",
       "      <th>min</th>\n",
       "      <td>18.000000</td>\n",
       "      <td>15.960000</td>\n",
       "      <td>0.000000</td>\n",
       "      <td>1121.873900</td>\n",
       "    </tr>\n",
       "    <tr>\n",
       "      <th>25%</th>\n",
       "      <td>27.000000</td>\n",
       "      <td>26.296250</td>\n",
       "      <td>0.000000</td>\n",
       "      <td>4740.287150</td>\n",
       "    </tr>\n",
       "    <tr>\n",
       "      <th>50%</th>\n",
       "      <td>39.000000</td>\n",
       "      <td>30.400000</td>\n",
       "      <td>1.000000</td>\n",
       "      <td>9382.033000</td>\n",
       "    </tr>\n",
       "    <tr>\n",
       "      <th>75%</th>\n",
       "      <td>51.000000</td>\n",
       "      <td>34.693750</td>\n",
       "      <td>2.000000</td>\n",
       "      <td>16639.912515</td>\n",
       "    </tr>\n",
       "    <tr>\n",
       "      <th>max</th>\n",
       "      <td>64.000000</td>\n",
       "      <td>53.130000</td>\n",
       "      <td>5.000000</td>\n",
       "      <td>63770.428010</td>\n",
       "    </tr>\n",
       "  </tbody>\n",
       "</table>\n",
       "</div>"
      ],
      "text/plain": [
       "               age          bmi     children       charges\n",
       "count  1338.000000  1338.000000  1338.000000   1338.000000\n",
       "mean     39.207025    30.663397     1.094918  13270.422265\n",
       "std      14.049960     6.098187     1.205493  12110.011237\n",
       "min      18.000000    15.960000     0.000000   1121.873900\n",
       "25%      27.000000    26.296250     0.000000   4740.287150\n",
       "50%      39.000000    30.400000     1.000000   9382.033000\n",
       "75%      51.000000    34.693750     2.000000  16639.912515\n",
       "max      64.000000    53.130000     5.000000  63770.428010"
      ]
     },
     "execution_count": 11,
     "metadata": {},
     "output_type": "execute_result"
    }
   ],
   "source": [
    "#Checking the description \n",
    "df.describe()"
   ]
  },
  {
   "cell_type": "markdown",
   "id": "12d142df",
   "metadata": {},
   "source": [
    "Here, we can see the describe() method gives information about the count of values in the dataset, mean values, standard deviation, min, 25% quantile, 50% quantile, 75% quantile and max values in the dataset. It works only on numerical data and not on categorical data."
   ]
  },
  {
   "cell_type": "code",
   "execution_count": 12,
   "id": "aa751517",
   "metadata": {},
   "outputs": [
    {
     "name": "stdout",
     "output_type": "stream",
     "text": [
      "Categorical columns: ['sex', 'smoker', 'region']\n",
      "\n",
      "\n"
     ]
    }
   ],
   "source": [
    "#Checking for categorical columns\n",
    "cat_col = []\n",
    "for i in df.dtypes.index:\n",
    "    if df.dtypes[i] == \"object\":\n",
    "        cat_col.append(i)\n",
    "print(\"Categorical columns:\", cat_col)\n",
    "print(\"\\n\")\n"
   ]
  },
  {
   "cell_type": "markdown",
   "id": "7bceb92b",
   "metadata": {},
   "source": [
    "We can see there are many object data present in our dataset. Let's change it to numerical."
   ]
  },
  {
   "cell_type": "code",
   "execution_count": 13,
   "id": "b5d44bfb",
   "metadata": {},
   "outputs": [
    {
     "data": {
      "text/plain": [
       "array(['female', 'male'], dtype=object)"
      ]
     },
     "execution_count": 13,
     "metadata": {},
     "output_type": "execute_result"
    }
   ],
   "source": [
    "df['sex'].unique()"
   ]
  },
  {
   "cell_type": "code",
   "execution_count": 14,
   "id": "1d04c15d",
   "metadata": {},
   "outputs": [
    {
     "data": {
      "text/plain": [
       "0       0\n",
       "1       1\n",
       "2       1\n",
       "3       1\n",
       "4       1\n",
       "       ..\n",
       "1333    1\n",
       "1334    0\n",
       "1335    0\n",
       "1336    0\n",
       "1337    0\n",
       "Name: sex, Length: 1338, dtype: int64"
      ]
     },
     "execution_count": 14,
     "metadata": {},
     "output_type": "execute_result"
    }
   ],
   "source": [
    "df['sex'] = df['sex'].map({'female':0, 'male':1})\n",
    "df['sex']"
   ]
  },
  {
   "cell_type": "code",
   "execution_count": 15,
   "id": "1775e622",
   "metadata": {},
   "outputs": [
    {
     "data": {
      "text/plain": [
       "array(['yes', 'no'], dtype=object)"
      ]
     },
     "execution_count": 15,
     "metadata": {},
     "output_type": "execute_result"
    }
   ],
   "source": [
    "df['smoker'].unique()"
   ]
  },
  {
   "cell_type": "code",
   "execution_count": 16,
   "id": "4cff6412",
   "metadata": {},
   "outputs": [
    {
     "data": {
      "text/plain": [
       "0       0\n",
       "1       1\n",
       "2       1\n",
       "3       1\n",
       "4       1\n",
       "       ..\n",
       "1333    1\n",
       "1334    1\n",
       "1335    1\n",
       "1336    1\n",
       "1337    0\n",
       "Name: smoker, Length: 1338, dtype: int64"
      ]
     },
     "execution_count": 16,
     "metadata": {},
     "output_type": "execute_result"
    }
   ],
   "source": [
    "df['smoker'] = df['smoker'].map({'yes':0, 'no':1})\n",
    "df['smoker']"
   ]
  },
  {
   "cell_type": "code",
   "execution_count": 17,
   "id": "c512a4d4",
   "metadata": {},
   "outputs": [
    {
     "data": {
      "text/plain": [
       "array(['southwest', 'southeast', 'northwest', 'northeast'], dtype=object)"
      ]
     },
     "execution_count": 17,
     "metadata": {},
     "output_type": "execute_result"
    }
   ],
   "source": [
    "df['region'].unique()"
   ]
  },
  {
   "cell_type": "code",
   "execution_count": 18,
   "id": "a17b5a50",
   "metadata": {},
   "outputs": [
    {
     "data": {
      "text/plain": [
       "0       0\n",
       "1       1\n",
       "2       1\n",
       "3       3\n",
       "4       3\n",
       "       ..\n",
       "1333    3\n",
       "1334    2\n",
       "1335    1\n",
       "1336    0\n",
       "1337    3\n",
       "Name: region, Length: 1338, dtype: int64"
      ]
     },
     "execution_count": 18,
     "metadata": {},
     "output_type": "execute_result"
    }
   ],
   "source": [
    "df['region'] = df['region'].map({'southwest':0, 'southeast':1, 'northeast':2, 'northwest':3})\n",
    "df['region']"
   ]
  },
  {
   "cell_type": "code",
   "execution_count": 19,
   "id": "aa66dba3",
   "metadata": {},
   "outputs": [
    {
     "data": {
      "text/html": [
       "<div>\n",
       "<style scoped>\n",
       "    .dataframe tbody tr th:only-of-type {\n",
       "        vertical-align: middle;\n",
       "    }\n",
       "\n",
       "    .dataframe tbody tr th {\n",
       "        vertical-align: top;\n",
       "    }\n",
       "\n",
       "    .dataframe thead th {\n",
       "        text-align: right;\n",
       "    }\n",
       "</style>\n",
       "<table border=\"1\" class=\"dataframe\">\n",
       "  <thead>\n",
       "    <tr style=\"text-align: right;\">\n",
       "      <th></th>\n",
       "      <th>age</th>\n",
       "      <th>sex</th>\n",
       "      <th>bmi</th>\n",
       "      <th>children</th>\n",
       "      <th>smoker</th>\n",
       "      <th>region</th>\n",
       "      <th>charges</th>\n",
       "    </tr>\n",
       "  </thead>\n",
       "  <tbody>\n",
       "    <tr>\n",
       "      <th>0</th>\n",
       "      <td>19</td>\n",
       "      <td>0</td>\n",
       "      <td>27.900</td>\n",
       "      <td>0</td>\n",
       "      <td>0</td>\n",
       "      <td>0</td>\n",
       "      <td>16884.92400</td>\n",
       "    </tr>\n",
       "    <tr>\n",
       "      <th>1</th>\n",
       "      <td>18</td>\n",
       "      <td>1</td>\n",
       "      <td>33.770</td>\n",
       "      <td>1</td>\n",
       "      <td>1</td>\n",
       "      <td>1</td>\n",
       "      <td>1725.55230</td>\n",
       "    </tr>\n",
       "    <tr>\n",
       "      <th>2</th>\n",
       "      <td>28</td>\n",
       "      <td>1</td>\n",
       "      <td>33.000</td>\n",
       "      <td>3</td>\n",
       "      <td>1</td>\n",
       "      <td>1</td>\n",
       "      <td>4449.46200</td>\n",
       "    </tr>\n",
       "    <tr>\n",
       "      <th>3</th>\n",
       "      <td>33</td>\n",
       "      <td>1</td>\n",
       "      <td>22.705</td>\n",
       "      <td>0</td>\n",
       "      <td>1</td>\n",
       "      <td>3</td>\n",
       "      <td>21984.47061</td>\n",
       "    </tr>\n",
       "    <tr>\n",
       "      <th>4</th>\n",
       "      <td>32</td>\n",
       "      <td>1</td>\n",
       "      <td>28.880</td>\n",
       "      <td>0</td>\n",
       "      <td>1</td>\n",
       "      <td>3</td>\n",
       "      <td>3866.85520</td>\n",
       "    </tr>\n",
       "  </tbody>\n",
       "</table>\n",
       "</div>"
      ],
      "text/plain": [
       "   age  sex     bmi  children  smoker  region      charges\n",
       "0   19    0  27.900         0       0       0  16884.92400\n",
       "1   18    1  33.770         1       1       1   1725.55230\n",
       "2   28    1  33.000         3       1       1   4449.46200\n",
       "3   33    1  22.705         0       1       3  21984.47061\n",
       "4   32    1  28.880         0       1       3   3866.85520"
      ]
     },
     "execution_count": 19,
     "metadata": {},
     "output_type": "execute_result"
    }
   ],
   "source": [
    "df.head()"
   ]
  },
  {
   "cell_type": "markdown",
   "id": "5215676a",
   "metadata": {},
   "source": [
    "We have successfully converted our object data to numerical data. Great! Let's move ahead."
   ]
  },
  {
   "cell_type": "markdown",
   "id": "ba7aae0f",
   "metadata": {},
   "source": [
    "Charges is our target variable or label."
   ]
  },
  {
   "cell_type": "code",
   "execution_count": 20,
   "id": "002166ac",
   "metadata": {},
   "outputs": [
    {
     "data": {
      "text/html": [
       "<div>\n",
       "<style scoped>\n",
       "    .dataframe tbody tr th:only-of-type {\n",
       "        vertical-align: middle;\n",
       "    }\n",
       "\n",
       "    .dataframe tbody tr th {\n",
       "        vertical-align: top;\n",
       "    }\n",
       "\n",
       "    .dataframe thead th {\n",
       "        text-align: right;\n",
       "    }\n",
       "</style>\n",
       "<table border=\"1\" class=\"dataframe\">\n",
       "  <thead>\n",
       "    <tr style=\"text-align: right;\">\n",
       "      <th></th>\n",
       "      <th>No. of unique values</th>\n",
       "    </tr>\n",
       "  </thead>\n",
       "  <tbody>\n",
       "    <tr>\n",
       "      <th>age</th>\n",
       "      <td>47</td>\n",
       "    </tr>\n",
       "    <tr>\n",
       "      <th>sex</th>\n",
       "      <td>2</td>\n",
       "    </tr>\n",
       "    <tr>\n",
       "      <th>bmi</th>\n",
       "      <td>548</td>\n",
       "    </tr>\n",
       "    <tr>\n",
       "      <th>children</th>\n",
       "      <td>6</td>\n",
       "    </tr>\n",
       "    <tr>\n",
       "      <th>smoker</th>\n",
       "      <td>2</td>\n",
       "    </tr>\n",
       "    <tr>\n",
       "      <th>region</th>\n",
       "      <td>4</td>\n",
       "    </tr>\n",
       "    <tr>\n",
       "      <th>charges</th>\n",
       "      <td>1337</td>\n",
       "    </tr>\n",
       "  </tbody>\n",
       "</table>\n",
       "</div>"
      ],
      "text/plain": [
       "          No. of unique values\n",
       "age                         47\n",
       "sex                          2\n",
       "bmi                        548\n",
       "children                     6\n",
       "smoker                       2\n",
       "region                       4\n",
       "charges                   1337"
      ]
     },
     "execution_count": 20,
     "metadata": {},
     "output_type": "execute_result"
    }
   ],
   "source": [
    "df.nunique().to_frame('No. of unique values')"
   ]
  },
  {
   "cell_type": "markdown",
   "id": "749c3d9a",
   "metadata": {},
   "source": [
    "The data looks perfect."
   ]
  },
  {
   "cell_type": "code",
   "execution_count": 21,
   "id": "b51718fc",
   "metadata": {},
   "outputs": [
    {
     "data": {
      "text/plain": [
       "array([16884.924 ,  1725.5523,  4449.462 , ...,  1629.8335,  2007.945 ,\n",
       "       29141.3603])"
      ]
     },
     "execution_count": 21,
     "metadata": {},
     "output_type": "execute_result"
    }
   ],
   "source": [
    "#Checking unique values in target data\n",
    "df['charges'].unique()"
   ]
  },
  {
   "cell_type": "markdown",
   "id": "24ce14f8",
   "metadata": {},
   "source": [
    "### Data Visualization"
   ]
  },
  {
   "cell_type": "code",
   "execution_count": 22,
   "id": "92df3705",
   "metadata": {},
   "outputs": [
    {
     "name": "stdout",
     "output_type": "stream",
     "text": [
      "1639.56310     2\n",
      "16884.92400    1\n",
      "29330.98315    1\n",
      "2221.56445     1\n",
      "19798.05455    1\n",
      "              ..\n",
      "7345.08400     1\n",
      "26109.32905    1\n",
      "28287.89766    1\n",
      "1149.39590     1\n",
      "29141.36030    1\n",
      "Name: charges, Length: 1337, dtype: int64\n"
     ]
    },
    {
     "data": {
      "image/png": "[encoded data removed]",
      "text/plain": [
       "<Figure size 640x480 with 1 Axes>"
      ]
     },
     "metadata": {},
     "output_type": "display_data"
    }
   ],
   "source": [
    "#Visualize the no. of churned customer\n",
    "ax = sns.stripplot(x='charges', data=df)\n",
    "print(df['charges'].value_counts())\n",
    "plt.show()"
   ]
  },
  {
   "cell_type": "markdown",
   "id": "4602ffb5",
   "metadata": {},
   "source": [
    "Here, we can see most of the insurance charges are in the range of 1000 to 50000. And a least are above 50000."
   ]
  },
  {
   "cell_type": "code",
   "execution_count": 23,
   "id": "3f2c4381",
   "metadata": {},
   "outputs": [
    {
     "data": {
      "text/plain": [
       "<seaborn.axisgrid.FacetGrid at 0x1832d70ad70>"
      ]
     },
     "execution_count": 23,
     "metadata": {},
     "output_type": "execute_result"
    },
    {
     "data": {
      "image/png": "[encoded data removed]",
      "text/plain": [
       "<Figure size 500x500 with 1 Axes>"
      ]
     },
     "metadata": {},
     "output_type": "display_data"
    }
   ],
   "source": [
    "sns.lmplot(x='age', y='charges', data=df, palette='colorblind')"
   ]
  },
  {
   "cell_type": "markdown",
   "id": "57167d49",
   "metadata": {},
   "source": [
    "Here, we can see a slight positive relation between age and charges."
   ]
  },
  {
   "cell_type": "code",
   "execution_count": 24,
   "id": "b1473a5d",
   "metadata": {},
   "outputs": [
    {
     "data": {
      "text/plain": [
       "<Axes: xlabel='sex', ylabel='charges'>"
      ]
     },
     "execution_count": 24,
     "metadata": {},
     "output_type": "execute_result"
    },
    {
     "data": {
      "image/png": "[encoded data removed]",
      "text/plain": [
       "<Figure size 640x480 with 1 Axes>"
      ]
     },
     "metadata": {},
     "output_type": "display_data"
    }
   ],
   "source": [
    "sns.stripplot(x='sex', y='charges', data=df, palette='colorblind')"
   ]
  },
  {
   "cell_type": "markdown",
   "id": "b088c14a",
   "metadata": {},
   "source": [
    "We can see no difference here."
   ]
  },
  {
   "cell_type": "code",
   "execution_count": 25,
   "id": "c6621e47",
   "metadata": {},
   "outputs": [
    {
     "data": {
      "text/plain": [
       "<seaborn.axisgrid.FacetGrid at 0x1832cf6ff40>"
      ]
     },
     "execution_count": 25,
     "metadata": {},
     "output_type": "execute_result"
    },
    {
     "data": {
      "image/png": "[encoded data removed]",
      "text/plain": [
       "<Figure size 500x500 with 1 Axes>"
      ]
     },
     "metadata": {},
     "output_type": "display_data"
    }
   ],
   "source": [
    "sns.lmplot(x='bmi', y='charges', data=df, palette='colorblind')"
   ]
  },
  {
   "cell_type": "markdown",
   "id": "c17e574f",
   "metadata": {},
   "source": [
    "There is a little dependency of charges on bmi."
   ]
  },
  {
   "cell_type": "code",
   "execution_count": 26,
   "id": "303895e6",
   "metadata": {},
   "outputs": [
    {
     "data": {
      "text/plain": [
       "<Axes: xlabel='children', ylabel='charges'>"
      ]
     },
     "execution_count": 26,
     "metadata": {},
     "output_type": "execute_result"
    },
    {
     "data": {
      "image/png": "[encoded data removed]",
      "text/plain": [
       "<Figure size 640x480 with 1 Axes>"
      ]
     },
     "metadata": {},
     "output_type": "display_data"
    }
   ],
   "source": [
    "sns.stripplot(x='children', y='charges', data=df, palette='colorblind')"
   ]
  },
  {
   "cell_type": "markdown",
   "id": "cb719956",
   "metadata": {},
   "source": [
    "Here, we notice that most of the children are dependent on insurance."
   ]
  },
  {
   "cell_type": "code",
   "execution_count": 27,
   "id": "8b9d71ae",
   "metadata": {},
   "outputs": [
    {
     "data": {
      "text/plain": [
       "<Axes: xlabel='smoker', ylabel='charges'>"
      ]
     },
     "execution_count": 27,
     "metadata": {},
     "output_type": "execute_result"
    },
    {
     "data": {
      "image/png": "[encoded data removed]",
      "text/plain": [
       "<Figure size 640x480 with 1 Axes>"
      ]
     },
     "metadata": {},
     "output_type": "display_data"
    }
   ],
   "source": [
    "sns.stripplot(x='smoker', y='charges', data=df, palette='colorblind')"
   ]
  },
  {
   "cell_type": "markdown",
   "id": "c2570399",
   "metadata": {},
   "source": [
    "Here, we see that those who smoke have high insurance charges than who don't smoke."
   ]
  },
  {
   "cell_type": "code",
   "execution_count": 28,
   "id": "8c9ec545",
   "metadata": {},
   "outputs": [
    {
     "data": {
      "text/plain": [
       "<Axes: xlabel='region', ylabel='charges'>"
      ]
     },
     "execution_count": 28,
     "metadata": {},
     "output_type": "execute_result"
    },
    {
     "data": {
      "image/png": "[encoded data removed]",
      "text/plain": [
       "<Figure size 640x480 with 1 Axes>"
      ]
     },
     "metadata": {},
     "output_type": "display_data"
    }
   ],
   "source": [
    "sns.stripplot(x='region', y='charges', data=df, palette='colorblind')"
   ]
  },
  {
   "cell_type": "markdown",
   "id": "4ec317b5",
   "metadata": {},
   "source": [
    "There is no effect on charges regarding the region."
   ]
  },
  {
   "cell_type": "markdown",
   "id": "0f1d5a87",
   "metadata": {},
   "source": [
    "#### Checking for outliers"
   ]
  },
  {
   "cell_type": "code",
   "execution_count": 29,
   "id": "d9071465",
   "metadata": {},
   "outputs": [
    {
     "data": {
      "image/png": "[encoded data removed]",
      "text/plain": [
       "<Figure size 1000x600 with 4 Axes>"
      ]
     },
     "metadata": {},
     "output_type": "display_data"
    }
   ],
   "source": [
    "#Checking for outliers by box plot\n",
    "plt.figure(figsize= (10, 6), facecolor=\"white\")\n",
    "plotnumber=1\n",
    "for col in df:\n",
    "    if plotnumber<=4:\n",
    "        ax = plt.subplot(2,2,plotnumber)\n",
    "        sns.boxplot(df[col], palette = \"Set2_r\")\n",
    "        plt.xlabel(col, fontsize=15)\n",
    "        plt.yticks(rotation=0, fontsize=10)\n",
    "    plotnumber+=1\n",
    "plt.tight_layout()    "
   ]
  },
  {
   "cell_type": "code",
   "execution_count": 30,
   "id": "a581fde5",
   "metadata": {},
   "outputs": [
    {
     "data": {
      "text/plain": [
       "age         0.055673\n",
       "sex        -0.020951\n",
       "bmi         0.284047\n",
       "children    0.938380\n",
       "smoker     -1.464766\n",
       "region      0.037853\n",
       "charges     1.515880\n",
       "dtype: float64"
      ]
     },
     "execution_count": 30,
     "metadata": {},
     "output_type": "execute_result"
    }
   ],
   "source": [
    "df.skew()"
   ]
  },
  {
   "cell_type": "markdown",
   "id": "96a66000",
   "metadata": {},
   "source": [
    "The children column contains some skewness. Let's remove it. As charges is our target variable there is no need to remove skewness."
   ]
  },
  {
   "cell_type": "code",
   "execution_count": 31,
   "id": "6cef571b",
   "metadata": {},
   "outputs": [],
   "source": [
    "#Removing skewness by cube root method\n",
    "df[\"children\"] = np.cbrt(df[\"children\"])"
   ]
  },
  {
   "cell_type": "code",
   "execution_count": 32,
   "id": "0033589b",
   "metadata": {},
   "outputs": [
    {
     "data": {
      "text/plain": [
       "age         0.055673\n",
       "sex        -0.020951\n",
       "bmi         0.284047\n",
       "children   -0.097116\n",
       "smoker     -1.464766\n",
       "region      0.037853\n",
       "charges     1.515880\n",
       "dtype: float64"
      ]
     },
     "execution_count": 32,
     "metadata": {},
     "output_type": "execute_result"
    }
   ],
   "source": [
    "df.skew()"
   ]
  },
  {
   "cell_type": "markdown",
   "id": "ab2edd93",
   "metadata": {},
   "source": [
    "We have reduced the skewness. Great!"
   ]
  },
  {
   "cell_type": "code",
   "execution_count": 33,
   "id": "3cc18105",
   "metadata": {},
   "outputs": [
    {
     "data": {
      "text/html": [
       "<div>\n",
       "<style scoped>\n",
       "    .dataframe tbody tr th:only-of-type {\n",
       "        vertical-align: middle;\n",
       "    }\n",
       "\n",
       "    .dataframe tbody tr th {\n",
       "        vertical-align: top;\n",
       "    }\n",
       "\n",
       "    .dataframe thead th {\n",
       "        text-align: right;\n",
       "    }\n",
       "</style>\n",
       "<table border=\"1\" class=\"dataframe\">\n",
       "  <thead>\n",
       "    <tr style=\"text-align: right;\">\n",
       "      <th></th>\n",
       "      <th>age</th>\n",
       "      <th>sex</th>\n",
       "      <th>bmi</th>\n",
       "      <th>children</th>\n",
       "      <th>smoker</th>\n",
       "      <th>region</th>\n",
       "      <th>charges</th>\n",
       "    </tr>\n",
       "  </thead>\n",
       "  <tbody>\n",
       "    <tr>\n",
       "      <th>age</th>\n",
       "      <td>1.000000</td>\n",
       "      <td>-0.020856</td>\n",
       "      <td>0.109272</td>\n",
       "      <td>0.048919</td>\n",
       "      <td>0.025019</td>\n",
       "      <td>-0.003243</td>\n",
       "      <td>0.299008</td>\n",
       "    </tr>\n",
       "    <tr>\n",
       "      <th>sex</th>\n",
       "      <td>-0.020856</td>\n",
       "      <td>1.000000</td>\n",
       "      <td>0.046371</td>\n",
       "      <td>0.016183</td>\n",
       "      <td>-0.076185</td>\n",
       "      <td>-0.007974</td>\n",
       "      <td>0.057292</td>\n",
       "    </tr>\n",
       "    <tr>\n",
       "      <th>bmi</th>\n",
       "      <td>0.109272</td>\n",
       "      <td>0.046371</td>\n",
       "      <td>1.000000</td>\n",
       "      <td>0.016515</td>\n",
       "      <td>-0.003750</td>\n",
       "      <td>-0.156686</td>\n",
       "      <td>0.198341</td>\n",
       "    </tr>\n",
       "    <tr>\n",
       "      <th>children</th>\n",
       "      <td>0.048919</td>\n",
       "      <td>0.016183</td>\n",
       "      <td>0.016515</td>\n",
       "      <td>1.000000</td>\n",
       "      <td>-0.011829</td>\n",
       "      <td>0.008107</td>\n",
       "      <td>0.072756</td>\n",
       "    </tr>\n",
       "    <tr>\n",
       "      <th>smoker</th>\n",
       "      <td>0.025019</td>\n",
       "      <td>-0.076185</td>\n",
       "      <td>-0.003750</td>\n",
       "      <td>-0.011829</td>\n",
       "      <td>1.000000</td>\n",
       "      <td>0.013246</td>\n",
       "      <td>-0.787251</td>\n",
       "    </tr>\n",
       "    <tr>\n",
       "      <th>region</th>\n",
       "      <td>-0.003243</td>\n",
       "      <td>-0.007974</td>\n",
       "      <td>-0.156686</td>\n",
       "      <td>0.008107</td>\n",
       "      <td>0.013246</td>\n",
       "      <td>1.000000</td>\n",
       "      <td>-0.011741</td>\n",
       "    </tr>\n",
       "    <tr>\n",
       "      <th>charges</th>\n",
       "      <td>0.299008</td>\n",
       "      <td>0.057292</td>\n",
       "      <td>0.198341</td>\n",
       "      <td>0.072756</td>\n",
       "      <td>-0.787251</td>\n",
       "      <td>-0.011741</td>\n",
       "      <td>1.000000</td>\n",
       "    </tr>\n",
       "  </tbody>\n",
       "</table>\n",
       "</div>"
      ],
      "text/plain": [
       "               age       sex       bmi  children    smoker    region   charges\n",
       "age       1.000000 -0.020856  0.109272  0.048919  0.025019 -0.003243  0.299008\n",
       "sex      -0.020856  1.000000  0.046371  0.016183 -0.076185 -0.007974  0.057292\n",
       "bmi       0.109272  0.046371  1.000000  0.016515 -0.003750 -0.156686  0.198341\n",
       "children  0.048919  0.016183  0.016515  1.000000 -0.011829  0.008107  0.072756\n",
       "smoker    0.025019 -0.076185 -0.003750 -0.011829  1.000000  0.013246 -0.787251\n",
       "region   -0.003243 -0.007974 -0.156686  0.008107  0.013246  1.000000 -0.011741\n",
       "charges   0.299008  0.057292  0.198341  0.072756 -0.787251 -0.011741  1.000000"
      ]
     },
     "execution_count": 33,
     "metadata": {},
     "output_type": "execute_result"
    }
   ],
   "source": [
    "#Checking for correlation\n",
    "df.corr()"
   ]
  },
  {
   "cell_type": "code",
   "execution_count": 34,
   "id": "d6099d8e",
   "metadata": {},
   "outputs": [
    {
     "data": {
      "image/png": "[encoded data removed]",
      "text/plain": [
       "<Figure size 2500x1500 with 2 Axes>"
      ]
     },
     "metadata": {},
     "output_type": "display_data"
    }
   ],
   "source": [
    "#Plotting heatmap for correlation\n",
    "plt.figure(figsize = (25, 15))\n",
    "sns.heatmap(df.corr(), linewidths = 0.1, fmt=\".1g\", linecolor = \"black\", annot = True, cmap = \"magma\")\n",
    "#plt.yticks(rotation=0)\n",
    "plt.show()"
   ]
  },
  {
   "cell_type": "markdown",
   "id": "39934c12",
   "metadata": {},
   "source": [
    "Everything looks good. No need to remove anything. Let's move ahead."
   ]
  },
  {
   "cell_type": "markdown",
   "id": "ebdc78fa",
   "metadata": {},
   "source": [
    "### Separating features and label"
   ]
  },
  {
   "cell_type": "code",
   "execution_count": 35,
   "id": "91a216ba",
   "metadata": {},
   "outputs": [],
   "source": [
    "x = df.drop(\"charges\", axis=1)\n",
    "y = df[\"charges\"]"
   ]
  },
  {
   "cell_type": "code",
   "execution_count": 36,
   "id": "3d465eba",
   "metadata": {},
   "outputs": [
    {
     "name": "stdout",
     "output_type": "stream",
     "text": [
      "(1338, 6)\n",
      "(1338,)\n"
     ]
    }
   ],
   "source": [
    "print(x.shape)\n",
    "print(y.shape)"
   ]
  },
  {
   "cell_type": "markdown",
   "id": "2c6a8bb2",
   "metadata": {},
   "source": [
    "### Feature scaling using standard scaler"
   ]
  },
  {
   "cell_type": "code",
   "execution_count": 37,
   "id": "efaaef73",
   "metadata": {},
   "outputs": [
    {
     "data": {
      "text/html": [
       "<div>\n",
       "<style scoped>\n",
       "    .dataframe tbody tr th:only-of-type {\n",
       "        vertical-align: middle;\n",
       "    }\n",
       "\n",
       "    .dataframe tbody tr th {\n",
       "        vertical-align: top;\n",
       "    }\n",
       "\n",
       "    .dataframe thead th {\n",
       "        text-align: right;\n",
       "    }\n",
       "</style>\n",
       "<table border=\"1\" class=\"dataframe\">\n",
       "  <thead>\n",
       "    <tr style=\"text-align: right;\">\n",
       "      <th></th>\n",
       "      <th>age</th>\n",
       "      <th>sex</th>\n",
       "      <th>bmi</th>\n",
       "      <th>children</th>\n",
       "      <th>smoker</th>\n",
       "      <th>region</th>\n",
       "    </tr>\n",
       "  </thead>\n",
       "  <tbody>\n",
       "    <tr>\n",
       "      <th>0</th>\n",
       "      <td>-1.438764</td>\n",
       "      <td>-1.010519</td>\n",
       "      <td>-0.453320</td>\n",
       "      <td>-1.117604</td>\n",
       "      <td>-1.970587</td>\n",
       "      <td>-1.343746</td>\n",
       "    </tr>\n",
       "    <tr>\n",
       "      <th>1</th>\n",
       "      <td>-1.509965</td>\n",
       "      <td>0.989591</td>\n",
       "      <td>0.509621</td>\n",
       "      <td>0.502009</td>\n",
       "      <td>0.507463</td>\n",
       "      <td>-0.438898</td>\n",
       "    </tr>\n",
       "    <tr>\n",
       "      <th>2</th>\n",
       "      <td>-0.797954</td>\n",
       "      <td>0.989591</td>\n",
       "      <td>0.383307</td>\n",
       "      <td>1.218282</td>\n",
       "      <td>0.507463</td>\n",
       "      <td>-0.438898</td>\n",
       "    </tr>\n",
       "    <tr>\n",
       "      <th>3</th>\n",
       "      <td>-0.441948</td>\n",
       "      <td>0.989591</td>\n",
       "      <td>-1.305531</td>\n",
       "      <td>-1.117604</td>\n",
       "      <td>0.507463</td>\n",
       "      <td>1.370796</td>\n",
       "    </tr>\n",
       "    <tr>\n",
       "      <th>4</th>\n",
       "      <td>-0.513149</td>\n",
       "      <td>0.989591</td>\n",
       "      <td>-0.292556</td>\n",
       "      <td>-1.117604</td>\n",
       "      <td>0.507463</td>\n",
       "      <td>1.370796</td>\n",
       "    </tr>\n",
       "    <tr>\n",
       "      <th>...</th>\n",
       "      <td>...</td>\n",
       "      <td>...</td>\n",
       "      <td>...</td>\n",
       "      <td>...</td>\n",
       "      <td>...</td>\n",
       "      <td>...</td>\n",
       "    </tr>\n",
       "    <tr>\n",
       "      <th>1333</th>\n",
       "      <td>0.768473</td>\n",
       "      <td>0.989591</td>\n",
       "      <td>0.050297</td>\n",
       "      <td>1.218282</td>\n",
       "      <td>0.507463</td>\n",
       "      <td>1.370796</td>\n",
       "    </tr>\n",
       "    <tr>\n",
       "      <th>1334</th>\n",
       "      <td>-1.509965</td>\n",
       "      <td>-1.010519</td>\n",
       "      <td>0.206139</td>\n",
       "      <td>-1.117604</td>\n",
       "      <td>0.507463</td>\n",
       "      <td>0.465949</td>\n",
       "    </tr>\n",
       "    <tr>\n",
       "      <th>1335</th>\n",
       "      <td>-1.509965</td>\n",
       "      <td>-1.010519</td>\n",
       "      <td>1.014878</td>\n",
       "      <td>-1.117604</td>\n",
       "      <td>0.507463</td>\n",
       "      <td>-0.438898</td>\n",
       "    </tr>\n",
       "    <tr>\n",
       "      <th>1336</th>\n",
       "      <td>-1.296362</td>\n",
       "      <td>-1.010519</td>\n",
       "      <td>-0.797813</td>\n",
       "      <td>-1.117604</td>\n",
       "      <td>0.507463</td>\n",
       "      <td>-1.343746</td>\n",
       "    </tr>\n",
       "    <tr>\n",
       "      <th>1337</th>\n",
       "      <td>1.551686</td>\n",
       "      <td>-1.010519</td>\n",
       "      <td>-0.261388</td>\n",
       "      <td>-1.117604</td>\n",
       "      <td>-1.970587</td>\n",
       "      <td>1.370796</td>\n",
       "    </tr>\n",
       "  </tbody>\n",
       "</table>\n",
       "<p>1338 rows × 6 columns</p>\n",
       "</div>"
      ],
      "text/plain": [
       "           age       sex       bmi  children    smoker    region\n",
       "0    -1.438764 -1.010519 -0.453320 -1.117604 -1.970587 -1.343746\n",
       "1    -1.509965  0.989591  0.509621  0.502009  0.507463 -0.438898\n",
       "2    -0.797954  0.989591  0.383307  1.218282  0.507463 -0.438898\n",
       "3    -0.441948  0.989591 -1.305531 -1.117604  0.507463  1.370796\n",
       "4    -0.513149  0.989591 -0.292556 -1.117604  0.507463  1.370796\n",
       "...        ...       ...       ...       ...       ...       ...\n",
       "1333  0.768473  0.989591  0.050297  1.218282  0.507463  1.370796\n",
       "1334 -1.509965 -1.010519  0.206139 -1.117604  0.507463  0.465949\n",
       "1335 -1.509965 -1.010519  1.014878 -1.117604  0.507463 -0.438898\n",
       "1336 -1.296362 -1.010519 -0.797813 -1.117604  0.507463 -1.343746\n",
       "1337  1.551686 -1.010519 -0.261388 -1.117604 -1.970587  1.370796\n",
       "\n",
       "[1338 rows x 6 columns]"
      ]
     },
     "execution_count": 37,
     "metadata": {},
     "output_type": "execute_result"
    }
   ],
   "source": [
    "from sklearn.preprocessing import StandardScaler\n",
    "scaler = StandardScaler()\n",
    "x = pd.DataFrame(scaler.fit_transform(x), columns = x.columns)\n",
    "x"
   ]
  },
  {
   "cell_type": "markdown",
   "id": "72bd6bb6",
   "metadata": {},
   "source": [
    "We have scaled the data using standard scaler to reduce biasness."
   ]
  },
  {
   "cell_type": "code",
   "execution_count": 38,
   "id": "b53b1ca9",
   "metadata": {},
   "outputs": [
    {
     "data": {
      "text/html": [
       "<div>\n",
       "<style scoped>\n",
       "    .dataframe tbody tr th:only-of-type {\n",
       "        vertical-align: middle;\n",
       "    }\n",
       "\n",
       "    .dataframe tbody tr th {\n",
       "        vertical-align: top;\n",
       "    }\n",
       "\n",
       "    .dataframe thead th {\n",
       "        text-align: right;\n",
       "    }\n",
       "</style>\n",
       "<table border=\"1\" class=\"dataframe\">\n",
       "  <thead>\n",
       "    <tr style=\"text-align: right;\">\n",
       "      <th></th>\n",
       "      <th>VIF Values</th>\n",
       "      <th>Features</th>\n",
       "    </tr>\n",
       "  </thead>\n",
       "  <tbody>\n",
       "    <tr>\n",
       "      <th>0</th>\n",
       "      <td>1.015872</td>\n",
       "      <td>age</td>\n",
       "    </tr>\n",
       "    <tr>\n",
       "      <th>1</th>\n",
       "      <td>1.008835</td>\n",
       "      <td>sex</td>\n",
       "    </tr>\n",
       "    <tr>\n",
       "      <th>2</th>\n",
       "      <td>1.040327</td>\n",
       "      <td>bmi</td>\n",
       "    </tr>\n",
       "    <tr>\n",
       "      <th>3</th>\n",
       "      <td>1.003051</td>\n",
       "      <td>children</td>\n",
       "    </tr>\n",
       "    <tr>\n",
       "      <th>4</th>\n",
       "      <td>1.006701</td>\n",
       "      <td>smoker</td>\n",
       "    </tr>\n",
       "    <tr>\n",
       "      <th>5</th>\n",
       "      <td>1.025642</td>\n",
       "      <td>region</td>\n",
       "    </tr>\n",
       "  </tbody>\n",
       "</table>\n",
       "</div>"
      ],
      "text/plain": [
       "   VIF Values  Features\n",
       "0    1.015872       age\n",
       "1    1.008835       sex\n",
       "2    1.040327       bmi\n",
       "3    1.003051  children\n",
       "4    1.006701    smoker\n",
       "5    1.025642    region"
      ]
     },
     "execution_count": 38,
     "metadata": {},
     "output_type": "execute_result"
    }
   ],
   "source": [
    "#Checking for vif\n",
    "from statsmodels.stats.outliers_influence import variance_inflation_factor\n",
    "vif = pd.DataFrame()\n",
    "vif[\"VIF Values\"] = [variance_inflation_factor(x.values, i) for i in range(len(x.columns))]\n",
    "vif[\"Features\"] = x.columns\n",
    "vif\n"
   ]
  },
  {
   "cell_type": "markdown",
   "id": "40a49925",
   "metadata": {},
   "source": [
    "Everything is perfect with no multicollinearity. Now let's go ahead and train our model."
   ]
  },
  {
   "cell_type": "markdown",
   "id": "86e7ead8",
   "metadata": {},
   "source": [
    "### Model Training"
   ]
  },
  {
   "cell_type": "code",
   "execution_count": 39,
   "id": "350a2c61",
   "metadata": {},
   "outputs": [],
   "source": [
    "from sklearn.linear_model import LinearRegression\n",
    "from sklearn.metrics import r2_score\n",
    "from sklearn.metrics import mean_squared_error, mean_absolute_error\n",
    "from sklearn.model_selection import train_test_split\n",
    "from sklearn.linear_model import Lasso, Ridge"
   ]
  },
  {
   "cell_type": "code",
   "execution_count": 40,
   "id": "bc4e896f",
   "metadata": {},
   "outputs": [
    {
     "name": "stdout",
     "output_type": "stream",
     "text": [
      "Maximum r2 score is  0.8054616585444744 on Random_state  367\n"
     ]
    }
   ],
   "source": [
    "#Finding the best random state\n",
    "maxR2 = 0\n",
    "maxRS = 0\n",
    "for i in range(1,400):\n",
    "    x_train, x_test, y_train, y_test = train_test_split(x,y, test_size=0.25, random_state=i)\n",
    "    lr = LinearRegression()\n",
    "    lr.fit(x_train, y_train)\n",
    "    pred = lr.predict(x_test)\n",
    "    acc = r2_score(y_test, pred)\n",
    "    if acc > maxR2:\n",
    "        maxR2=acc\n",
    "        maxRS=i\n",
    "print(\"Maximum r2 score is \", maxR2, \"on Random_state \", maxRS)"
   ]
  },
  {
   "cell_type": "code",
   "execution_count": 41,
   "id": "cc7f9a74",
   "metadata": {},
   "outputs": [],
   "source": [
    "x_train, x_test, y_train, y_test = train_test_split(x, y, test_size=0.25, random_state=maxRS)"
   ]
  },
  {
   "cell_type": "code",
   "execution_count": 42,
   "id": "991b8cc1",
   "metadata": {},
   "outputs": [
    {
     "data": {
      "text/html": [
       "<div>\n",
       "<style scoped>\n",
       "    .dataframe tbody tr th:only-of-type {\n",
       "        vertical-align: middle;\n",
       "    }\n",
       "\n",
       "    .dataframe tbody tr th {\n",
       "        vertical-align: top;\n",
       "    }\n",
       "\n",
       "    .dataframe thead th {\n",
       "        text-align: right;\n",
       "    }\n",
       "</style>\n",
       "<table border=\"1\" class=\"dataframe\">\n",
       "  <thead>\n",
       "    <tr style=\"text-align: right;\">\n",
       "      <th></th>\n",
       "      <th>age</th>\n",
       "      <th>sex</th>\n",
       "      <th>bmi</th>\n",
       "      <th>children</th>\n",
       "      <th>smoker</th>\n",
       "      <th>region</th>\n",
       "    </tr>\n",
       "  </thead>\n",
       "  <tbody>\n",
       "    <tr>\n",
       "      <th>453</th>\n",
       "      <td>-1.367563</td>\n",
       "      <td>0.989591</td>\n",
       "      <td>-0.152298</td>\n",
       "      <td>-1.117604</td>\n",
       "      <td>0.507463</td>\n",
       "      <td>1.370796</td>\n",
       "    </tr>\n",
       "    <tr>\n",
       "      <th>750</th>\n",
       "      <td>-0.157143</td>\n",
       "      <td>-1.010519</td>\n",
       "      <td>-0.699387</td>\n",
       "      <td>-1.117604</td>\n",
       "      <td>-1.970587</td>\n",
       "      <td>-0.438898</td>\n",
       "    </tr>\n",
       "    <tr>\n",
       "      <th>650</th>\n",
       "      <td>0.697271</td>\n",
       "      <td>-1.010519</td>\n",
       "      <td>1.971257</td>\n",
       "      <td>0.922980</td>\n",
       "      <td>0.507463</td>\n",
       "      <td>-0.438898</td>\n",
       "    </tr>\n",
       "    <tr>\n",
       "      <th>1089</th>\n",
       "      <td>1.195680</td>\n",
       "      <td>0.989591</td>\n",
       "      <td>-1.404778</td>\n",
       "      <td>-1.117604</td>\n",
       "      <td>0.507463</td>\n",
       "      <td>-1.343746</td>\n",
       "    </tr>\n",
       "    <tr>\n",
       "      <th>999</th>\n",
       "      <td>-0.228344</td>\n",
       "      <td>-1.010519</td>\n",
       "      <td>-0.619825</td>\n",
       "      <td>-1.117604</td>\n",
       "      <td>0.507463</td>\n",
       "      <td>1.370796</td>\n",
       "    </tr>\n",
       "    <tr>\n",
       "      <th>...</th>\n",
       "      <td>...</td>\n",
       "      <td>...</td>\n",
       "      <td>...</td>\n",
       "      <td>...</td>\n",
       "      <td>...</td>\n",
       "      <td>...</td>\n",
       "    </tr>\n",
       "    <tr>\n",
       "      <th>1278</th>\n",
       "      <td>-0.014740</td>\n",
       "      <td>0.989591</td>\n",
       "      <td>-0.121130</td>\n",
       "      <td>0.502009</td>\n",
       "      <td>-1.970587</td>\n",
       "      <td>0.465949</td>\n",
       "    </tr>\n",
       "    <tr>\n",
       "      <th>5</th>\n",
       "      <td>-0.584350</td>\n",
       "      <td>-1.010519</td>\n",
       "      <td>-0.807656</td>\n",
       "      <td>-1.117604</td>\n",
       "      <td>0.507463</td>\n",
       "      <td>-0.438898</td>\n",
       "    </tr>\n",
       "    <tr>\n",
       "      <th>192</th>\n",
       "      <td>-1.011557</td>\n",
       "      <td>0.989591</td>\n",
       "      <td>-0.807656</td>\n",
       "      <td>-1.117604</td>\n",
       "      <td>0.507463</td>\n",
       "      <td>-0.438898</td>\n",
       "    </tr>\n",
       "    <tr>\n",
       "      <th>1179</th>\n",
       "      <td>-0.584350</td>\n",
       "      <td>0.989591</td>\n",
       "      <td>-0.139995</td>\n",
       "      <td>-1.117604</td>\n",
       "      <td>-1.970587</td>\n",
       "      <td>-0.438898</td>\n",
       "    </tr>\n",
       "    <tr>\n",
       "      <th>430</th>\n",
       "      <td>-1.438764</td>\n",
       "      <td>0.989591</td>\n",
       "      <td>0.399711</td>\n",
       "      <td>-1.117604</td>\n",
       "      <td>0.507463</td>\n",
       "      <td>-1.343746</td>\n",
       "    </tr>\n",
       "  </tbody>\n",
       "</table>\n",
       "<p>1003 rows × 6 columns</p>\n",
       "</div>"
      ],
      "text/plain": [
       "           age       sex       bmi  children    smoker    region\n",
       "453  -1.367563  0.989591 -0.152298 -1.117604  0.507463  1.370796\n",
       "750  -0.157143 -1.010519 -0.699387 -1.117604 -1.970587 -0.438898\n",
       "650   0.697271 -1.010519  1.971257  0.922980  0.507463 -0.438898\n",
       "1089  1.195680  0.989591 -1.404778 -1.117604  0.507463 -1.343746\n",
       "999  -0.228344 -1.010519 -0.619825 -1.117604  0.507463  1.370796\n",
       "...        ...       ...       ...       ...       ...       ...\n",
       "1278 -0.014740  0.989591 -0.121130  0.502009 -1.970587  0.465949\n",
       "5    -0.584350 -1.010519 -0.807656 -1.117604  0.507463 -0.438898\n",
       "192  -1.011557  0.989591 -0.807656 -1.117604  0.507463 -0.438898\n",
       "1179 -0.584350  0.989591 -0.139995 -1.117604 -1.970587 -0.438898\n",
       "430  -1.438764  0.989591  0.399711 -1.117604  0.507463 -1.343746\n",
       "\n",
       "[1003 rows x 6 columns]"
      ]
     },
     "execution_count": 42,
     "metadata": {},
     "output_type": "execute_result"
    }
   ],
   "source": [
    "x_train"
   ]
  },
  {
   "cell_type": "code",
   "execution_count": 43,
   "id": "d844e6c5",
   "metadata": {},
   "outputs": [
    {
     "data": {
      "text/plain": [
       "453      1769.53165\n",
       "750     19539.24300\n",
       "650      9800.88820\n",
       "1089    10577.08700\n",
       "999      5267.81815\n",
       "           ...     \n",
       "1278    22462.04375\n",
       "5        3756.62160\n",
       "192      2137.65360\n",
       "1179    19350.36890\n",
       "430     23082.95533\n",
       "Name: charges, Length: 1003, dtype: float64"
      ]
     },
     "execution_count": 43,
     "metadata": {},
     "output_type": "execute_result"
    }
   ],
   "source": [
    "y_train"
   ]
  },
  {
   "cell_type": "code",
   "execution_count": 44,
   "id": "9cee7d5b",
   "metadata": {},
   "outputs": [],
   "source": [
    "#Importing differenet regression models\n",
    "from sklearn.ensemble import RandomForestRegressor\n",
    "from sklearn.tree import DecisionTreeRegressor\n",
    "from sklearn.neighbors import KNeighborsRegressor"
   ]
  },
  {
   "cell_type": "markdown",
   "id": "043e055e",
   "metadata": {},
   "source": [
    "### Model Building"
   ]
  },
  {
   "cell_type": "code",
   "execution_count": 45,
   "id": "b62b262b",
   "metadata": {},
   "outputs": [
    {
     "name": "stdout",
     "output_type": "stream",
     "text": [
      "R2 Score: 0.8054616585444744\n",
      "R2 Score on training data: 73.03543202946543\n",
      "Mean Absolute Error: 3832.302454759185\n",
      "Mean Squared Error: 29167449.146376185\n",
      "Root Mean Squared Error: 5400.689691731621\n"
     ]
    }
   ],
   "source": [
    "lr = LinearRegression()\n",
    "lr.fit(x_train, y_train)\n",
    "pred_lr = lr.predict(x_test)\n",
    "pred_train = lr.predict(x_train)\n",
    "print('R2 Score:', r2_score(y_test, pred_lr))\n",
    "print('R2 Score on training data:', r2_score(y_train, pred_train)*100)\n",
    "print('Mean Absolute Error:', mean_absolute_error(y_test, pred_lr))\n",
    "print('Mean Squared Error:', mean_squared_error(y_test, pred_lr))\n",
    "print('Root Mean Squared Error:', np.sqrt(mean_squared_error(y_test, pred_lr)))"
   ]
  },
  {
   "cell_type": "code",
   "execution_count": 46,
   "id": "6a5ffe6f",
   "metadata": {},
   "outputs": [
    {
     "name": "stdout",
     "output_type": "stream",
     "text": [
      "R2 Score: -0.11272475436252671\n",
      "R2 Score on training data: -9.93218561199416\n",
      "Mean Absolute Error: 8188.767159541813\n",
      "Mean Squared Error: 166832627.66585633\n",
      "Root Mean Squared Error: 12916.370529907244\n"
     ]
    }
   ],
   "source": [
    "from sklearn.svm import SVR\n",
    "svc = SVR()\n",
    "svc.fit(x_train, y_train)\n",
    "pred_svc = svc.predict(x_test)\n",
    "pred_train = svc.predict(x_train)\n",
    "print('R2 Score:', r2_score(y_test, pred_svc))\n",
    "print('R2 Score on training data:', r2_score(y_train, pred_train)*100)\n",
    "print('Mean Absolute Error:', mean_absolute_error(y_test, pred_svc))\n",
    "print('Mean Squared Error:', mean_squared_error(y_test, pred_svc))\n",
    "print('Root Mean Squared Error:', np.sqrt(mean_squared_error(y_test, pred_svc)))"
   ]
  },
  {
   "cell_type": "code",
   "execution_count": 47,
   "id": "4690583b",
   "metadata": {},
   "outputs": [
    {
     "name": "stdout",
     "output_type": "stream",
     "text": [
      "R2 Score: 0.870686585796623\n",
      "R2 Score on training data: 97.39821977878142\n",
      "Mean Absolute Error: 2560.9116106875913\n",
      "Mean Squared Error: 19388169.984905295\n",
      "Root Mean Squared Error: 4403.199971033032\n"
     ]
    }
   ],
   "source": [
    "from sklearn.ensemble import RandomForestRegressor\n",
    "rf = RandomForestRegressor()\n",
    "rf.fit(x_train, y_train)\n",
    "pred_rf = rf.predict(x_test)\n",
    "pred_train = rf.predict(x_train)\n",
    "print('R2 Score:', r2_score(y_test, pred_rf))\n",
    "print('R2 Score on training data:', r2_score(y_train, pred_train)*100)\n",
    "print('Mean Absolute Error:', mean_absolute_error(y_test, pred_rf))\n",
    "print('Mean Squared Error:', mean_squared_error(y_test, pred_rf))\n",
    "print('Root Mean Squared Error:', np.sqrt(mean_squared_error(y_test, pred_rf)))\n"
   ]
  },
  {
   "cell_type": "code",
   "execution_count": 48,
   "id": "b89033f1",
   "metadata": {},
   "outputs": [
    {
     "name": "stdout",
     "output_type": "stream",
     "text": [
      "R2 Score: 0.8964994290493064\n",
      "R2 Score on training data: 89.74078917953388\n",
      "Mean Absolute Error: 2373.846761691295\n",
      "Mean Squared Error: 15518008.518209813\n",
      "Root Mean Squared Error: 3939.290357184884\n"
     ]
    }
   ],
   "source": [
    "from sklearn.ensemble import GradientBoostingRegressor\n",
    "gb = GradientBoostingRegressor()\n",
    "gb.fit(x_train, y_train)\n",
    "pred_gb = gb.predict(x_test)\n",
    "pred_train = gb.predict(x_train)\n",
    "print('R2 Score:', r2_score(y_test, pred_gb))\n",
    "print('R2 Score on training data:', r2_score(y_train, pred_train)*100)\n",
    "print('Mean Absolute Error:', mean_absolute_error(y_test, pred_gb))\n",
    "print('Mean Squared Error:', mean_squared_error(y_test, pred_gb))\n",
    "print('Root Mean Squared Error:', np.sqrt(mean_squared_error(y_test, pred_gb)))"
   ]
  },
  {
   "cell_type": "code",
   "execution_count": 49,
   "id": "9d618ffe",
   "metadata": {},
   "outputs": [
    {
     "name": "stdout",
     "output_type": "stream",
     "text": [
      "R2 Score: 0.8452692116160745\n",
      "R2 Score on training data: 86.00534518082674\n",
      "Mean Absolute Error: 3017.105506071642\n",
      "Mean Squared Error: 23199038.1320209\n",
      "Root Mean Squared Error: 4816.537981997121\n"
     ]
    }
   ],
   "source": [
    "KNN = KNeighborsRegressor()\n",
    "KNN.fit(x_train, y_train)\n",
    "pred_KNN = KNN.predict(x_test)\n",
    "pred_train = KNN.predict(x_train)\n",
    "print('R2 Score:', r2_score(y_test, pred_KNN))\n",
    "print('R2 Score on training data:', r2_score(y_train, pred_train)*100)\n",
    "print('Mean Absolute Error:', mean_absolute_error(y_test, pred_KNN))\n",
    "print('Mean Squared Error:', mean_squared_error(y_test, pred_KNN))\n",
    "print('Root Mean Squared Error:', np.sqrt(mean_squared_error(y_test, pred_KNN)))"
   ]
  },
  {
   "cell_type": "code",
   "execution_count": 50,
   "id": "c5dd70b1",
   "metadata": {
    "scrolled": true
   },
   "outputs": [
    {
     "name": "stdout",
     "output_type": "stream",
     "text": [
      "R2 Score: 0.6625183708320976\n",
      "R2 Score on training data: 99.82078595370243\n",
      "Mean Absolute Error: 3331.418243447762\n",
      "Mean Squared Error: 50599168.179098226\n",
      "Root Mean Squared Error: 7113.309228418108\n"
     ]
    }
   ],
   "source": [
    "dt = DecisionTreeRegressor()\n",
    "dt.fit(x_train, y_train)\n",
    "pred_dt = dt.predict(x_test)\n",
    "pred_train = dt.predict(x_train)\n",
    "print('R2 Score:', r2_score(y_test, pred_dt))\n",
    "print('R2 Score on training data:', r2_score(y_train, pred_train)*100)\n",
    "print('Mean Absolute Error:', mean_absolute_error(y_test, pred_dt))\n",
    "print('Mean Squared Error:', mean_squared_error(y_test, pred_dt))\n",
    "print('Root Mean Squared Error:', np.sqrt(mean_squared_error(y_test, pred_dt)))"
   ]
  },
  {
   "cell_type": "code",
   "execution_count": 51,
   "id": "bdecb875",
   "metadata": {},
   "outputs": [
    {
     "name": "stdout",
     "output_type": "stream",
     "text": [
      "R2 Score: 0.805361992274749\n",
      "R2 Score on training data: 73.0353589245537\n",
      "Mean Absolute Error: 3834.285763431118\n",
      "Mean Squared Error: 29182392.271891046\n",
      "Root Mean Squared Error: 5402.072960622713\n"
     ]
    }
   ],
   "source": [
    "ridge = Ridge()\n",
    "ridge.fit(x_train, y_train)\n",
    "pred_ridge = ridge.predict(x_test)\n",
    "pred_train = ridge.predict(x_train)\n",
    "print('R2 Score:', r2_score(y_test, pred_ridge))\n",
    "print('R2 Score on training data:', r2_score(y_train, pred_train)*100)\n",
    "print('Mean Absolute Error:', mean_absolute_error(y_test, pred_ridge))\n",
    "print('Mean Squared Error:', mean_squared_error(y_test, pred_ridge))\n",
    "print('Root Mean Squared Error:', np.sqrt(mean_squared_error(y_test, pred_ridge)))"
   ]
  },
  {
   "cell_type": "code",
   "execution_count": 52,
   "id": "40ad5e45",
   "metadata": {},
   "outputs": [
    {
     "name": "stdout",
     "output_type": "stream",
     "text": [
      "R2 Score: 0.8054606252893031\n",
      "R2 Score on training data: 73.03542787151078\n",
      "Mean Absolute Error: 3832.17664273023\n",
      "Mean Squared Error: 29167604.064000327\n",
      "Root Mean Squared Error: 5400.704034105213\n"
     ]
    }
   ],
   "source": [
    "lasso = Lasso()\n",
    "lasso.fit(x_train, y_train)\n",
    "pred_lasso = lasso.predict(x_test)\n",
    "pred_train = lasso.predict(x_train)\n",
    "print('R2 Score:', r2_score(y_test, pred_lasso))\n",
    "print('R2 Score on training data:', r2_score(y_train, pred_train)*100)\n",
    "print('Mean Absolute Error:', mean_absolute_error(y_test, pred_lasso))\n",
    "print('Mean Squared Error:', mean_squared_error(y_test, pred_lasso))\n",
    "print('Root Mean Squared Error:', np.sqrt(mean_squared_error(y_test, pred_lasso)))"
   ]
  },
  {
   "cell_type": "markdown",
   "id": "577547b2",
   "metadata": {},
   "source": [
    "From the above data we see that Gradient Boosting Regressor gives the best result i.e. 89.63%."
   ]
  },
  {
   "cell_type": "markdown",
   "id": "c3ed4a88",
   "metadata": {},
   "source": [
    "### Prediction on test data"
   ]
  },
  {
   "cell_type": "code",
   "execution_count": 53,
   "id": "63c2cc2b",
   "metadata": {},
   "outputs": [],
   "source": [
    "pred_lr = lr.predict(x_test)\n",
    "pred_sv = svc.predict(x_test)\n",
    "pred_rf = rf.predict(x_test)\n",
    "pred_gb = gb.predict(x_test)\n",
    "pred_KNN = KNN.predict(x_test)\n",
    "pred_dt = dt.predict(x_test)\n",
    "pred_ridge = ridge.predict(x_test)\n",
    "pred_lasso = lasso.predict(x_test)"
   ]
  },
  {
   "cell_type": "code",
   "execution_count": 54,
   "id": "a6c2fd3b",
   "metadata": {},
   "outputs": [],
   "source": [
    "df1 = pd.DataFrame({\"Actual\": y_test, \"LR\": pred_lr, \"SVM\":pred_sv, \"RFR\": pred_rf, \"GB\": pred_gb, \"KNN\": pred_KNN, \"DT\": pred_dt, \"Ridge\": pred_ridge, \"Lasso\": pred_lasso})"
   ]
  },
  {
   "cell_type": "code",
   "execution_count": 55,
   "id": "e78dc696",
   "metadata": {},
   "outputs": [
    {
     "data": {
      "text/html": [
       "<div>\n",
       "<style scoped>\n",
       "    .dataframe tbody tr th:only-of-type {\n",
       "        vertical-align: middle;\n",
       "    }\n",
       "\n",
       "    .dataframe tbody tr th {\n",
       "        vertical-align: top;\n",
       "    }\n",
       "\n",
       "    .dataframe thead th {\n",
       "        text-align: right;\n",
       "    }\n",
       "</style>\n",
       "<table border=\"1\" class=\"dataframe\">\n",
       "  <thead>\n",
       "    <tr style=\"text-align: right;\">\n",
       "      <th></th>\n",
       "      <th>Actual</th>\n",
       "      <th>LR</th>\n",
       "      <th>SVM</th>\n",
       "      <th>RFR</th>\n",
       "      <th>GB</th>\n",
       "      <th>KNN</th>\n",
       "      <th>DT</th>\n",
       "      <th>Ridge</th>\n",
       "      <th>Lasso</th>\n",
       "    </tr>\n",
       "  </thead>\n",
       "  <tbody>\n",
       "    <tr>\n",
       "      <th>1107</th>\n",
       "      <td>10493.94580</td>\n",
       "      <td>11064.916556</td>\n",
       "      <td>9305.905168</td>\n",
       "      <td>17326.371778</td>\n",
       "      <td>12732.206878</td>\n",
       "      <td>14830.710240</td>\n",
       "      <td>30284.64294</td>\n",
       "      <td>11066.502043</td>\n",
       "      <td>11062.238153</td>\n",
       "    </tr>\n",
       "    <tr>\n",
       "      <th>1063</th>\n",
       "      <td>6548.19505</td>\n",
       "      <td>8118.227770</td>\n",
       "      <td>9257.467662</td>\n",
       "      <td>6597.628618</td>\n",
       "      <td>7723.253294</td>\n",
       "      <td>6815.437460</td>\n",
       "      <td>6748.59120</td>\n",
       "      <td>8124.332942</td>\n",
       "      <td>8117.782798</td>\n",
       "    </tr>\n",
       "    <tr>\n",
       "      <th>1246</th>\n",
       "      <td>9101.79800</td>\n",
       "      <td>9118.101333</td>\n",
       "      <td>9282.500032</td>\n",
       "      <td>10399.837484</td>\n",
       "      <td>9935.568241</td>\n",
       "      <td>10233.909746</td>\n",
       "      <td>26140.36030</td>\n",
       "      <td>9122.216464</td>\n",
       "      <td>9118.660023</td>\n",
       "    </tr>\n",
       "    <tr>\n",
       "      <th>721</th>\n",
       "      <td>11264.54100</td>\n",
       "      <td>14324.160964</td>\n",
       "      <td>9311.932543</td>\n",
       "      <td>15207.821488</td>\n",
       "      <td>13980.372321</td>\n",
       "      <td>13916.821316</td>\n",
       "      <td>12363.54700</td>\n",
       "      <td>14325.045909</td>\n",
       "      <td>14324.447894</td>\n",
       "    </tr>\n",
       "    <tr>\n",
       "      <th>1330</th>\n",
       "      <td>12629.16560</td>\n",
       "      <td>12221.120719</td>\n",
       "      <td>9319.637622</td>\n",
       "      <td>16972.243484</td>\n",
       "      <td>15030.088615</td>\n",
       "      <td>14555.893922</td>\n",
       "      <td>25992.82104</td>\n",
       "      <td>12221.931983</td>\n",
       "      <td>12220.206476</td>\n",
       "    </tr>\n",
       "    <tr>\n",
       "      <th>...</th>\n",
       "      <td>...</td>\n",
       "      <td>...</td>\n",
       "      <td>...</td>\n",
       "      <td>...</td>\n",
       "      <td>...</td>\n",
       "      <td>...</td>\n",
       "      <td>...</td>\n",
       "      <td>...</td>\n",
       "      <td>...</td>\n",
       "    </tr>\n",
       "    <tr>\n",
       "      <th>129</th>\n",
       "      <td>6082.40500</td>\n",
       "      <td>9654.181026</td>\n",
       "      <td>9264.911270</td>\n",
       "      <td>6532.435765</td>\n",
       "      <td>6826.551418</td>\n",
       "      <td>8638.725674</td>\n",
       "      <td>6356.27070</td>\n",
       "      <td>9659.392778</td>\n",
       "      <td>9655.912960</td>\n",
       "    </tr>\n",
       "    <tr>\n",
       "      <th>510</th>\n",
       "      <td>11763.00090</td>\n",
       "      <td>13592.189719</td>\n",
       "      <td>9319.200061</td>\n",
       "      <td>12260.439122</td>\n",
       "      <td>13541.251294</td>\n",
       "      <td>12567.923918</td>\n",
       "      <td>11946.62590</td>\n",
       "      <td>13592.978757</td>\n",
       "      <td>13591.643034</td>\n",
       "    </tr>\n",
       "    <tr>\n",
       "      <th>122</th>\n",
       "      <td>2257.47525</td>\n",
       "      <td>2752.708241</td>\n",
       "      <td>9231.405997</td>\n",
       "      <td>3160.120372</td>\n",
       "      <td>3407.519821</td>\n",
       "      <td>2557.246990</td>\n",
       "      <td>2261.56880</td>\n",
       "      <td>2761.520747</td>\n",
       "      <td>2753.013518</td>\n",
       "    </tr>\n",
       "    <tr>\n",
       "      <th>112</th>\n",
       "      <td>4646.75900</td>\n",
       "      <td>6619.872578</td>\n",
       "      <td>9260.590746</td>\n",
       "      <td>13504.366371</td>\n",
       "      <td>4845.386836</td>\n",
       "      <td>7853.262730</td>\n",
       "      <td>20420.60465</td>\n",
       "      <td>6627.012400</td>\n",
       "      <td>6624.116757</td>\n",
       "    </tr>\n",
       "    <tr>\n",
       "      <th>106</th>\n",
       "      <td>2331.51900</td>\n",
       "      <td>2800.098554</td>\n",
       "      <td>9227.989938</td>\n",
       "      <td>2485.843588</td>\n",
       "      <td>4811.758020</td>\n",
       "      <td>7321.359426</td>\n",
       "      <td>2219.44510</td>\n",
       "      <td>2810.087755</td>\n",
       "      <td>2802.277712</td>\n",
       "    </tr>\n",
       "  </tbody>\n",
       "</table>\n",
       "<p>335 rows × 9 columns</p>\n",
       "</div>"
      ],
      "text/plain": [
       "           Actual            LR          SVM           RFR            GB  \\\n",
       "1107  10493.94580  11064.916556  9305.905168  17326.371778  12732.206878   \n",
       "1063   6548.19505   8118.227770  9257.467662   6597.628618   7723.253294   \n",
       "1246   9101.79800   9118.101333  9282.500032  10399.837484   9935.568241   \n",
       "721   11264.54100  14324.160964  9311.932543  15207.821488  13980.372321   \n",
       "1330  12629.16560  12221.120719  9319.637622  16972.243484  15030.088615   \n",
       "...           ...           ...          ...           ...           ...   \n",
       "129    6082.40500   9654.181026  9264.911270   6532.435765   6826.551418   \n",
       "510   11763.00090  13592.189719  9319.200061  12260.439122  13541.251294   \n",
       "122    2257.47525   2752.708241  9231.405997   3160.120372   3407.519821   \n",
       "112    4646.75900   6619.872578  9260.590746  13504.366371   4845.386836   \n",
       "106    2331.51900   2800.098554  9227.989938   2485.843588   4811.758020   \n",
       "\n",
       "               KNN           DT         Ridge         Lasso  \n",
       "1107  14830.710240  30284.64294  11066.502043  11062.238153  \n",
       "1063   6815.437460   6748.59120   8124.332942   8117.782798  \n",
       "1246  10233.909746  26140.36030   9122.216464   9118.660023  \n",
       "721   13916.821316  12363.54700  14325.045909  14324.447894  \n",
       "1330  14555.893922  25992.82104  12221.931983  12220.206476  \n",
       "...            ...          ...           ...           ...  \n",
       "129    8638.725674   6356.27070   9659.392778   9655.912960  \n",
       "510   12567.923918  11946.62590  13592.978757  13591.643034  \n",
       "122    2557.246990   2261.56880   2761.520747   2753.013518  \n",
       "112    7853.262730  20420.60465   6627.012400   6624.116757  \n",
       "106    7321.359426   2219.44510   2810.087755   2802.277712  \n",
       "\n",
       "[335 rows x 9 columns]"
      ]
     },
     "execution_count": 55,
     "metadata": {},
     "output_type": "execute_result"
    }
   ],
   "source": [
    "df1"
   ]
  },
  {
   "cell_type": "markdown",
   "id": "70ec7fde",
   "metadata": {},
   "source": [
    "### Model Evaluation"
   ]
  },
  {
   "cell_type": "markdown",
   "id": "10f57fd4",
   "metadata": {},
   "source": [
    "#### Let's check the cross validation score"
   ]
  },
  {
   "cell_type": "code",
   "execution_count": 56,
   "id": "7de3e21c",
   "metadata": {},
   "outputs": [],
   "source": [
    "from sklearn.model_selection import cross_val_score"
   ]
  },
  {
   "cell_type": "code",
   "execution_count": 57,
   "id": "4ee79052",
   "metadata": {},
   "outputs": [
    {
     "name": "stdout",
     "output_type": "stream",
     "text": [
      "[0.76134482 0.70762715 0.77711672 0.73359056 0.75420855]\n",
      "0.7467775597668844\n",
      "Difference between R2 score and cross validation score is: 5.868409877758996\n"
     ]
    }
   ],
   "source": [
    "score = cross_val_score(lr, x, y)\n",
    "print(score)\n",
    "print(score.mean())\n",
    "print(\"Difference between R2 score and cross validation score is:\", (r2_score(y_test, pred_lr) - score.mean())*100)"
   ]
  },
  {
   "cell_type": "code",
   "execution_count": 58,
   "id": "2082290c",
   "metadata": {},
   "outputs": [
    {
     "name": "stdout",
     "output_type": "stream",
     "text": [
      "[-0.11024609 -0.1071213  -0.07627649 -0.10121462 -0.10249223]\n",
      "-0.09947014527103884\n",
      "Difference between R2 score and cross validation score is: -1.3254609091487874\n"
     ]
    }
   ],
   "source": [
    "score = cross_val_score(svc, x, y)\n",
    "print(score)\n",
    "print(score.mean())\n",
    "print(\"Difference between R2 score and cross validation score is:\", (r2_score(y_test, pred_sv) - score.mean())*100)"
   ]
  },
  {
   "cell_type": "code",
   "execution_count": 59,
   "id": "9c23ded0",
   "metadata": {},
   "outputs": [
    {
     "name": "stdout",
     "output_type": "stream",
     "text": [
      "[0.85267657 0.77779606 0.87223207 0.82893577 0.8519466 ]\n",
      "0.8367174129952929\n",
      "Difference between R2 score and cross validation score is: 3.396917280133005\n"
     ]
    }
   ],
   "source": [
    "score = cross_val_score(rf, x, y)\n",
    "print(score)\n",
    "print(score.mean())\n",
    "print(\"Difference between R2 score and cross validation score is:\", (r2_score(y_test, pred_rf) - score.mean())*100)"
   ]
  },
  {
   "cell_type": "code",
   "execution_count": 60,
   "id": "cb3ead2a",
   "metadata": {},
   "outputs": [
    {
     "name": "stdout",
     "output_type": "stream",
     "text": [
      "[0.87418711 0.79625913 0.89302407 0.85166214 0.85933246]\n",
      "0.8548929807919533\n",
      "Difference between R2 score and cross validation score is: 4.160644825735305\n"
     ]
    }
   ],
   "source": [
    "score = cross_val_score(gb, x, y)\n",
    "print(score)\n",
    "print(score.mean())\n",
    "print(\"Difference between R2 score and cross validation score is:\", (r2_score(y_test, pred_gb) - score.mean())*100)"
   ]
  },
  {
   "cell_type": "code",
   "execution_count": 61,
   "id": "80edf6dc",
   "metadata": {},
   "outputs": [
    {
     "name": "stdout",
     "output_type": "stream",
     "text": [
      "[0.82084737 0.7579932  0.84324954 0.79706275 0.80811969]\n",
      "0.8054545091513606\n",
      "Difference between R2 score and cross validation score is: 3.981470246471386\n"
     ]
    }
   ],
   "source": [
    "score = cross_val_score(KNN, x, y)\n",
    "print(score)\n",
    "print(score.mean())\n",
    "print(\"Difference between R2 score and cross validation score is:\", (r2_score(y_test, pred_KNN) - score.mean())*100)"
   ]
  },
  {
   "cell_type": "code",
   "execution_count": 62,
   "id": "1d731358",
   "metadata": {},
   "outputs": [
    {
     "name": "stdout",
     "output_type": "stream",
     "text": [
      "[0.72088477 0.65563212 0.7101848  0.73043978 0.68297261]\n",
      "0.7000228152873726\n",
      "Difference between R2 score and cross validation score is: -3.750444445527501\n"
     ]
    }
   ],
   "source": [
    "score = cross_val_score(dt, x, y)\n",
    "print(score)\n",
    "print(score.mean())\n",
    "print(\"Difference between R2 score and cross validation score is:\", (r2_score(y_test, pred_dt) - score.mean())*100)"
   ]
  },
  {
   "cell_type": "code",
   "execution_count": 63,
   "id": "bf5b61b4",
   "metadata": {},
   "outputs": [
    {
     "name": "stdout",
     "output_type": "stream",
     "text": [
      "[0.76135338 0.7077355  0.77699981 0.73364675 0.75418018]\n",
      "0.7467831247459443\n",
      "Difference between R2 score and cross validation score is: 5.85788675288047\n"
     ]
    }
   ],
   "source": [
    "score = cross_val_score(ridge, x, y)\n",
    "print(score)\n",
    "print(score.mean())\n",
    "print(\"Difference between R2 score and cross validation score is:\", (r2_score(y_test, pred_ridge) - score.mean())*100)"
   ]
  },
  {
   "cell_type": "code",
   "execution_count": 64,
   "id": "13ad7190",
   "metadata": {},
   "outputs": [
    {
     "name": "stdout",
     "output_type": "stream",
     "text": [
      "[0.76134918 0.70766121 0.77709923 0.73358757 0.75421629]\n",
      "0.7467826978970835\n",
      "Difference between R2 score and cross validation score is: 5.867792739221955\n"
     ]
    }
   ],
   "source": [
    "score = cross_val_score(lasso, x, y)\n",
    "print(score)\n",
    "print(score.mean())\n",
    "print(\"Difference between R2 score and cross validation score is:\", (r2_score(y_test, pred_lasso) - score.mean())*100)"
   ]
  },
  {
   "cell_type": "markdown",
   "id": "b54e77dd",
   "metadata": {},
   "source": [
    "From R2 score we notice that Gradient Boosting Regressor gives best score of 85%."
   ]
  },
  {
   "cell_type": "markdown",
   "id": "ba7f87b3",
   "metadata": {},
   "source": [
    "### Hyper parameter tuning"
   ]
  },
  {
   "cell_type": "code",
   "execution_count": 65,
   "id": "39902817",
   "metadata": {},
   "outputs": [],
   "source": [
    "from sklearn.model_selection import GridSearchCV"
   ]
  },
  {
   "cell_type": "code",
   "execution_count": 69,
   "id": "0e38cbff",
   "metadata": {
    "scrolled": true
   },
   "outputs": [],
   "source": [
    "param = {\"n_estimators\":[5,50,250,500],\n",
    "    \"max_depth\":[1,3,5,7,9],\n",
    "    \"learning_rate\":[0.01,0.1,1,10,100]}"
   ]
  },
  {
   "cell_type": "code",
   "execution_count": 70,
   "id": "5e5c0a2e",
   "metadata": {
    "scrolled": false
   },
   "outputs": [
    {
     "data": {
      "text/html": [
       "<style>#sk-container-id-1 {color: black;background-color: white;}#sk-container-id-1 pre{padding: 0;}#sk-container-id-1 div.sk-toggleable {background-color: white;}#sk-container-id-1 label.sk-toggleable__label {cursor: pointer;display: block;width: 100%;margin-bottom: 0;padding: 0.3em;box-sizing: border-box;text-align: center;}#sk-container-id-1 label.sk-toggleable__label-arrow:before {content: \"▸\";float: left;margin-right: 0.25em;color: #696969;}#sk-container-id-1 label.sk-toggleable__label-arrow:hover:before {color: black;}#sk-container-id-1 div.sk-estimator:hover label.sk-toggleable__label-arrow:before {color: black;}#sk-container-id-1 div.sk-toggleable__content {max-height: 0;max-width: 0;overflow: hidden;text-align: left;background-color: #f0f8ff;}#sk-container-id-1 div.sk-toggleable__content pre {margin: 0.2em;color: black;border-radius: 0.25em;background-color: #f0f8ff;}#sk-container-id-1 input.sk-toggleable__control:checked~div.sk-toggleable__content {max-height: 200px;max-width: 100%;overflow: auto;}#sk-container-id-1 input.sk-toggleable__control:checked~label.sk-toggleable__label-arrow:before {content: \"▾\";}#sk-container-id-1 div.sk-estimator input.sk-toggleable__control:checked~label.sk-toggleable__label {background-color: #d4ebff;}#sk-container-id-1 div.sk-label input.sk-toggleable__control:checked~label.sk-toggleable__label {background-color: #d4ebff;}#sk-container-id-1 input.sk-hidden--visually {border: 0;clip: rect(1px 1px 1px 1px);clip: rect(1px, 1px, 1px, 1px);height: 1px;margin: -1px;overflow: hidden;padding: 0;position: absolute;width: 1px;}#sk-container-id-1 div.sk-estimator {font-family: monospace;background-color: #f0f8ff;border: 1px dotted black;border-radius: 0.25em;box-sizing: border-box;margin-bottom: 0.5em;}#sk-container-id-1 div.sk-estimator:hover {background-color: #d4ebff;}#sk-container-id-1 div.sk-parallel-item::after {content: \"\";width: 100%;border-bottom: 1px solid gray;flex-grow: 1;}#sk-container-id-1 div.sk-label:hover label.sk-toggleable__label {background-color: #d4ebff;}#sk-container-id-1 div.sk-serial::before {content: \"\";position: absolute;border-left: 1px solid gray;box-sizing: border-box;top: 0;bottom: 0;left: 50%;z-index: 0;}#sk-container-id-1 div.sk-serial {display: flex;flex-direction: column;align-items: center;background-color: white;padding-right: 0.2em;padding-left: 0.2em;position: relative;}#sk-container-id-1 div.sk-item {position: relative;z-index: 1;}#sk-container-id-1 div.sk-parallel {display: flex;align-items: stretch;justify-content: center;background-color: white;position: relative;}#sk-container-id-1 div.sk-item::before, #sk-container-id-1 div.sk-parallel-item::before {content: \"\";position: absolute;border-left: 1px solid gray;box-sizing: border-box;top: 0;bottom: 0;left: 50%;z-index: -1;}#sk-container-id-1 div.sk-parallel-item {display: flex;flex-direction: column;z-index: 1;position: relative;background-color: white;}#sk-container-id-1 div.sk-parallel-item:first-child::after {align-self: flex-end;width: 50%;}#sk-container-id-1 div.sk-parallel-item:last-child::after {align-self: flex-start;width: 50%;}#sk-container-id-1 div.sk-parallel-item:only-child::after {width: 0;}#sk-container-id-1 div.sk-dashed-wrapped {border: 1px dashed gray;margin: 0 0.4em 0.5em 0.4em;box-sizing: border-box;padding-bottom: 0.4em;background-color: white;}#sk-container-id-1 div.sk-label label {font-family: monospace;font-weight: bold;display: inline-block;line-height: 1.2em;}#sk-container-id-1 div.sk-label-container {text-align: center;}#sk-container-id-1 div.sk-container {/* jupyter's `normalize.less` sets `[hidden] { display: none; }` but bootstrap.min.css set `[hidden] { display: none !important; }` so we also need the `!important` here to be able to override the default hidden behavior on the sphinx rendered scikit-learn.org. See: https://github.com/scikit-learn/scikit-learn/issues/21755 */display: inline-block !important;position: relative;}#sk-container-id-1 div.sk-text-repr-fallback {display: none;}</style><div id=\"sk-container-id-1\" class=\"sk-top-container\"><div class=\"sk-text-repr-fallback\"><pre>GridSearchCV(cv=5, estimator=GradientBoostingRegressor(), n_jobs=-1,\n",
       "             param_grid={&#x27;learning_rate&#x27;: [0.01, 0.1, 1, 10, 100],\n",
       "                         &#x27;max_depth&#x27;: [1, 3, 5, 7, 9],\n",
       "                         &#x27;n_estimators&#x27;: [5, 50, 250, 500]})</pre><b>In a Jupyter environment, please rerun this cell to show the HTML representation or trust the notebook. <br />On GitHub, the HTML representation is unable to render, please try loading this page with nbviewer.org.</b></div><div class=\"sk-container\" hidden><div class=\"sk-item sk-dashed-wrapped\"><div class=\"sk-label-container\"><div class=\"sk-label sk-toggleable\"><input class=\"sk-toggleable__control sk-hidden--visually\" id=\"sk-estimator-id-1\" type=\"checkbox\" ><label for=\"sk-estimator-id-1\" class=\"sk-toggleable__label sk-toggleable__label-arrow\">GridSearchCV</label><div class=\"sk-toggleable__content\"><pre>GridSearchCV(cv=5, estimator=GradientBoostingRegressor(), n_jobs=-1,\n",
       "             param_grid={&#x27;learning_rate&#x27;: [0.01, 0.1, 1, 10, 100],\n",
       "                         &#x27;max_depth&#x27;: [1, 3, 5, 7, 9],\n",
       "                         &#x27;n_estimators&#x27;: [5, 50, 250, 500]})</pre></div></div></div><div class=\"sk-parallel\"><div class=\"sk-parallel-item\"><div class=\"sk-item\"><div class=\"sk-label-container\"><div class=\"sk-label sk-toggleable\"><input class=\"sk-toggleable__control sk-hidden--visually\" id=\"sk-estimator-id-2\" type=\"checkbox\" ><label for=\"sk-estimator-id-2\" class=\"sk-toggleable__label sk-toggleable__label-arrow\">estimator: GradientBoostingRegressor</label><div class=\"sk-toggleable__content\"><pre>GradientBoostingRegressor()</pre></div></div></div><div class=\"sk-serial\"><div class=\"sk-item\"><div class=\"sk-estimator sk-toggleable\"><input class=\"sk-toggleable__control sk-hidden--visually\" id=\"sk-estimator-id-3\" type=\"checkbox\" ><label for=\"sk-estimator-id-3\" class=\"sk-toggleable__label sk-toggleable__label-arrow\">GradientBoostingRegressor</label><div class=\"sk-toggleable__content\"><pre>GradientBoostingRegressor()</pre></div></div></div></div></div></div></div></div></div></div>"
      ],
      "text/plain": [
       "GridSearchCV(cv=5, estimator=GradientBoostingRegressor(), n_jobs=-1,\n",
       "             param_grid={'learning_rate': [0.01, 0.1, 1, 10, 100],\n",
       "                         'max_depth': [1, 3, 5, 7, 9],\n",
       "                         'n_estimators': [5, 50, 250, 500]})"
      ]
     },
     "execution_count": 70,
     "metadata": {},
     "output_type": "execute_result"
    }
   ],
   "source": [
    "grid = GridSearchCV(GradientBoostingRegressor(), param, cv=5, n_jobs= -1)          \n",
    "grid.fit(x_train, y_train)"
   ]
  },
  {
   "cell_type": "code",
   "execution_count": 71,
   "id": "793dc469",
   "metadata": {},
   "outputs": [
    {
     "data": {
      "text/plain": [
       "{'learning_rate': 0.01, 'max_depth': 3, 'n_estimators': 500}"
      ]
     },
     "execution_count": 71,
     "metadata": {},
     "output_type": "execute_result"
    }
   ],
   "source": [
    "grid.best_params_"
   ]
  },
  {
   "cell_type": "code",
   "execution_count": 73,
   "id": "3d8dac2f",
   "metadata": {},
   "outputs": [],
   "source": [
    "model = GradientBoostingRegressor(learning_rate=0.01, max_depth=3, n_estimators=500)"
   ]
  },
  {
   "cell_type": "code",
   "execution_count": 74,
   "id": "941ecbc0",
   "metadata": {},
   "outputs": [
    {
     "name": "stdout",
     "output_type": "stream",
     "text": [
      "R2 score: 0.9045334272280244\n",
      "Mean Absolute Error: 2297.359190152598\n",
      "Mean Squared Error: 14313458.13720737\n",
      "Root Mean Squared Error: 3783.313116463845\n"
     ]
    }
   ],
   "source": [
    "model.fit(x_train, y_train)\n",
    "pred = model.predict(x_test)\n",
    "print('R2 score:', r2_score(y_test, pred))\n",
    "print('Mean Absolute Error:', mean_absolute_error(y_test, pred))\n",
    "print('Mean Squared Error:', mean_squared_error(y_test, pred))\n",
    "print('Root Mean Squared Error:', np.sqrt(mean_squared_error(y_test, pred)))"
   ]
  },
  {
   "cell_type": "markdown",
   "id": "6254066d",
   "metadata": {},
   "source": [
    "We got R2 score 90%. That's great!"
   ]
  },
  {
   "cell_type": "markdown",
   "id": "f15a20d8",
   "metadata": {},
   "source": [
    "In this basis, Gradient Boosting Regressor works best."
   ]
  },
  {
   "cell_type": "markdown",
   "id": "8d0a6d32",
   "metadata": {},
   "source": [
    "Let's go ahead and save the model."
   ]
  },
  {
   "cell_type": "markdown",
   "id": "35eabce2",
   "metadata": {},
   "source": [
    "### Saving the model"
   ]
  },
  {
   "cell_type": "code",
   "execution_count": 75,
   "id": "3d06672d",
   "metadata": {},
   "outputs": [],
   "source": [
    "import pickle"
   ]
  },
  {
   "cell_type": "code",
   "execution_count": 77,
   "id": "167416d0",
   "metadata": {},
   "outputs": [],
   "source": [
    "filename = \"cost_insurance.pkl\"\n",
    "pickle.dump(model, open(filename, 'wb'))"
   ]
  },
  {
   "cell_type": "code",
   "execution_count": 79,
   "id": "5ba4740b",
   "metadata": {},
   "outputs": [
    {
     "name": "stdout",
     "output_type": "stream",
     "text": [
      "90.45334272280245\n"
     ]
    }
   ],
   "source": [
    "loaded_model = pickle.load(open(\"cost_insurance.pkl\", 'rb'))\n",
    "result = loaded_model.score(x_test, y_test)\n",
    "print(result*100)"
   ]
  },
  {
   "cell_type": "code",
   "execution_count": 80,
   "id": "bf217af0",
   "metadata": {},
   "outputs": [
    {
     "data": {
      "text/html": [
       "<div>\n",
       "<style scoped>\n",
       "    .dataframe tbody tr th:only-of-type {\n",
       "        vertical-align: middle;\n",
       "    }\n",
       "\n",
       "    .dataframe tbody tr th {\n",
       "        vertical-align: top;\n",
       "    }\n",
       "\n",
       "    .dataframe thead th {\n",
       "        text-align: right;\n",
       "    }\n",
       "</style>\n",
       "<table border=\"1\" class=\"dataframe\">\n",
       "  <thead>\n",
       "    <tr style=\"text-align: right;\">\n",
       "      <th></th>\n",
       "      <th>0</th>\n",
       "      <th>1</th>\n",
       "      <th>2</th>\n",
       "      <th>3</th>\n",
       "      <th>4</th>\n",
       "      <th>5</th>\n",
       "      <th>6</th>\n",
       "      <th>7</th>\n",
       "      <th>8</th>\n",
       "      <th>9</th>\n",
       "      <th>...</th>\n",
       "      <th>325</th>\n",
       "      <th>326</th>\n",
       "      <th>327</th>\n",
       "      <th>328</th>\n",
       "      <th>329</th>\n",
       "      <th>330</th>\n",
       "      <th>331</th>\n",
       "      <th>332</th>\n",
       "      <th>333</th>\n",
       "      <th>334</th>\n",
       "    </tr>\n",
       "  </thead>\n",
       "  <tbody>\n",
       "    <tr>\n",
       "      <th>Predicted</th>\n",
       "      <td>12163.563942</td>\n",
       "      <td>8030.882678</td>\n",
       "      <td>9761.814432</td>\n",
       "      <td>14064.52873</td>\n",
       "      <td>14554.432259</td>\n",
       "      <td>2801.822239</td>\n",
       "      <td>16873.656149</td>\n",
       "      <td>7556.692407</td>\n",
       "      <td>7622.088677</td>\n",
       "      <td>11753.23596</td>\n",
       "      <td>...</td>\n",
       "      <td>20617.568393</td>\n",
       "      <td>4038.059856</td>\n",
       "      <td>12485.036779</td>\n",
       "      <td>10473.456539</td>\n",
       "      <td>9803.791469</td>\n",
       "      <td>7338.293547</td>\n",
       "      <td>13495.850102</td>\n",
       "      <td>3838.619751</td>\n",
       "      <td>5244.662157</td>\n",
       "      <td>4695.628423</td>\n",
       "    </tr>\n",
       "    <tr>\n",
       "      <th>Original</th>\n",
       "      <td>10493.945800</td>\n",
       "      <td>6548.195050</td>\n",
       "      <td>9101.798000</td>\n",
       "      <td>11264.54100</td>\n",
       "      <td>12629.165600</td>\n",
       "      <td>1705.624500</td>\n",
       "      <td>13919.822900</td>\n",
       "      <td>6311.952000</td>\n",
       "      <td>6770.192500</td>\n",
       "      <td>9541.69555</td>\n",
       "      <td>...</td>\n",
       "      <td>18328.238100</td>\n",
       "      <td>25081.767840</td>\n",
       "      <td>10594.501550</td>\n",
       "      <td>8782.469000</td>\n",
       "      <td>7518.025350</td>\n",
       "      <td>6082.405000</td>\n",
       "      <td>11763.000900</td>\n",
       "      <td>2257.475250</td>\n",
       "      <td>4646.759000</td>\n",
       "      <td>2331.519000</td>\n",
       "    </tr>\n",
       "  </tbody>\n",
       "</table>\n",
       "<p>2 rows × 335 columns</p>\n",
       "</div>"
      ],
      "text/plain": [
       "                    0            1            2            3             4    \\\n",
       "Predicted  12163.563942  8030.882678  9761.814432  14064.52873  14554.432259   \n",
       "Original   10493.945800  6548.195050  9101.798000  11264.54100  12629.165600   \n",
       "\n",
       "                   5             6            7            8            9    \\\n",
       "Predicted  2801.822239  16873.656149  7556.692407  7622.088677  11753.23596   \n",
       "Original   1705.624500  13919.822900  6311.952000  6770.192500   9541.69555   \n",
       "\n",
       "           ...           325           326           327           328  \\\n",
       "Predicted  ...  20617.568393   4038.059856  12485.036779  10473.456539   \n",
       "Original   ...  18328.238100  25081.767840  10594.501550   8782.469000   \n",
       "\n",
       "                   329          330           331          332          333  \\\n",
       "Predicted  9803.791469  7338.293547  13495.850102  3838.619751  5244.662157   \n",
       "Original   7518.025350  6082.405000  11763.000900  2257.475250  4646.759000   \n",
       "\n",
       "                   334  \n",
       "Predicted  4695.628423  \n",
       "Original   2331.519000  \n",
       "\n",
       "[2 rows x 335 columns]"
      ]
     },
     "execution_count": 80,
     "metadata": {},
     "output_type": "execute_result"
    }
   ],
   "source": [
    "final = pd.DataFrame([loaded_model.predict(x_test)[:], (y_test)[:]], index=['Predicted', 'Original'])\n",
    "final"
   ]
  },
  {
   "cell_type": "markdown",
   "id": "e3adbe67",
   "metadata": {},
   "source": [
    "We have successfully completed the model with 90% R2 score. Great!"
   ]
  },
  {
   "cell_type": "code",
   "execution_count": null,
   "id": "54c37de0",
   "metadata": {},
   "outputs": [],
   "source": []
  }
 ],
 "metadata": {
  "kernelspec": {
   "display_name": "Python 3 (ipykernel)",
   "language": "python",
   "name": "python3"
  },
  "language_info": {
   "codemirror_mode": {
    "name": "ipython",
    "version": 3
   },
   "file_extension": ".py",
   "mimetype": "text/x-python",
   "name": "python",
   "nbconvert_exporter": "python",
   "pygments_lexer": "ipython3",
   "version": "3.10.9"
  }
 },
 "nbformat": 4,
 "nbformat_minor": 5
}
