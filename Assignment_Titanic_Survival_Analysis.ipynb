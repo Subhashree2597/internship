{
 "cells": [
  {
   "cell_type": "markdown",
   "id": "b92b0c22",
   "metadata": {},
   "source": [
    "## Titanic Survival Analysis"
   ]
  },
  {
   "cell_type": "markdown",
   "id": "7e9c8c65",
   "metadata": {},
   "source": [
    "### Project Description"
   ]
  },
  {
   "cell_type": "markdown",
   "id": "9c6a1105",
   "metadata": {},
   "source": [
    "The Titanic Problem is based on the sinking of the ‘Unsinkable’ ship Titanic in early 1912. It gives you information about multiple people like their ages, sexes, sibling counts, embarkment points, and whether or not they survived the disaster. \n",
    "\n",
    "To predict: Passengers survived or not"
   ]
  },
  {
   "cell_type": "markdown",
   "id": "d9d868a2",
   "metadata": {},
   "source": [
    "### Importing necessary libraries"
   ]
  },
  {
   "cell_type": "code",
   "execution_count": 1,
   "id": "813effda",
   "metadata": {},
   "outputs": [],
   "source": [
    "import pandas as pd\n",
    "import numpy as np\n",
    "import seaborn as sns\n",
    "import matplotlib.pyplot as plt\n",
    "import warnings\n",
    "warnings.filterwarnings('ignore')"
   ]
  },
  {
   "cell_type": "markdown",
   "id": "9c444e82",
   "metadata": {},
   "source": [
    "### Importing data set"
   ]
  },
  {
   "cell_type": "code",
   "execution_count": 4,
   "id": "5c1c8413",
   "metadata": {
    "scrolled": false
   },
   "outputs": [
    {
     "data": {
      "text/html": [
       "<div>\n",
       "<style scoped>\n",
       "    .dataframe tbody tr th:only-of-type {\n",
       "        vertical-align: middle;\n",
       "    }\n",
       "\n",
       "    .dataframe tbody tr th {\n",
       "        vertical-align: top;\n",
       "    }\n",
       "\n",
       "    .dataframe thead th {\n",
       "        text-align: right;\n",
       "    }\n",
       "</style>\n",
       "<table border=\"1\" class=\"dataframe\">\n",
       "  <thead>\n",
       "    <tr style=\"text-align: right;\">\n",
       "      <th></th>\n",
       "      <th>PassengerId</th>\n",
       "      <th>Survived</th>\n",
       "      <th>Pclass</th>\n",
       "      <th>Name</th>\n",
       "      <th>Sex</th>\n",
       "      <th>Age</th>\n",
       "      <th>SibSp</th>\n",
       "      <th>Parch</th>\n",
       "      <th>Ticket</th>\n",
       "      <th>Fare</th>\n",
       "      <th>Cabin</th>\n",
       "      <th>Embarked</th>\n",
       "    </tr>\n",
       "  </thead>\n",
       "  <tbody>\n",
       "    <tr>\n",
       "      <th>0</th>\n",
       "      <td>1</td>\n",
       "      <td>0</td>\n",
       "      <td>3</td>\n",
       "      <td>Braund, Mr. Owen Harris</td>\n",
       "      <td>male</td>\n",
       "      <td>22.0</td>\n",
       "      <td>1</td>\n",
       "      <td>0</td>\n",
       "      <td>A/5 21171</td>\n",
       "      <td>7.2500</td>\n",
       "      <td>NaN</td>\n",
       "      <td>S</td>\n",
       "    </tr>\n",
       "    <tr>\n",
       "      <th>1</th>\n",
       "      <td>2</td>\n",
       "      <td>1</td>\n",
       "      <td>1</td>\n",
       "      <td>Cumings, Mrs. John Bradley (Florence Briggs Th...</td>\n",
       "      <td>female</td>\n",
       "      <td>38.0</td>\n",
       "      <td>1</td>\n",
       "      <td>0</td>\n",
       "      <td>PC 17599</td>\n",
       "      <td>71.2833</td>\n",
       "      <td>C85</td>\n",
       "      <td>C</td>\n",
       "    </tr>\n",
       "    <tr>\n",
       "      <th>2</th>\n",
       "      <td>3</td>\n",
       "      <td>1</td>\n",
       "      <td>3</td>\n",
       "      <td>Heikkinen, Miss. Laina</td>\n",
       "      <td>female</td>\n",
       "      <td>26.0</td>\n",
       "      <td>0</td>\n",
       "      <td>0</td>\n",
       "      <td>STON/O2. 3101282</td>\n",
       "      <td>7.9250</td>\n",
       "      <td>NaN</td>\n",
       "      <td>S</td>\n",
       "    </tr>\n",
       "    <tr>\n",
       "      <th>3</th>\n",
       "      <td>4</td>\n",
       "      <td>1</td>\n",
       "      <td>1</td>\n",
       "      <td>Futrelle, Mrs. Jacques Heath (Lily May Peel)</td>\n",
       "      <td>female</td>\n",
       "      <td>35.0</td>\n",
       "      <td>1</td>\n",
       "      <td>0</td>\n",
       "      <td>113803</td>\n",
       "      <td>53.1000</td>\n",
       "      <td>C123</td>\n",
       "      <td>S</td>\n",
       "    </tr>\n",
       "    <tr>\n",
       "      <th>4</th>\n",
       "      <td>5</td>\n",
       "      <td>0</td>\n",
       "      <td>3</td>\n",
       "      <td>Allen, Mr. William Henry</td>\n",
       "      <td>male</td>\n",
       "      <td>35.0</td>\n",
       "      <td>0</td>\n",
       "      <td>0</td>\n",
       "      <td>373450</td>\n",
       "      <td>8.0500</td>\n",
       "      <td>NaN</td>\n",
       "      <td>S</td>\n",
       "    </tr>\n",
       "    <tr>\n",
       "      <th>...</th>\n",
       "      <td>...</td>\n",
       "      <td>...</td>\n",
       "      <td>...</td>\n",
       "      <td>...</td>\n",
       "      <td>...</td>\n",
       "      <td>...</td>\n",
       "      <td>...</td>\n",
       "      <td>...</td>\n",
       "      <td>...</td>\n",
       "      <td>...</td>\n",
       "      <td>...</td>\n",
       "      <td>...</td>\n",
       "    </tr>\n",
       "    <tr>\n",
       "      <th>886</th>\n",
       "      <td>887</td>\n",
       "      <td>0</td>\n",
       "      <td>2</td>\n",
       "      <td>Montvila, Rev. Juozas</td>\n",
       "      <td>male</td>\n",
       "      <td>27.0</td>\n",
       "      <td>0</td>\n",
       "      <td>0</td>\n",
       "      <td>211536</td>\n",
       "      <td>13.0000</td>\n",
       "      <td>NaN</td>\n",
       "      <td>S</td>\n",
       "    </tr>\n",
       "    <tr>\n",
       "      <th>887</th>\n",
       "      <td>888</td>\n",
       "      <td>1</td>\n",
       "      <td>1</td>\n",
       "      <td>Graham, Miss. Margaret Edith</td>\n",
       "      <td>female</td>\n",
       "      <td>19.0</td>\n",
       "      <td>0</td>\n",
       "      <td>0</td>\n",
       "      <td>112053</td>\n",
       "      <td>30.0000</td>\n",
       "      <td>B42</td>\n",
       "      <td>S</td>\n",
       "    </tr>\n",
       "    <tr>\n",
       "      <th>888</th>\n",
       "      <td>889</td>\n",
       "      <td>0</td>\n",
       "      <td>3</td>\n",
       "      <td>Johnston, Miss. Catherine Helen \"Carrie\"</td>\n",
       "      <td>female</td>\n",
       "      <td>NaN</td>\n",
       "      <td>1</td>\n",
       "      <td>2</td>\n",
       "      <td>W./C. 6607</td>\n",
       "      <td>23.4500</td>\n",
       "      <td>NaN</td>\n",
       "      <td>S</td>\n",
       "    </tr>\n",
       "    <tr>\n",
       "      <th>889</th>\n",
       "      <td>890</td>\n",
       "      <td>1</td>\n",
       "      <td>1</td>\n",
       "      <td>Behr, Mr. Karl Howell</td>\n",
       "      <td>male</td>\n",
       "      <td>26.0</td>\n",
       "      <td>0</td>\n",
       "      <td>0</td>\n",
       "      <td>111369</td>\n",
       "      <td>30.0000</td>\n",
       "      <td>C148</td>\n",
       "      <td>C</td>\n",
       "    </tr>\n",
       "    <tr>\n",
       "      <th>890</th>\n",
       "      <td>891</td>\n",
       "      <td>0</td>\n",
       "      <td>3</td>\n",
       "      <td>Dooley, Mr. Patrick</td>\n",
       "      <td>male</td>\n",
       "      <td>32.0</td>\n",
       "      <td>0</td>\n",
       "      <td>0</td>\n",
       "      <td>370376</td>\n",
       "      <td>7.7500</td>\n",
       "      <td>NaN</td>\n",
       "      <td>Q</td>\n",
       "    </tr>\n",
       "  </tbody>\n",
       "</table>\n",
       "<p>891 rows × 12 columns</p>\n",
       "</div>"
      ],
      "text/plain": [
       "     PassengerId  Survived  Pclass  \\\n",
       "0              1         0       3   \n",
       "1              2         1       1   \n",
       "2              3         1       3   \n",
       "3              4         1       1   \n",
       "4              5         0       3   \n",
       "..           ...       ...     ...   \n",
       "886          887         0       2   \n",
       "887          888         1       1   \n",
       "888          889         0       3   \n",
       "889          890         1       1   \n",
       "890          891         0       3   \n",
       "\n",
       "                                                  Name     Sex   Age  SibSp  \\\n",
       "0                              Braund, Mr. Owen Harris    male  22.0      1   \n",
       "1    Cumings, Mrs. John Bradley (Florence Briggs Th...  female  38.0      1   \n",
       "2                               Heikkinen, Miss. Laina  female  26.0      0   \n",
       "3         Futrelle, Mrs. Jacques Heath (Lily May Peel)  female  35.0      1   \n",
       "4                             Allen, Mr. William Henry    male  35.0      0   \n",
       "..                                                 ...     ...   ...    ...   \n",
       "886                              Montvila, Rev. Juozas    male  27.0      0   \n",
       "887                       Graham, Miss. Margaret Edith  female  19.0      0   \n",
       "888           Johnston, Miss. Catherine Helen \"Carrie\"  female   NaN      1   \n",
       "889                              Behr, Mr. Karl Howell    male  26.0      0   \n",
       "890                                Dooley, Mr. Patrick    male  32.0      0   \n",
       "\n",
       "     Parch            Ticket     Fare Cabin Embarked  \n",
       "0        0         A/5 21171   7.2500   NaN        S  \n",
       "1        0          PC 17599  71.2833   C85        C  \n",
       "2        0  STON/O2. 3101282   7.9250   NaN        S  \n",
       "3        0            113803  53.1000  C123        S  \n",
       "4        0            373450   8.0500   NaN        S  \n",
       "..     ...               ...      ...   ...      ...  \n",
       "886      0            211536  13.0000   NaN        S  \n",
       "887      0            112053  30.0000   B42        S  \n",
       "888      2        W./C. 6607  23.4500   NaN        S  \n",
       "889      0            111369  30.0000  C148        C  \n",
       "890      0            370376   7.7500   NaN        Q  \n",
       "\n",
       "[891 rows x 12 columns]"
      ]
     },
     "execution_count": 4,
     "metadata": {},
     "output_type": "execute_result"
    }
   ],
   "source": [
    "df = pd.read_csv('https://raw.githubusercontent.com/dsrscientist/dataset1/master/titanic_train.csv')\n",
    "df"
   ]
  },
  {
   "cell_type": "markdown",
   "id": "ecaf7278",
   "metadata": {},
   "source": [
    "### Columns:\n",
    "\n",
    "- PassengerId: Id of the passenger\n",
    "- Survived: passenger survived or not\n",
    "- Pclass: passenger class\n",
    "- Name: name of the passenger\n",
    "- Sex: gender of the passenger\n",
    "- Age: age of the passenger\n",
    "- SibSp: Siblings or spouse\n",
    "- Parch: family relation\n",
    "- Ticket: ticket number\n",
    "- Fare: ticket fare\n",
    "- Cabin: cabin number\n",
    "- Embarked: where the passenger mounted from"
   ]
  },
  {
   "cell_type": "markdown",
   "id": "da05349d",
   "metadata": {},
   "source": [
    "### Exploratory Data Analysis (EDA)"
   ]
  },
  {
   "cell_type": "code",
   "execution_count": 5,
   "id": "555259cd",
   "metadata": {},
   "outputs": [
    {
     "data": {
      "text/plain": [
       "(891, 12)"
      ]
     },
     "execution_count": 5,
     "metadata": {},
     "output_type": "execute_result"
    }
   ],
   "source": [
    "#Checking the shape of the data set\n",
    "df.shape"
   ]
  },
  {
   "cell_type": "markdown",
   "id": "dad474dd",
   "metadata": {},
   "source": [
    "We can see there are 891 rows and 12 columns, out of which 11 columns are our features and 1 column is our target variable."
   ]
  },
  {
   "cell_type": "code",
   "execution_count": 6,
   "id": "d368b2b0",
   "metadata": {},
   "outputs": [
    {
     "data": {
      "text/plain": [
       "PassengerId      int64\n",
       "Survived         int64\n",
       "Pclass           int64\n",
       "Name            object\n",
       "Sex             object\n",
       "Age            float64\n",
       "SibSp            int64\n",
       "Parch            int64\n",
       "Ticket          object\n",
       "Fare           float64\n",
       "Cabin           object\n",
       "Embarked        object\n",
       "dtype: object"
      ]
     },
     "execution_count": 6,
     "metadata": {},
     "output_type": "execute_result"
    }
   ],
   "source": [
    "#Checking the data type\n",
    "df.dtypes"
   ]
  },
  {
   "cell_type": "markdown",
   "id": "37fbdd24",
   "metadata": {},
   "source": [
    "Here, we can see the data types. We have 5 int data, 5 object data and 2 float data."
   ]
  },
  {
   "cell_type": "code",
   "execution_count": 7,
   "id": "fece2b9c",
   "metadata": {},
   "outputs": [
    {
     "name": "stdout",
     "output_type": "stream",
     "text": [
      "<class 'pandas.core.frame.DataFrame'>\n",
      "RangeIndex: 891 entries, 0 to 890\n",
      "Data columns (total 12 columns):\n",
      " #   Column       Non-Null Count  Dtype  \n",
      "---  ------       --------------  -----  \n",
      " 0   PassengerId  891 non-null    int64  \n",
      " 1   Survived     891 non-null    int64  \n",
      " 2   Pclass       891 non-null    int64  \n",
      " 3   Name         891 non-null    object \n",
      " 4   Sex          891 non-null    object \n",
      " 5   Age          714 non-null    float64\n",
      " 6   SibSp        891 non-null    int64  \n",
      " 7   Parch        891 non-null    int64  \n",
      " 8   Ticket       891 non-null    object \n",
      " 9   Fare         891 non-null    float64\n",
      " 10  Cabin        204 non-null    object \n",
      " 11  Embarked     889 non-null    object \n",
      "dtypes: float64(2), int64(5), object(5)\n",
      "memory usage: 83.7+ KB\n"
     ]
    }
   ],
   "source": [
    "#Checking data info\n",
    "df.info()"
   ]
  },
  {
   "cell_type": "markdown",
   "id": "b2ba5db5",
   "metadata": {},
   "source": [
    "It gives the information about the data set like column count, non-null value count, data type, memory usage, etc."
   ]
  },
  {
   "cell_type": "code",
   "execution_count": 8,
   "id": "ee090b33",
   "metadata": {},
   "outputs": [
    {
     "data": {
      "text/html": [
       "<div>\n",
       "<style scoped>\n",
       "    .dataframe tbody tr th:only-of-type {\n",
       "        vertical-align: middle;\n",
       "    }\n",
       "\n",
       "    .dataframe tbody tr th {\n",
       "        vertical-align: top;\n",
       "    }\n",
       "\n",
       "    .dataframe thead th {\n",
       "        text-align: right;\n",
       "    }\n",
       "</style>\n",
       "<table border=\"1\" class=\"dataframe\">\n",
       "  <thead>\n",
       "    <tr style=\"text-align: right;\">\n",
       "      <th></th>\n",
       "      <th>PassengerId</th>\n",
       "      <th>Survived</th>\n",
       "      <th>Pclass</th>\n",
       "      <th>Age</th>\n",
       "      <th>SibSp</th>\n",
       "      <th>Parch</th>\n",
       "      <th>Fare</th>\n",
       "    </tr>\n",
       "  </thead>\n",
       "  <tbody>\n",
       "    <tr>\n",
       "      <th>count</th>\n",
       "      <td>891.000000</td>\n",
       "      <td>891.000000</td>\n",
       "      <td>891.000000</td>\n",
       "      <td>714.000000</td>\n",
       "      <td>891.000000</td>\n",
       "      <td>891.000000</td>\n",
       "      <td>891.000000</td>\n",
       "    </tr>\n",
       "    <tr>\n",
       "      <th>mean</th>\n",
       "      <td>446.000000</td>\n",
       "      <td>0.383838</td>\n",
       "      <td>2.308642</td>\n",
       "      <td>29.699118</td>\n",
       "      <td>0.523008</td>\n",
       "      <td>0.381594</td>\n",
       "      <td>32.204208</td>\n",
       "    </tr>\n",
       "    <tr>\n",
       "      <th>std</th>\n",
       "      <td>257.353842</td>\n",
       "      <td>0.486592</td>\n",
       "      <td>0.836071</td>\n",
       "      <td>14.526497</td>\n",
       "      <td>1.102743</td>\n",
       "      <td>0.806057</td>\n",
       "      <td>49.693429</td>\n",
       "    </tr>\n",
       "    <tr>\n",
       "      <th>min</th>\n",
       "      <td>1.000000</td>\n",
       "      <td>0.000000</td>\n",
       "      <td>1.000000</td>\n",
       "      <td>0.420000</td>\n",
       "      <td>0.000000</td>\n",
       "      <td>0.000000</td>\n",
       "      <td>0.000000</td>\n",
       "    </tr>\n",
       "    <tr>\n",
       "      <th>25%</th>\n",
       "      <td>223.500000</td>\n",
       "      <td>0.000000</td>\n",
       "      <td>2.000000</td>\n",
       "      <td>20.125000</td>\n",
       "      <td>0.000000</td>\n",
       "      <td>0.000000</td>\n",
       "      <td>7.910400</td>\n",
       "    </tr>\n",
       "    <tr>\n",
       "      <th>50%</th>\n",
       "      <td>446.000000</td>\n",
       "      <td>0.000000</td>\n",
       "      <td>3.000000</td>\n",
       "      <td>28.000000</td>\n",
       "      <td>0.000000</td>\n",
       "      <td>0.000000</td>\n",
       "      <td>14.454200</td>\n",
       "    </tr>\n",
       "    <tr>\n",
       "      <th>75%</th>\n",
       "      <td>668.500000</td>\n",
       "      <td>1.000000</td>\n",
       "      <td>3.000000</td>\n",
       "      <td>38.000000</td>\n",
       "      <td>1.000000</td>\n",
       "      <td>0.000000</td>\n",
       "      <td>31.000000</td>\n",
       "    </tr>\n",
       "    <tr>\n",
       "      <th>max</th>\n",
       "      <td>891.000000</td>\n",
       "      <td>1.000000</td>\n",
       "      <td>3.000000</td>\n",
       "      <td>80.000000</td>\n",
       "      <td>8.000000</td>\n",
       "      <td>6.000000</td>\n",
       "      <td>512.329200</td>\n",
       "    </tr>\n",
       "  </tbody>\n",
       "</table>\n",
       "</div>"
      ],
      "text/plain": [
       "       PassengerId    Survived      Pclass         Age       SibSp  \\\n",
       "count   891.000000  891.000000  891.000000  714.000000  891.000000   \n",
       "mean    446.000000    0.383838    2.308642   29.699118    0.523008   \n",
       "std     257.353842    0.486592    0.836071   14.526497    1.102743   \n",
       "min       1.000000    0.000000    1.000000    0.420000    0.000000   \n",
       "25%     223.500000    0.000000    2.000000   20.125000    0.000000   \n",
       "50%     446.000000    0.000000    3.000000   28.000000    0.000000   \n",
       "75%     668.500000    1.000000    3.000000   38.000000    1.000000   \n",
       "max     891.000000    1.000000    3.000000   80.000000    8.000000   \n",
       "\n",
       "            Parch        Fare  \n",
       "count  891.000000  891.000000  \n",
       "mean     0.381594   32.204208  \n",
       "std      0.806057   49.693429  \n",
       "min      0.000000    0.000000  \n",
       "25%      0.000000    7.910400  \n",
       "50%      0.000000   14.454200  \n",
       "75%      0.000000   31.000000  \n",
       "max      6.000000  512.329200  "
      ]
     },
     "execution_count": 8,
     "metadata": {},
     "output_type": "execute_result"
    }
   ],
   "source": [
    "df.describe()"
   ]
  },
  {
   "cell_type": "markdown",
   "id": "d838e802",
   "metadata": {},
   "source": [
    "It gives the statistical information about the data set."
   ]
  },
  {
   "cell_type": "code",
   "execution_count": 9,
   "id": "908d22bf",
   "metadata": {},
   "outputs": [
    {
     "data": {
      "text/plain": [
       "PassengerId      0\n",
       "Survived         0\n",
       "Pclass           0\n",
       "Name             0\n",
       "Sex              0\n",
       "Age            177\n",
       "SibSp            0\n",
       "Parch            0\n",
       "Ticket           0\n",
       "Fare             0\n",
       "Cabin          687\n",
       "Embarked         2\n",
       "dtype: int64"
      ]
     },
     "execution_count": 9,
     "metadata": {},
     "output_type": "execute_result"
    }
   ],
   "source": [
    "#Checking for null values\n",
    "df.isnull().sum()"
   ]
  },
  {
   "cell_type": "markdown",
   "id": "5374137c",
   "metadata": {},
   "source": [
    "Here, we can see there are some null values present in age, cabin and embarked columns. Let's visualize it."
   ]
  },
  {
   "cell_type": "code",
   "execution_count": 10,
   "id": "81b37d28",
   "metadata": {},
   "outputs": [
    {
     "data": {
      "text/plain": [
       "<Axes: >"
      ]
     },
     "execution_count": 10,
     "metadata": {},
     "output_type": "execute_result"
    },
    {
     "data": {
      "image/png": "[encoded data removed]",
      "text/plain": [
       "<Figure size 640x480 with 2 Axes>"
      ]
     },
     "metadata": {},
     "output_type": "display_data"
    }
   ],
   "source": [
    "#Visualizing using heatmap\n",
    "sns.heatmap(df.isnull())"
   ]
  },
  {
   "cell_type": "markdown",
   "id": "9370d0bf",
   "metadata": {},
   "source": [
    "We can see a lot of data is missing. Let's deal with them."
   ]
  },
  {
   "cell_type": "code",
   "execution_count": 11,
   "id": "9fd47605",
   "metadata": {},
   "outputs": [
    {
     "data": {
      "text/plain": [
       "0      22.000000\n",
       "1      38.000000\n",
       "2      26.000000\n",
       "3      35.000000\n",
       "4      35.000000\n",
       "         ...    \n",
       "886    27.000000\n",
       "887    19.000000\n",
       "888    29.699118\n",
       "889    26.000000\n",
       "890    32.000000\n",
       "Name: Age, Length: 891, dtype: float64"
      ]
     },
     "execution_count": 11,
     "metadata": {},
     "output_type": "execute_result"
    }
   ],
   "source": [
    "#Let's fill the null values of Age column with mean\n",
    "df['Age'] = df['Age'].fillna(df['Age'].mean())\n",
    "df['Age']"
   ]
  },
  {
   "cell_type": "markdown",
   "id": "ac178191",
   "metadata": {},
   "source": [
    "We have removed the null values from the Age column."
   ]
  },
  {
   "cell_type": "markdown",
   "id": "3dcd1fdd",
   "metadata": {},
   "source": [
    "Since there are data which will not be useful later, let's just drop them."
   ]
  },
  {
   "cell_type": "code",
   "execution_count": 12,
   "id": "3a4bb094",
   "metadata": {},
   "outputs": [
    {
     "data": {
      "text/html": [
       "<div>\n",
       "<style scoped>\n",
       "    .dataframe tbody tr th:only-of-type {\n",
       "        vertical-align: middle;\n",
       "    }\n",
       "\n",
       "    .dataframe tbody tr th {\n",
       "        vertical-align: top;\n",
       "    }\n",
       "\n",
       "    .dataframe thead th {\n",
       "        text-align: right;\n",
       "    }\n",
       "</style>\n",
       "<table border=\"1\" class=\"dataframe\">\n",
       "  <thead>\n",
       "    <tr style=\"text-align: right;\">\n",
       "      <th></th>\n",
       "      <th>Survived</th>\n",
       "      <th>Pclass</th>\n",
       "      <th>Sex</th>\n",
       "      <th>Age</th>\n",
       "      <th>SibSp</th>\n",
       "      <th>Parch</th>\n",
       "      <th>Fare</th>\n",
       "      <th>Embarked</th>\n",
       "    </tr>\n",
       "  </thead>\n",
       "  <tbody>\n",
       "    <tr>\n",
       "      <th>0</th>\n",
       "      <td>0</td>\n",
       "      <td>3</td>\n",
       "      <td>male</td>\n",
       "      <td>22.000000</td>\n",
       "      <td>1</td>\n",
       "      <td>0</td>\n",
       "      <td>7.2500</td>\n",
       "      <td>S</td>\n",
       "    </tr>\n",
       "    <tr>\n",
       "      <th>1</th>\n",
       "      <td>1</td>\n",
       "      <td>1</td>\n",
       "      <td>female</td>\n",
       "      <td>38.000000</td>\n",
       "      <td>1</td>\n",
       "      <td>0</td>\n",
       "      <td>71.2833</td>\n",
       "      <td>C</td>\n",
       "    </tr>\n",
       "    <tr>\n",
       "      <th>2</th>\n",
       "      <td>1</td>\n",
       "      <td>3</td>\n",
       "      <td>female</td>\n",
       "      <td>26.000000</td>\n",
       "      <td>0</td>\n",
       "      <td>0</td>\n",
       "      <td>7.9250</td>\n",
       "      <td>S</td>\n",
       "    </tr>\n",
       "    <tr>\n",
       "      <th>3</th>\n",
       "      <td>1</td>\n",
       "      <td>1</td>\n",
       "      <td>female</td>\n",
       "      <td>35.000000</td>\n",
       "      <td>1</td>\n",
       "      <td>0</td>\n",
       "      <td>53.1000</td>\n",
       "      <td>S</td>\n",
       "    </tr>\n",
       "    <tr>\n",
       "      <th>4</th>\n",
       "      <td>0</td>\n",
       "      <td>3</td>\n",
       "      <td>male</td>\n",
       "      <td>35.000000</td>\n",
       "      <td>0</td>\n",
       "      <td>0</td>\n",
       "      <td>8.0500</td>\n",
       "      <td>S</td>\n",
       "    </tr>\n",
       "    <tr>\n",
       "      <th>...</th>\n",
       "      <td>...</td>\n",
       "      <td>...</td>\n",
       "      <td>...</td>\n",
       "      <td>...</td>\n",
       "      <td>...</td>\n",
       "      <td>...</td>\n",
       "      <td>...</td>\n",
       "      <td>...</td>\n",
       "    </tr>\n",
       "    <tr>\n",
       "      <th>886</th>\n",
       "      <td>0</td>\n",
       "      <td>2</td>\n",
       "      <td>male</td>\n",
       "      <td>27.000000</td>\n",
       "      <td>0</td>\n",
       "      <td>0</td>\n",
       "      <td>13.0000</td>\n",
       "      <td>S</td>\n",
       "    </tr>\n",
       "    <tr>\n",
       "      <th>887</th>\n",
       "      <td>1</td>\n",
       "      <td>1</td>\n",
       "      <td>female</td>\n",
       "      <td>19.000000</td>\n",
       "      <td>0</td>\n",
       "      <td>0</td>\n",
       "      <td>30.0000</td>\n",
       "      <td>S</td>\n",
       "    </tr>\n",
       "    <tr>\n",
       "      <th>888</th>\n",
       "      <td>0</td>\n",
       "      <td>3</td>\n",
       "      <td>female</td>\n",
       "      <td>29.699118</td>\n",
       "      <td>1</td>\n",
       "      <td>2</td>\n",
       "      <td>23.4500</td>\n",
       "      <td>S</td>\n",
       "    </tr>\n",
       "    <tr>\n",
       "      <th>889</th>\n",
       "      <td>1</td>\n",
       "      <td>1</td>\n",
       "      <td>male</td>\n",
       "      <td>26.000000</td>\n",
       "      <td>0</td>\n",
       "      <td>0</td>\n",
       "      <td>30.0000</td>\n",
       "      <td>C</td>\n",
       "    </tr>\n",
       "    <tr>\n",
       "      <th>890</th>\n",
       "      <td>0</td>\n",
       "      <td>3</td>\n",
       "      <td>male</td>\n",
       "      <td>32.000000</td>\n",
       "      <td>0</td>\n",
       "      <td>0</td>\n",
       "      <td>7.7500</td>\n",
       "      <td>Q</td>\n",
       "    </tr>\n",
       "  </tbody>\n",
       "</table>\n",
       "<p>891 rows × 8 columns</p>\n",
       "</div>"
      ],
      "text/plain": [
       "     Survived  Pclass     Sex        Age  SibSp  Parch     Fare Embarked\n",
       "0           0       3    male  22.000000      1      0   7.2500        S\n",
       "1           1       1  female  38.000000      1      0  71.2833        C\n",
       "2           1       3  female  26.000000      0      0   7.9250        S\n",
       "3           1       1  female  35.000000      1      0  53.1000        S\n",
       "4           0       3    male  35.000000      0      0   8.0500        S\n",
       "..        ...     ...     ...        ...    ...    ...      ...      ...\n",
       "886         0       2    male  27.000000      0      0  13.0000        S\n",
       "887         1       1  female  19.000000      0      0  30.0000        S\n",
       "888         0       3  female  29.699118      1      2  23.4500        S\n",
       "889         1       1    male  26.000000      0      0  30.0000        C\n",
       "890         0       3    male  32.000000      0      0   7.7500        Q\n",
       "\n",
       "[891 rows x 8 columns]"
      ]
     },
     "execution_count": 12,
     "metadata": {},
     "output_type": "execute_result"
    }
   ],
   "source": [
    "df1 = df.drop(['PassengerId','Name', 'Ticket', 'Cabin'], axis=1)\n",
    "df1"
   ]
  },
  {
   "cell_type": "markdown",
   "id": "ddd53421",
   "metadata": {},
   "source": [
    "We have successfully dropped those data. Let's move ahead."
   ]
  },
  {
   "cell_type": "code",
   "execution_count": 13,
   "id": "2085f5cd",
   "metadata": {},
   "outputs": [
    {
     "data": {
      "text/plain": [
       "Survived    0\n",
       "Pclass      0\n",
       "Sex         0\n",
       "Age         0\n",
       "SibSp       0\n",
       "Parch       0\n",
       "Fare        0\n",
       "Embarked    2\n",
       "dtype: int64"
      ]
     },
     "execution_count": 13,
     "metadata": {},
     "output_type": "execute_result"
    }
   ],
   "source": [
    "df1.isnull().sum()"
   ]
  },
  {
   "cell_type": "markdown",
   "id": "26bc0027",
   "metadata": {},
   "source": [
    "Since Embarked has 2 null values and as it is categorical let's just convert it into numerical values."
   ]
  },
  {
   "cell_type": "code",
   "execution_count": 14,
   "id": "59556254",
   "metadata": {},
   "outputs": [],
   "source": [
    "from sklearn.preprocessing import LabelEncoder\n",
    "lab_enc = LabelEncoder()"
   ]
  },
  {
   "cell_type": "code",
   "execution_count": 15,
   "id": "d74b716d",
   "metadata": {},
   "outputs": [],
   "source": [
    "#Converting Embarked column data into numerical data\n",
    "df1['Embarked'] = lab_enc.fit_transform(df1['Embarked'])\n",
    "\n",
    "#Converting Sex Column data into numerical data\n",
    "df1['Sex'] = lab_enc.fit_transform(df1['Sex'])"
   ]
  },
  {
   "cell_type": "code",
   "execution_count": 16,
   "id": "e3123687",
   "metadata": {},
   "outputs": [
    {
     "data": {
      "text/html": [
       "<div>\n",
       "<style scoped>\n",
       "    .dataframe tbody tr th:only-of-type {\n",
       "        vertical-align: middle;\n",
       "    }\n",
       "\n",
       "    .dataframe tbody tr th {\n",
       "        vertical-align: top;\n",
       "    }\n",
       "\n",
       "    .dataframe thead th {\n",
       "        text-align: right;\n",
       "    }\n",
       "</style>\n",
       "<table border=\"1\" class=\"dataframe\">\n",
       "  <thead>\n",
       "    <tr style=\"text-align: right;\">\n",
       "      <th></th>\n",
       "      <th>Survived</th>\n",
       "      <th>Pclass</th>\n",
       "      <th>Sex</th>\n",
       "      <th>Age</th>\n",
       "      <th>SibSp</th>\n",
       "      <th>Parch</th>\n",
       "      <th>Fare</th>\n",
       "      <th>Embarked</th>\n",
       "    </tr>\n",
       "  </thead>\n",
       "  <tbody>\n",
       "    <tr>\n",
       "      <th>0</th>\n",
       "      <td>0</td>\n",
       "      <td>3</td>\n",
       "      <td>1</td>\n",
       "      <td>22.000000</td>\n",
       "      <td>1</td>\n",
       "      <td>0</td>\n",
       "      <td>7.2500</td>\n",
       "      <td>2</td>\n",
       "    </tr>\n",
       "    <tr>\n",
       "      <th>1</th>\n",
       "      <td>1</td>\n",
       "      <td>1</td>\n",
       "      <td>0</td>\n",
       "      <td>38.000000</td>\n",
       "      <td>1</td>\n",
       "      <td>0</td>\n",
       "      <td>71.2833</td>\n",
       "      <td>0</td>\n",
       "    </tr>\n",
       "    <tr>\n",
       "      <th>2</th>\n",
       "      <td>1</td>\n",
       "      <td>3</td>\n",
       "      <td>0</td>\n",
       "      <td>26.000000</td>\n",
       "      <td>0</td>\n",
       "      <td>0</td>\n",
       "      <td>7.9250</td>\n",
       "      <td>2</td>\n",
       "    </tr>\n",
       "    <tr>\n",
       "      <th>3</th>\n",
       "      <td>1</td>\n",
       "      <td>1</td>\n",
       "      <td>0</td>\n",
       "      <td>35.000000</td>\n",
       "      <td>1</td>\n",
       "      <td>0</td>\n",
       "      <td>53.1000</td>\n",
       "      <td>2</td>\n",
       "    </tr>\n",
       "    <tr>\n",
       "      <th>4</th>\n",
       "      <td>0</td>\n",
       "      <td>3</td>\n",
       "      <td>1</td>\n",
       "      <td>35.000000</td>\n",
       "      <td>0</td>\n",
       "      <td>0</td>\n",
       "      <td>8.0500</td>\n",
       "      <td>2</td>\n",
       "    </tr>\n",
       "    <tr>\n",
       "      <th>5</th>\n",
       "      <td>0</td>\n",
       "      <td>3</td>\n",
       "      <td>1</td>\n",
       "      <td>29.699118</td>\n",
       "      <td>0</td>\n",
       "      <td>0</td>\n",
       "      <td>8.4583</td>\n",
       "      <td>1</td>\n",
       "    </tr>\n",
       "    <tr>\n",
       "      <th>6</th>\n",
       "      <td>0</td>\n",
       "      <td>1</td>\n",
       "      <td>1</td>\n",
       "      <td>54.000000</td>\n",
       "      <td>0</td>\n",
       "      <td>0</td>\n",
       "      <td>51.8625</td>\n",
       "      <td>2</td>\n",
       "    </tr>\n",
       "    <tr>\n",
       "      <th>7</th>\n",
       "      <td>0</td>\n",
       "      <td>3</td>\n",
       "      <td>1</td>\n",
       "      <td>2.000000</td>\n",
       "      <td>3</td>\n",
       "      <td>1</td>\n",
       "      <td>21.0750</td>\n",
       "      <td>2</td>\n",
       "    </tr>\n",
       "    <tr>\n",
       "      <th>8</th>\n",
       "      <td>1</td>\n",
       "      <td>3</td>\n",
       "      <td>0</td>\n",
       "      <td>27.000000</td>\n",
       "      <td>0</td>\n",
       "      <td>2</td>\n",
       "      <td>11.1333</td>\n",
       "      <td>2</td>\n",
       "    </tr>\n",
       "    <tr>\n",
       "      <th>9</th>\n",
       "      <td>1</td>\n",
       "      <td>2</td>\n",
       "      <td>0</td>\n",
       "      <td>14.000000</td>\n",
       "      <td>1</td>\n",
       "      <td>0</td>\n",
       "      <td>30.0708</td>\n",
       "      <td>0</td>\n",
       "    </tr>\n",
       "  </tbody>\n",
       "</table>\n",
       "</div>"
      ],
      "text/plain": [
       "   Survived  Pclass  Sex        Age  SibSp  Parch     Fare  Embarked\n",
       "0         0       3    1  22.000000      1      0   7.2500         2\n",
       "1         1       1    0  38.000000      1      0  71.2833         0\n",
       "2         1       3    0  26.000000      0      0   7.9250         2\n",
       "3         1       1    0  35.000000      1      0  53.1000         2\n",
       "4         0       3    1  35.000000      0      0   8.0500         2\n",
       "5         0       3    1  29.699118      0      0   8.4583         1\n",
       "6         0       1    1  54.000000      0      0  51.8625         2\n",
       "7         0       3    1   2.000000      3      1  21.0750         2\n",
       "8         1       3    0  27.000000      0      2  11.1333         2\n",
       "9         1       2    0  14.000000      1      0  30.0708         0"
      ]
     },
     "execution_count": 16,
     "metadata": {},
     "output_type": "execute_result"
    }
   ],
   "source": [
    "df1.head(10)"
   ]
  },
  {
   "cell_type": "markdown",
   "id": "f2de6684",
   "metadata": {},
   "source": [
    "We have successfully converted our data. Let's go ahead."
   ]
  },
  {
   "cell_type": "code",
   "execution_count": 17,
   "id": "c35e4133",
   "metadata": {},
   "outputs": [
    {
     "data": {
      "text/plain": [
       "Survived    0\n",
       "Pclass      0\n",
       "Sex         0\n",
       "Age         0\n",
       "SibSp       0\n",
       "Parch       0\n",
       "Fare        0\n",
       "Embarked    0\n",
       "dtype: int64"
      ]
     },
     "execution_count": 17,
     "metadata": {},
     "output_type": "execute_result"
    }
   ],
   "source": [
    "df1.isnull().sum()"
   ]
  },
  {
   "cell_type": "markdown",
   "id": "88119b80",
   "metadata": {},
   "source": [
    "No null values. Great!"
   ]
  },
  {
   "cell_type": "markdown",
   "id": "241ded32",
   "metadata": {},
   "source": [
    "### Data Visualization"
   ]
  },
  {
   "cell_type": "markdown",
   "id": "91b9de64",
   "metadata": {},
   "source": [
    "##### Univariate analysis"
   ]
  },
  {
   "cell_type": "code",
   "execution_count": 18,
   "id": "d25837a1",
   "metadata": {},
   "outputs": [
    {
     "name": "stdout",
     "output_type": "stream",
     "text": [
      "0    549\n",
      "1    342\n",
      "Name: Survived, dtype: int64\n"
     ]
    },
    {
     "data": {
      "image/png": "[encoded data removed]",
      "text/plain": [
       "<Figure size 640x480 with 1 Axes>"
      ]
     },
     "metadata": {},
     "output_type": "display_data"
    }
   ],
   "source": [
    "#Visualize the target variable 'survived'\n",
    "ax = sns.countplot(x='Survived', data=df1)\n",
    "print(df1['Survived'].value_counts())"
   ]
  },
  {
   "cell_type": "markdown",
   "id": "e91fa4c3",
   "metadata": {},
   "source": [
    "Here, 0 represents death count and 1 represents survival count."
   ]
  },
  {
   "cell_type": "code",
   "execution_count": 20,
   "id": "e28d2e4d",
   "metadata": {},
   "outputs": [
    {
     "name": "stdout",
     "output_type": "stream",
     "text": [
      "3    491\n",
      "1    216\n",
      "2    184\n",
      "Name: Pclass, dtype: int64\n"
     ]
    },
    {
     "data": {
      "image/png": "[encoded data removed]",
      "text/plain": [
       "<Figure size 640x480 with 1 Axes>"
      ]
     },
     "metadata": {},
     "output_type": "display_data"
    }
   ],
   "source": [
    "##Visualizing Pclass column\n",
    "ax = sns.countplot(x='Pclass', data=df1)\n",
    "print(df1['Pclass'].value_counts())"
   ]
  },
  {
   "cell_type": "markdown",
   "id": "ee17a44c",
   "metadata": {},
   "source": [
    "Here, we can see most of the passengers belonged to the 3rd class than 2nd and 1st class."
   ]
  },
  {
   "cell_type": "code",
   "execution_count": 21,
   "id": "14f930d0",
   "metadata": {},
   "outputs": [
    {
     "name": "stdout",
     "output_type": "stream",
     "text": [
      "1    577\n",
      "0    314\n",
      "Name: Sex, dtype: int64\n"
     ]
    },
    {
     "data": {
      "image/png": "[encoded data removed]",
      "text/plain": [
       "<Figure size 640x480 with 1 Axes>"
      ]
     },
     "metadata": {},
     "output_type": "display_data"
    }
   ],
   "source": [
    "#Visualizing gender column\n",
    "ax = sns.countplot(x='Sex', data=df1)\n",
    "print(df1['Sex'].value_counts())"
   ]
  },
  {
   "cell_type": "markdown",
   "id": "335464a0",
   "metadata": {},
   "source": [
    "Here, 0 represents male and 1 represents female. As we can see the count of female is more than male."
   ]
  },
  {
   "cell_type": "code",
   "execution_count": 25,
   "id": "cd92bbdc",
   "metadata": {},
   "outputs": [
    {
     "data": {
      "text/plain": [
       "<Axes: xlabel='Age', ylabel='Density'>"
      ]
     },
     "execution_count": 25,
     "metadata": {},
     "output_type": "execute_result"
    },
    {
     "data": {
      "image/png": "[encoded data removed]",
      "text/plain": [
       "<Figure size 640x480 with 1 Axes>"
      ]
     },
     "metadata": {},
     "output_type": "display_data"
    }
   ],
   "source": [
    "#Visualizing Age column\n",
    "sns.distplot(df['Age'])     # As it is a numerical column I am using dist plot"
   ]
  },
  {
   "cell_type": "code",
   "execution_count": 26,
   "id": "95c2ce40",
   "metadata": {},
   "outputs": [
    {
     "name": "stdout",
     "output_type": "stream",
     "text": [
      "0    608\n",
      "1    209\n",
      "2     28\n",
      "4     18\n",
      "3     16\n",
      "8      7\n",
      "5      5\n",
      "Name: SibSp, dtype: int64\n"
     ]
    },
    {
     "data": {
      "image/png": "[encoded data removed]",
      "text/plain": [
       "<Figure size 640x480 with 1 Axes>"
      ]
     },
     "metadata": {},
     "output_type": "display_data"
    }
   ],
   "source": [
    "#Visualizing SibSp column\n",
    "ax = sns.countplot(x='SibSp', data=df1)\n",
    "print(df1['SibSp'].value_counts())"
   ]
  },
  {
   "cell_type": "markdown",
   "id": "c718ca3a",
   "metadata": {},
   "source": [
    "Here, we can notice that the passengers with no siblings or spouses are higher in number than those having them."
   ]
  },
  {
   "cell_type": "code",
   "execution_count": 27,
   "id": "334068db",
   "metadata": {},
   "outputs": [
    {
     "name": "stdout",
     "output_type": "stream",
     "text": [
      "0    678\n",
      "1    118\n",
      "2     80\n",
      "5      5\n",
      "3      5\n",
      "4      4\n",
      "6      1\n",
      "Name: Parch, dtype: int64\n"
     ]
    },
    {
     "data": {
      "image/png": "[encoded data removed]",
      "text/plain": [
       "<Figure size 640x480 with 1 Axes>"
      ]
     },
     "metadata": {},
     "output_type": "display_data"
    }
   ],
   "source": [
    "#Visualizing Parch column\n",
    "ax = sns.countplot(x='Parch', data=df1)\n",
    "print(df1['Parch'].value_counts())"
   ]
  },
  {
   "cell_type": "markdown",
   "id": "bf86d744",
   "metadata": {},
   "source": [
    "Here, we can see that the passengers who do not have any relation with others are higher in number than those having some relations with others."
   ]
  },
  {
   "cell_type": "code",
   "execution_count": 79,
   "id": "ad9cf189",
   "metadata": {},
   "outputs": [
    {
     "data": {
      "text/plain": [
       "<Axes: xlabel='Fare', ylabel='Density'>"
      ]
     },
     "execution_count": 79,
     "metadata": {},
     "output_type": "execute_result"
    },
    {
     "data": {
      "image/png": "[encoded data removed]",
      "text/plain": [
       "<Figure size 640x480 with 1 Axes>"
      ]
     },
     "metadata": {},
     "output_type": "display_data"
    }
   ],
   "source": [
    "#Visualizing Fare column\n",
    "sns.distplot(df1['Fare'])"
   ]
  },
  {
   "cell_type": "code",
   "execution_count": 30,
   "id": "8386b756",
   "metadata": {},
   "outputs": [
    {
     "name": "stdout",
     "output_type": "stream",
     "text": [
      "2    644\n",
      "0    168\n",
      "1     77\n",
      "3      2\n",
      "Name: Embarked, dtype: int64\n"
     ]
    },
    {
     "data": {
      "image/png": "[encoded data removed]",
      "text/plain": [
       "<Figure size 640x480 with 1 Axes>"
      ]
     },
     "metadata": {},
     "output_type": "display_data"
    }
   ],
   "source": [
    "#Visualizing Embarked column\n",
    "ax = sns.countplot(x='Embarked', data=df1)\n",
    "print(df1['Embarked'].value_counts())"
   ]
  },
  {
   "cell_type": "markdown",
   "id": "03e8bb27",
   "metadata": {},
   "source": [
    "Here, we can see that most of the passengers had mounted from Southampton.   \n",
    "#Got the name 'Southampton' by google"
   ]
  },
  {
   "cell_type": "markdown",
   "id": "5a45202c",
   "metadata": {},
   "source": [
    "##### Bivariate analysis"
   ]
  },
  {
   "cell_type": "code",
   "execution_count": 33,
   "id": "c30d2b3a",
   "metadata": {},
   "outputs": [
    {
     "data": {
      "image/png": "[encoded data removed]",
      "text/plain": [
       "<Figure size 640x480 with 1 Axes>"
      ]
     },
     "metadata": {},
     "output_type": "display_data"
    }
   ],
   "source": [
    "#Let's compare Pclass w.r.t Fare\n",
    "fare = df.pivot_table(index='Pclass', values='Fare')\n",
    "fare.plot(kind='bar')\n",
    "plt.xlabel('Pclass')\n",
    "plt.ylabel('Fare')\n",
    "plt.xticks(rotation=0)\n",
    "plt.title('Avg. Fare')\n",
    "plt.show()"
   ]
  },
  {
   "cell_type": "markdown",
   "id": "bab414a9",
   "metadata": {},
   "source": [
    "We can see that the passengers of the 1st class have a high average fare as comapred to those of 2nd and 3rd class."
   ]
  },
  {
   "cell_type": "code",
   "execution_count": 34,
   "id": "33b1b460",
   "metadata": {},
   "outputs": [
    {
     "data": {
      "image/png": "[encoded data removed]",
      "text/plain": [
       "<Figure size 640x480 with 1 Axes>"
      ]
     },
     "metadata": {},
     "output_type": "display_data"
    }
   ],
   "source": [
    "#Let's compare Pclass w.r.t Fare for Total Fare\n",
    "fare = df.pivot_table(index='Pclass', values='Fare', aggfunc=np.sum)\n",
    "fare.plot(kind='bar')\n",
    "plt.xlabel('Pclass')\n",
    "plt.ylabel('Total Fare')\n",
    "plt.xticks(rotation=0)\n",
    "plt.title('Total Fare')\n",
    "plt.show()"
   ]
  },
  {
   "cell_type": "markdown",
   "id": "ba561c94",
   "metadata": {},
   "source": [
    "Here, we can see that the Total Fare of the 1st class passengers was very high as compared to 2nd and 3rd class."
   ]
  },
  {
   "cell_type": "code",
   "execution_count": 38,
   "id": "59cae0be",
   "metadata": {},
   "outputs": [
    {
     "data": {
      "image/png": "[encoded data removed]",
      "text/plain": [
       "<Figure size 640x480 with 1 Axes>"
      ]
     },
     "metadata": {},
     "output_type": "display_data"
    }
   ],
   "source": [
    "#Comparing Pclass and Survived\n",
    "plt.title(\"Comparision between Pclass and Survived\")\n",
    "sns.barplot(x = \"Pclass\", y = \"Survived\", data=df1)\n",
    "plt.show()"
   ]
  },
  {
   "cell_type": "markdown",
   "id": "d58eb6df",
   "metadata": {},
   "source": [
    "We can see that most of the first class passengers survived as compared to second and third class."
   ]
  },
  {
   "cell_type": "code",
   "execution_count": 43,
   "id": "60d37227",
   "metadata": {},
   "outputs": [
    {
     "data": {
      "image/png": "[encoded data removed]",
      "text/plain": [
       "<Figure size 640x480 with 1 Axes>"
      ]
     },
     "metadata": {},
     "output_type": "display_data"
    }
   ],
   "source": [
    "#Comparing Pclass and Fare w.r.t. Survived\n",
    "plt.title(\"Comparision between Pclass and Fare w.r.t Survived\")\n",
    "sns.barplot(x = \"Pclass\", y = \"Fare\", data=df1, hue='Survived')\n",
    "plt.show()"
   ]
  },
  {
   "cell_type": "markdown",
   "id": "a4052159",
   "metadata": {},
   "source": [
    "Here, we can see that the passengers with high fare and 1st class have mostly survived as compared to others."
   ]
  },
  {
   "cell_type": "code",
   "execution_count": 40,
   "id": "30654e11",
   "metadata": {},
   "outputs": [
    {
     "data": {
      "image/png": "[encoded data removed]",
      "text/plain": [
       "<Figure size 640x480 with 1 Axes>"
      ]
     },
     "metadata": {},
     "output_type": "display_data"
    }
   ],
   "source": [
    "#Comparing Sex and Survived\n",
    "plt.title(\"Comparision between Sex and Survived\")\n",
    "sns.barplot(x = \"Sex\", y = \"Survived\", data=df1)\n",
    "plt.show()"
   ]
  },
  {
   "cell_type": "markdown",
   "id": "f4ded6d9",
   "metadata": {},
   "source": [
    "Here, we can see that high number of females survived and very less number of males survived."
   ]
  },
  {
   "cell_type": "markdown",
   "id": "9a02dacc",
   "metadata": {},
   "source": [
    "### Checking for Correlation"
   ]
  },
  {
   "cell_type": "code",
   "execution_count": 46,
   "id": "e2ece3a6",
   "metadata": {},
   "outputs": [
    {
     "data": {
      "image/png": "[encoded data removed]",
      "text/plain": [
       "<Figure size 1500x1000 with 2 Axes>"
      ]
     },
     "metadata": {},
     "output_type": "display_data"
    }
   ],
   "source": [
    "#Plotting heatmap to visulaize the correlation between features and label\n",
    "plt.figure(figsize = (15, 10))\n",
    "sns.heatmap(df1.corr(), annot = True, cmap = \"Blues_r\", linecolor = 'black')\n",
    "plt.yticks(rotation=0)\n",
    "plt.show()"
   ]
  },
  {
   "cell_type": "markdown",
   "id": "e292bd14",
   "metadata": {},
   "source": [
    "Well, till here everything looks good. Let's go ahead."
   ]
  },
  {
   "cell_type": "markdown",
   "id": "ce3b9c86",
   "metadata": {},
   "source": [
    "### Separating Features and Label"
   ]
  },
  {
   "cell_type": "code",
   "execution_count": 47,
   "id": "5c4478fe",
   "metadata": {},
   "outputs": [],
   "source": [
    "x = df1.drop(\"Survived\", axis=1)\n",
    "y = df1[\"Survived\"]"
   ]
  },
  {
   "cell_type": "markdown",
   "id": "7590ec08",
   "metadata": {},
   "source": [
    "### Feature scaling using Standard Scaler"
   ]
  },
  {
   "cell_type": "code",
   "execution_count": 48,
   "id": "314ba3c7",
   "metadata": {},
   "outputs": [
    {
     "data": {
      "text/html": [
       "<div>\n",
       "<style scoped>\n",
       "    .dataframe tbody tr th:only-of-type {\n",
       "        vertical-align: middle;\n",
       "    }\n",
       "\n",
       "    .dataframe tbody tr th {\n",
       "        vertical-align: top;\n",
       "    }\n",
       "\n",
       "    .dataframe thead th {\n",
       "        text-align: right;\n",
       "    }\n",
       "</style>\n",
       "<table border=\"1\" class=\"dataframe\">\n",
       "  <thead>\n",
       "    <tr style=\"text-align: right;\">\n",
       "      <th></th>\n",
       "      <th>Pclass</th>\n",
       "      <th>Sex</th>\n",
       "      <th>Age</th>\n",
       "      <th>SibSp</th>\n",
       "      <th>Parch</th>\n",
       "      <th>Fare</th>\n",
       "      <th>Embarked</th>\n",
       "    </tr>\n",
       "  </thead>\n",
       "  <tbody>\n",
       "    <tr>\n",
       "      <th>0</th>\n",
       "      <td>0.827377</td>\n",
       "      <td>0.737695</td>\n",
       "      <td>-0.592481</td>\n",
       "      <td>0.432793</td>\n",
       "      <td>-0.473674</td>\n",
       "      <td>-0.502445</td>\n",
       "      <td>0.581114</td>\n",
       "    </tr>\n",
       "    <tr>\n",
       "      <th>1</th>\n",
       "      <td>-1.566107</td>\n",
       "      <td>-1.355574</td>\n",
       "      <td>0.638789</td>\n",
       "      <td>0.432793</td>\n",
       "      <td>-0.473674</td>\n",
       "      <td>0.786845</td>\n",
       "      <td>-1.938460</td>\n",
       "    </tr>\n",
       "    <tr>\n",
       "      <th>2</th>\n",
       "      <td>0.827377</td>\n",
       "      <td>-1.355574</td>\n",
       "      <td>-0.284663</td>\n",
       "      <td>-0.474545</td>\n",
       "      <td>-0.473674</td>\n",
       "      <td>-0.488854</td>\n",
       "      <td>0.581114</td>\n",
       "    </tr>\n",
       "    <tr>\n",
       "      <th>3</th>\n",
       "      <td>-1.566107</td>\n",
       "      <td>-1.355574</td>\n",
       "      <td>0.407926</td>\n",
       "      <td>0.432793</td>\n",
       "      <td>-0.473674</td>\n",
       "      <td>0.420730</td>\n",
       "      <td>0.581114</td>\n",
       "    </tr>\n",
       "    <tr>\n",
       "      <th>4</th>\n",
       "      <td>0.827377</td>\n",
       "      <td>0.737695</td>\n",
       "      <td>0.407926</td>\n",
       "      <td>-0.474545</td>\n",
       "      <td>-0.473674</td>\n",
       "      <td>-0.486337</td>\n",
       "      <td>0.581114</td>\n",
       "    </tr>\n",
       "    <tr>\n",
       "      <th>...</th>\n",
       "      <td>...</td>\n",
       "      <td>...</td>\n",
       "      <td>...</td>\n",
       "      <td>...</td>\n",
       "      <td>...</td>\n",
       "      <td>...</td>\n",
       "      <td>...</td>\n",
       "    </tr>\n",
       "    <tr>\n",
       "      <th>886</th>\n",
       "      <td>-0.369365</td>\n",
       "      <td>0.737695</td>\n",
       "      <td>-0.207709</td>\n",
       "      <td>-0.474545</td>\n",
       "      <td>-0.473674</td>\n",
       "      <td>-0.386671</td>\n",
       "      <td>0.581114</td>\n",
       "    </tr>\n",
       "    <tr>\n",
       "      <th>887</th>\n",
       "      <td>-1.566107</td>\n",
       "      <td>-1.355574</td>\n",
       "      <td>-0.823344</td>\n",
       "      <td>-0.474545</td>\n",
       "      <td>-0.473674</td>\n",
       "      <td>-0.044381</td>\n",
       "      <td>0.581114</td>\n",
       "    </tr>\n",
       "    <tr>\n",
       "      <th>888</th>\n",
       "      <td>0.827377</td>\n",
       "      <td>-1.355574</td>\n",
       "      <td>0.000000</td>\n",
       "      <td>0.432793</td>\n",
       "      <td>2.008933</td>\n",
       "      <td>-0.176263</td>\n",
       "      <td>0.581114</td>\n",
       "    </tr>\n",
       "    <tr>\n",
       "      <th>889</th>\n",
       "      <td>-1.566107</td>\n",
       "      <td>0.737695</td>\n",
       "      <td>-0.284663</td>\n",
       "      <td>-0.474545</td>\n",
       "      <td>-0.473674</td>\n",
       "      <td>-0.044381</td>\n",
       "      <td>-1.938460</td>\n",
       "    </tr>\n",
       "    <tr>\n",
       "      <th>890</th>\n",
       "      <td>0.827377</td>\n",
       "      <td>0.737695</td>\n",
       "      <td>0.177063</td>\n",
       "      <td>-0.474545</td>\n",
       "      <td>-0.473674</td>\n",
       "      <td>-0.492378</td>\n",
       "      <td>-0.678673</td>\n",
       "    </tr>\n",
       "  </tbody>\n",
       "</table>\n",
       "<p>891 rows × 7 columns</p>\n",
       "</div>"
      ],
      "text/plain": [
       "       Pclass       Sex       Age     SibSp     Parch      Fare  Embarked\n",
       "0    0.827377  0.737695 -0.592481  0.432793 -0.473674 -0.502445  0.581114\n",
       "1   -1.566107 -1.355574  0.638789  0.432793 -0.473674  0.786845 -1.938460\n",
       "2    0.827377 -1.355574 -0.284663 -0.474545 -0.473674 -0.488854  0.581114\n",
       "3   -1.566107 -1.355574  0.407926  0.432793 -0.473674  0.420730  0.581114\n",
       "4    0.827377  0.737695  0.407926 -0.474545 -0.473674 -0.486337  0.581114\n",
       "..        ...       ...       ...       ...       ...       ...       ...\n",
       "886 -0.369365  0.737695 -0.207709 -0.474545 -0.473674 -0.386671  0.581114\n",
       "887 -1.566107 -1.355574 -0.823344 -0.474545 -0.473674 -0.044381  0.581114\n",
       "888  0.827377 -1.355574  0.000000  0.432793  2.008933 -0.176263  0.581114\n",
       "889 -1.566107  0.737695 -0.284663 -0.474545 -0.473674 -0.044381 -1.938460\n",
       "890  0.827377  0.737695  0.177063 -0.474545 -0.473674 -0.492378 -0.678673\n",
       "\n",
       "[891 rows x 7 columns]"
      ]
     },
     "execution_count": 48,
     "metadata": {},
     "output_type": "execute_result"
    }
   ],
   "source": [
    "from sklearn.preprocessing import StandardScaler\n",
    "scaler = StandardScaler()\n",
    "x = pd.DataFrame(scaler.fit_transform(x), columns = x.columns)\n",
    "x"
   ]
  },
  {
   "cell_type": "markdown",
   "id": "ff9a7a31",
   "metadata": {},
   "source": [
    "We have sucessfully scaled our data to remove any biasness."
   ]
  },
  {
   "cell_type": "markdown",
   "id": "5f170de8",
   "metadata": {},
   "source": [
    "### Checking for VIF"
   ]
  },
  {
   "cell_type": "code",
   "execution_count": 49,
   "id": "511798db",
   "metadata": {},
   "outputs": [
    {
     "data": {
      "text/html": [
       "<div>\n",
       "<style scoped>\n",
       "    .dataframe tbody tr th:only-of-type {\n",
       "        vertical-align: middle;\n",
       "    }\n",
       "\n",
       "    .dataframe tbody tr th {\n",
       "        vertical-align: top;\n",
       "    }\n",
       "\n",
       "    .dataframe thead th {\n",
       "        text-align: right;\n",
       "    }\n",
       "</style>\n",
       "<table border=\"1\" class=\"dataframe\">\n",
       "  <thead>\n",
       "    <tr style=\"text-align: right;\">\n",
       "      <th></th>\n",
       "      <th>VIF Values</th>\n",
       "      <th>Features</th>\n",
       "    </tr>\n",
       "  </thead>\n",
       "  <tbody>\n",
       "    <tr>\n",
       "      <th>0</th>\n",
       "      <td>1.671456</td>\n",
       "      <td>Pclass</td>\n",
       "    </tr>\n",
       "    <tr>\n",
       "      <th>1</th>\n",
       "      <td>1.107995</td>\n",
       "      <td>Sex</td>\n",
       "    </tr>\n",
       "    <tr>\n",
       "      <th>2</th>\n",
       "      <td>1.205873</td>\n",
       "      <td>Age</td>\n",
       "    </tr>\n",
       "    <tr>\n",
       "      <th>3</th>\n",
       "      <td>1.282209</td>\n",
       "      <td>SibSp</td>\n",
       "    </tr>\n",
       "    <tr>\n",
       "      <th>4</th>\n",
       "      <td>1.322179</td>\n",
       "      <td>Parch</td>\n",
       "    </tr>\n",
       "    <tr>\n",
       "      <th>5</th>\n",
       "      <td>1.647725</td>\n",
       "      <td>Fare</td>\n",
       "    </tr>\n",
       "    <tr>\n",
       "      <th>6</th>\n",
       "      <td>1.076073</td>\n",
       "      <td>Embarked</td>\n",
       "    </tr>\n",
       "  </tbody>\n",
       "</table>\n",
       "</div>"
      ],
      "text/plain": [
       "   VIF Values  Features\n",
       "0    1.671456    Pclass\n",
       "1    1.107995       Sex\n",
       "2    1.205873       Age\n",
       "3    1.282209     SibSp\n",
       "4    1.322179     Parch\n",
       "5    1.647725      Fare\n",
       "6    1.076073  Embarked"
      ]
     },
     "execution_count": 49,
     "metadata": {},
     "output_type": "execute_result"
    }
   ],
   "source": [
    "from statsmodels.stats.outliers_influence import variance_inflation_factor\n",
    "vif = pd.DataFrame()\n",
    "vif[\"VIF Values\"] = [variance_inflation_factor(x.values, i)\n",
    "                    for i in range(len(x.columns))]\n",
    "vif[\"Features\"] = x.columns\n",
    "vif\n"
   ]
  },
  {
   "cell_type": "markdown",
   "id": "e768130a",
   "metadata": {},
   "source": [
    "Everything looks perfect as our VIF value is <10. Great, let's go ahead."
   ]
  },
  {
   "cell_type": "markdown",
   "id": "28068f8d",
   "metadata": {},
   "source": [
    "### Data Modelling"
   ]
  },
  {
   "cell_type": "code",
   "execution_count": 50,
   "id": "5431cf5c",
   "metadata": {},
   "outputs": [],
   "source": [
    "from sklearn.model_selection import train_test_split"
   ]
  },
  {
   "cell_type": "markdown",
   "id": "7c48690c",
   "metadata": {},
   "source": [
    "#### Creating train test split"
   ]
  },
  {
   "cell_type": "code",
   "execution_count": 51,
   "id": "254b514d",
   "metadata": {},
   "outputs": [],
   "source": [
    "x_train, x_test, y_train, y_test = train_test_split(x,y, test_size=0.25, random_state=345)"
   ]
  },
  {
   "cell_type": "markdown",
   "id": "44d210cf",
   "metadata": {},
   "source": [
    "As it seems like a classification problem we will use classification algorithms to deal with it."
   ]
  },
  {
   "cell_type": "markdown",
   "id": "01352739",
   "metadata": {},
   "source": [
    "### Classification Algorithms"
   ]
  },
  {
   "cell_type": "code",
   "execution_count": 52,
   "id": "9f1790b4",
   "metadata": {},
   "outputs": [],
   "source": [
    "from sklearn.linear_model import LogisticRegression\n",
    "from sklearn.ensemble import RandomForestClassifier, ExtraTreesClassifier\n",
    "from sklearn.svm import SVC\n",
    "from sklearn.ensemble import GradientBoostingClassifier, AdaBoostClassifier, BaggingClassifier\n",
    "from sklearn.metrics import classification_report, confusion_matrix, roc_curve, accuracy_score\n",
    "from sklearn.model_selection import cross_val_score"
   ]
  },
  {
   "cell_type": "markdown",
   "id": "b7f969fd",
   "metadata": {},
   "source": [
    "#### Logistic Regression"
   ]
  },
  {
   "cell_type": "code",
   "execution_count": 53,
   "id": "accdd95d",
   "metadata": {},
   "outputs": [
    {
     "name": "stdout",
     "output_type": "stream",
     "text": [
      "0.7847533632286996\n",
      "[[122  26]\n",
      " [ 22  53]]\n",
      "              precision    recall  f1-score   support\n",
      "\n",
      "           0       0.85      0.82      0.84       148\n",
      "           1       0.67      0.71      0.69        75\n",
      "\n",
      "    accuracy                           0.78       223\n",
      "   macro avg       0.76      0.77      0.76       223\n",
      "weighted avg       0.79      0.78      0.79       223\n",
      "\n"
     ]
    }
   ],
   "source": [
    "LR = LogisticRegression()\n",
    "LR.fit(x_train, y_train)\n",
    "predLR = LR.predict(x_test)\n",
    "print(accuracy_score(y_test, predLR))\n",
    "print(confusion_matrix(y_test, predLR))\n",
    "print(classification_report(y_test, predLR))"
   ]
  },
  {
   "cell_type": "markdown",
   "id": "23748ae9",
   "metadata": {},
   "source": [
    "#### Random Forest Classifier"
   ]
  },
  {
   "cell_type": "code",
   "execution_count": 54,
   "id": "c71f5365",
   "metadata": {},
   "outputs": [
    {
     "name": "stdout",
     "output_type": "stream",
     "text": [
      "0.7757847533632287\n",
      "[[115  33]\n",
      " [ 17  58]]\n",
      "              precision    recall  f1-score   support\n",
      "\n",
      "           0       0.87      0.78      0.82       148\n",
      "           1       0.64      0.77      0.70        75\n",
      "\n",
      "    accuracy                           0.78       223\n",
      "   macro avg       0.75      0.78      0.76       223\n",
      "weighted avg       0.79      0.78      0.78       223\n",
      "\n"
     ]
    }
   ],
   "source": [
    "RF = RandomForestClassifier()\n",
    "RF.fit(x_train, y_train)\n",
    "predRF = RF.predict(x_test)\n",
    "print(accuracy_score(y_test, predRF))\n",
    "print(confusion_matrix(y_test, predRF))\n",
    "print(classification_report(y_test, predRF))"
   ]
  },
  {
   "cell_type": "markdown",
   "id": "79622e39",
   "metadata": {},
   "source": [
    "#### Extra Trees Classifier"
   ]
  },
  {
   "cell_type": "code",
   "execution_count": 55,
   "id": "1b00cc46",
   "metadata": {},
   "outputs": [
    {
     "name": "stdout",
     "output_type": "stream",
     "text": [
      "0.7757847533632287\n",
      "[[114  34]\n",
      " [ 16  59]]\n",
      "              precision    recall  f1-score   support\n",
      "\n",
      "           0       0.88      0.77      0.82       148\n",
      "           1       0.63      0.79      0.70        75\n",
      "\n",
      "    accuracy                           0.78       223\n",
      "   macro avg       0.76      0.78      0.76       223\n",
      "weighted avg       0.80      0.78      0.78       223\n",
      "\n"
     ]
    }
   ],
   "source": [
    "ET = ExtraTreesClassifier()\n",
    "ET.fit(x_train, y_train)\n",
    "predET = ET.predict(x_test)\n",
    "print(accuracy_score(y_test, predET))\n",
    "print(confusion_matrix(y_test, predET))\n",
    "print(classification_report(y_test, predET))"
   ]
  },
  {
   "cell_type": "markdown",
   "id": "02426b6c",
   "metadata": {},
   "source": [
    "#### SVC"
   ]
  },
  {
   "cell_type": "code",
   "execution_count": 56,
   "id": "61f221a2",
   "metadata": {},
   "outputs": [
    {
     "name": "stdout",
     "output_type": "stream",
     "text": [
      "0.820627802690583\n",
      "[[127  21]\n",
      " [ 19  56]]\n",
      "              precision    recall  f1-score   support\n",
      "\n",
      "           0       0.87      0.86      0.86       148\n",
      "           1       0.73      0.75      0.74        75\n",
      "\n",
      "    accuracy                           0.82       223\n",
      "   macro avg       0.80      0.80      0.80       223\n",
      "weighted avg       0.82      0.82      0.82       223\n",
      "\n"
     ]
    }
   ],
   "source": [
    "SV = SVC()\n",
    "SV.fit(x_train, y_train)\n",
    "predSV = SV.predict(x_test)\n",
    "print(accuracy_score(y_test, predSV))\n",
    "print(confusion_matrix(y_test, predSV))\n",
    "print(classification_report(y_test, predSV))"
   ]
  },
  {
   "cell_type": "markdown",
   "id": "45f914fd",
   "metadata": {},
   "source": [
    "#### Gradient Boositng Classifier"
   ]
  },
  {
   "cell_type": "code",
   "execution_count": 57,
   "id": "7a4abe8b",
   "metadata": {},
   "outputs": [
    {
     "name": "stdout",
     "output_type": "stream",
     "text": [
      "0.8295964125560538\n",
      "[[127  21]\n",
      " [ 17  58]]\n",
      "              precision    recall  f1-score   support\n",
      "\n",
      "           0       0.88      0.86      0.87       148\n",
      "           1       0.73      0.77      0.75        75\n",
      "\n",
      "    accuracy                           0.83       223\n",
      "   macro avg       0.81      0.82      0.81       223\n",
      "weighted avg       0.83      0.83      0.83       223\n",
      "\n"
     ]
    }
   ],
   "source": [
    "GB = GradientBoostingClassifier()\n",
    "GB.fit(x_train, y_train)\n",
    "predGB = GB.predict(x_test)\n",
    "print(accuracy_score(y_test, predGB))\n",
    "print(confusion_matrix(y_test, predGB))\n",
    "print(classification_report(y_test, predGB))"
   ]
  },
  {
   "cell_type": "markdown",
   "id": "ff53962d",
   "metadata": {},
   "source": [
    "#### Ada Boost Classifier"
   ]
  },
  {
   "cell_type": "code",
   "execution_count": 58,
   "id": "3b50affa",
   "metadata": {},
   "outputs": [
    {
     "name": "stdout",
     "output_type": "stream",
     "text": [
      "0.8026905829596412\n",
      "[[119  29]\n",
      " [ 15  60]]\n",
      "              precision    recall  f1-score   support\n",
      "\n",
      "           0       0.89      0.80      0.84       148\n",
      "           1       0.67      0.80      0.73        75\n",
      "\n",
      "    accuracy                           0.80       223\n",
      "   macro avg       0.78      0.80      0.79       223\n",
      "weighted avg       0.82      0.80      0.81       223\n",
      "\n"
     ]
    }
   ],
   "source": [
    "AB = AdaBoostClassifier()\n",
    "AB.fit(x_train, y_train)\n",
    "predAB = AB.predict(x_test)\n",
    "print(accuracy_score(y_test, predAB))\n",
    "print(confusion_matrix(y_test, predAB))\n",
    "print(classification_report(y_test, predAB))"
   ]
  },
  {
   "cell_type": "markdown",
   "id": "d657453c",
   "metadata": {},
   "source": [
    "#### Bagging Classifier"
   ]
  },
  {
   "cell_type": "code",
   "execution_count": 59,
   "id": "fb1306a0",
   "metadata": {},
   "outputs": [
    {
     "name": "stdout",
     "output_type": "stream",
     "text": [
      "0.8161434977578476\n",
      "[[126  22]\n",
      " [ 19  56]]\n",
      "              precision    recall  f1-score   support\n",
      "\n",
      "           0       0.87      0.85      0.86       148\n",
      "           1       0.72      0.75      0.73        75\n",
      "\n",
      "    accuracy                           0.82       223\n",
      "   macro avg       0.79      0.80      0.80       223\n",
      "weighted avg       0.82      0.82      0.82       223\n",
      "\n"
     ]
    }
   ],
   "source": [
    "BC = BaggingClassifier()\n",
    "BC.fit(x_train, y_train)\n",
    "predBC = BC.predict(x_test)\n",
    "print(accuracy_score(y_test, predBC))\n",
    "print(confusion_matrix(y_test, predBC))\n",
    "print(classification_report(y_test, predBC))"
   ]
  },
  {
   "cell_type": "markdown",
   "id": "b98087e7",
   "metadata": {},
   "source": [
    "We can see that Gradient Boositing Classifier gives 83% accuracy. "
   ]
  },
  {
   "cell_type": "markdown",
   "id": "9b3bfcab",
   "metadata": {},
   "source": [
    "### Cross Validation Score"
   ]
  },
  {
   "cell_type": "code",
   "execution_count": 60,
   "id": "21426842",
   "metadata": {},
   "outputs": [
    {
     "name": "stdout",
     "output_type": "stream",
     "text": [
      "[0.77653631 0.78651685 0.78089888 0.76404494 0.81460674]\n",
      "0.7845207457158998\n",
      "Difference between Accuracy score and cross validation score is -  0.00023261751279979315\n"
     ]
    }
   ],
   "source": [
    "#Checking cv score Logistic Regression\n",
    "score = cross_val_score(LR,x,y)\n",
    "print(score)\n",
    "print(score.mean())\n",
    "print(\"Difference between Accuracy score and cross validation score is - \", accuracy_score(y_test, predLR) - score.mean())"
   ]
  },
  {
   "cell_type": "code",
   "execution_count": 63,
   "id": "582a9361",
   "metadata": {},
   "outputs": [
    {
     "name": "stdout",
     "output_type": "stream",
     "text": [
      "[0.7877095  0.81460674 0.87078652 0.7752809  0.8258427 ]\n",
      "0.8148452702278576\n",
      "Difference between Accuracy score and cross validation score is -  -0.03906051686462886\n"
     ]
    }
   ],
   "source": [
    "#Checking cv score Random Forest Classifier\n",
    "score = cross_val_score(RF,x,y)\n",
    "print(score)\n",
    "print(score.mean())\n",
    "print(\"Difference between Accuracy score and cross validation score is - \", accuracy_score(y_test, predRF) - score.mean())"
   ]
  },
  {
   "cell_type": "code",
   "execution_count": 64,
   "id": "275fec09",
   "metadata": {},
   "outputs": [
    {
     "name": "stdout",
     "output_type": "stream",
     "text": [
      "[0.76536313 0.76404494 0.83707865 0.78651685 0.8258427 ]\n",
      "0.7957692549118073\n",
      "Difference between Accuracy score and cross validation score is -  -0.01998450154857856\n"
     ]
    }
   ],
   "source": [
    "#Checking cv score Extra Trees Classifier\n",
    "score = cross_val_score(ET,x,y)\n",
    "print(score)\n",
    "print(score.mean())\n",
    "print(\"Difference between Accuracy score and cross validation score is - \", accuracy_score(y_test, predET) - score.mean())"
   ]
  },
  {
   "cell_type": "code",
   "execution_count": 65,
   "id": "f494474b",
   "metadata": {},
   "outputs": [
    {
     "name": "stdout",
     "output_type": "stream",
     "text": [
      "[0.79888268 0.82022472 0.83146067 0.79775281 0.85393258]\n",
      "0.82045069361622\n",
      "Difference between Accuracy score and cross validation score is -  0.009145718939833736\n"
     ]
    }
   ],
   "source": [
    "#Checking cv score Gradient Boosting Classifier\n",
    "score = cross_val_score(GB,x,y)\n",
    "print(score)\n",
    "print(score.mean())\n",
    "print(\"Difference between Accuracy score and cross validation score is - \", accuracy_score(y_test, predGB) - score.mean())"
   ]
  },
  {
   "cell_type": "code",
   "execution_count": 66,
   "id": "88348331",
   "metadata": {},
   "outputs": [
    {
     "name": "stdout",
     "output_type": "stream",
     "text": [
      "[0.83240223 0.82022472 0.81460674 0.80337079 0.86516854]\n",
      "0.827154604230745\n",
      "Difference between Accuracy score and cross validation score is -  -0.006526801540162053\n"
     ]
    }
   ],
   "source": [
    "#Checking cv score SVC\n",
    "score = cross_val_score(SV,x,y)\n",
    "print(score)\n",
    "print(score.mean())\n",
    "print(\"Difference between Accuracy score and cross validation score is - \", accuracy_score(y_test, predSV) - score.mean())"
   ]
  },
  {
   "cell_type": "code",
   "execution_count": 67,
   "id": "1997c9fa",
   "metadata": {},
   "outputs": [
    {
     "name": "stdout",
     "output_type": "stream",
     "text": [
      "[0.75418994 0.79775281 0.82022472 0.81460674 0.8258427 ]\n",
      "0.8025233820852427\n",
      "Difference between Accuracy score and cross validation score is -  0.00016720087439858755\n"
     ]
    }
   ],
   "source": [
    "#Checking cv score Ada Boost Classifier\n",
    "score = cross_val_score(AB,x,y)\n",
    "print(score)\n",
    "print(score.mean())\n",
    "print(\"Difference between Accuracy score and cross validation score is - \", accuracy_score(y_test, predAB) - score.mean())"
   ]
  },
  {
   "cell_type": "code",
   "execution_count": 68,
   "id": "fd1381ee",
   "metadata": {},
   "outputs": [
    {
     "name": "stdout",
     "output_type": "stream",
     "text": [
      "[0.75977654 0.82022472 0.83707865 0.79213483 0.84269663]\n",
      "0.8103822735547046\n",
      "Difference between Accuracy score and cross validation score is -  0.005761224203142956\n"
     ]
    }
   ],
   "source": [
    "#Checking cv score Bagging Classifier\n",
    "score = cross_val_score(BC,x,y)\n",
    "print(score)\n",
    "print(score.mean())\n",
    "print(\"Difference between Accuracy score and cross validation score is - \", accuracy_score(y_test, predBC) - score.mean())"
   ]
  },
  {
   "cell_type": "markdown",
   "id": "c0ec3531",
   "metadata": {},
   "source": [
    "We can see that our SVC works better with 83% accuracy score and having least difference between accuracy and cross validation scorre."
   ]
  },
  {
   "cell_type": "markdown",
   "id": "3deb23e3",
   "metadata": {},
   "source": [
    "### Hyper Parameter Tuning"
   ]
  },
  {
   "cell_type": "code",
   "execution_count": 69,
   "id": "031efa33",
   "metadata": {},
   "outputs": [],
   "source": [
    "from sklearn.model_selection import GridSearchCV"
   ]
  },
  {
   "cell_type": "code",
   "execution_count": 70,
   "id": "f26ca32b",
   "metadata": {},
   "outputs": [],
   "source": [
    "params = { 'C': [1,5,10,20],\n",
    "         'gamma': [0.001, 0.01, 0.02, 0.002]}"
   ]
  },
  {
   "cell_type": "code",
   "execution_count": 73,
   "id": "76d15181",
   "metadata": {},
   "outputs": [
    {
     "data": {
      "text/plain": [
       "{'C': 20, 'gamma': 0.02}"
      ]
     },
     "execution_count": 73,
     "metadata": {},
     "output_type": "execute_result"
    }
   ],
   "source": [
    "grid_search = GridSearchCV(SVC(), params)\n",
    "grid_search.fit(x_train, y_train)\n",
    "\n",
    "#best params\n",
    "grid_search.best_params_"
   ]
  },
  {
   "cell_type": "code",
   "execution_count": 74,
   "id": "6d455c04",
   "metadata": {},
   "outputs": [
    {
     "data": {
      "text/html": [
       "<style>#sk-container-id-1 {color: black;background-color: white;}#sk-container-id-1 pre{padding: 0;}#sk-container-id-1 div.sk-toggleable {background-color: white;}#sk-container-id-1 label.sk-toggleable__label {cursor: pointer;display: block;width: 100%;margin-bottom: 0;padding: 0.3em;box-sizing: border-box;text-align: center;}#sk-container-id-1 label.sk-toggleable__label-arrow:before {content: \"▸\";float: left;margin-right: 0.25em;color: #696969;}#sk-container-id-1 label.sk-toggleable__label-arrow:hover:before {color: black;}#sk-container-id-1 div.sk-estimator:hover label.sk-toggleable__label-arrow:before {color: black;}#sk-container-id-1 div.sk-toggleable__content {max-height: 0;max-width: 0;overflow: hidden;text-align: left;background-color: #f0f8ff;}#sk-container-id-1 div.sk-toggleable__content pre {margin: 0.2em;color: black;border-radius: 0.25em;background-color: #f0f8ff;}#sk-container-id-1 input.sk-toggleable__control:checked~div.sk-toggleable__content {max-height: 200px;max-width: 100%;overflow: auto;}#sk-container-id-1 input.sk-toggleable__control:checked~label.sk-toggleable__label-arrow:before {content: \"▾\";}#sk-container-id-1 div.sk-estimator input.sk-toggleable__control:checked~label.sk-toggleable__label {background-color: #d4ebff;}#sk-container-id-1 div.sk-label input.sk-toggleable__control:checked~label.sk-toggleable__label {background-color: #d4ebff;}#sk-container-id-1 input.sk-hidden--visually {border: 0;clip: rect(1px 1px 1px 1px);clip: rect(1px, 1px, 1px, 1px);height: 1px;margin: -1px;overflow: hidden;padding: 0;position: absolute;width: 1px;}#sk-container-id-1 div.sk-estimator {font-family: monospace;background-color: #f0f8ff;border: 1px dotted black;border-radius: 0.25em;box-sizing: border-box;margin-bottom: 0.5em;}#sk-container-id-1 div.sk-estimator:hover {background-color: #d4ebff;}#sk-container-id-1 div.sk-parallel-item::after {content: \"\";width: 100%;border-bottom: 1px solid gray;flex-grow: 1;}#sk-container-id-1 div.sk-label:hover label.sk-toggleable__label {background-color: #d4ebff;}#sk-container-id-1 div.sk-serial::before {content: \"\";position: absolute;border-left: 1px solid gray;box-sizing: border-box;top: 0;bottom: 0;left: 50%;z-index: 0;}#sk-container-id-1 div.sk-serial {display: flex;flex-direction: column;align-items: center;background-color: white;padding-right: 0.2em;padding-left: 0.2em;position: relative;}#sk-container-id-1 div.sk-item {position: relative;z-index: 1;}#sk-container-id-1 div.sk-parallel {display: flex;align-items: stretch;justify-content: center;background-color: white;position: relative;}#sk-container-id-1 div.sk-item::before, #sk-container-id-1 div.sk-parallel-item::before {content: \"\";position: absolute;border-left: 1px solid gray;box-sizing: border-box;top: 0;bottom: 0;left: 50%;z-index: -1;}#sk-container-id-1 div.sk-parallel-item {display: flex;flex-direction: column;z-index: 1;position: relative;background-color: white;}#sk-container-id-1 div.sk-parallel-item:first-child::after {align-self: flex-end;width: 50%;}#sk-container-id-1 div.sk-parallel-item:last-child::after {align-self: flex-start;width: 50%;}#sk-container-id-1 div.sk-parallel-item:only-child::after {width: 0;}#sk-container-id-1 div.sk-dashed-wrapped {border: 1px dashed gray;margin: 0 0.4em 0.5em 0.4em;box-sizing: border-box;padding-bottom: 0.4em;background-color: white;}#sk-container-id-1 div.sk-label label {font-family: monospace;font-weight: bold;display: inline-block;line-height: 1.2em;}#sk-container-id-1 div.sk-label-container {text-align: center;}#sk-container-id-1 div.sk-container {/* jupyter's `normalize.less` sets `[hidden] { display: none; }` but bootstrap.min.css set `[hidden] { display: none !important; }` so we also need the `!important` here to be able to override the default hidden behavior on the sphinx rendered scikit-learn.org. See: https://github.com/scikit-learn/scikit-learn/issues/21755 */display: inline-block !important;position: relative;}#sk-container-id-1 div.sk-text-repr-fallback {display: none;}</style><div id=\"sk-container-id-1\" class=\"sk-top-container\"><div class=\"sk-text-repr-fallback\"><pre>SVC(C=20, gamma=0.02)</pre><b>In a Jupyter environment, please rerun this cell to show the HTML representation or trust the notebook. <br />On GitHub, the HTML representation is unable to render, please try loading this page with nbviewer.org.</b></div><div class=\"sk-container\" hidden><div class=\"sk-item\"><div class=\"sk-estimator sk-toggleable\"><input class=\"sk-toggleable__control sk-hidden--visually\" id=\"sk-estimator-id-1\" type=\"checkbox\" checked><label for=\"sk-estimator-id-1\" class=\"sk-toggleable__label sk-toggleable__label-arrow\">SVC</label><div class=\"sk-toggleable__content\"><pre>SVC(C=20, gamma=0.02)</pre></div></div></div></div></div>"
      ],
      "text/plain": [
       "SVC(C=20, gamma=0.02)"
      ]
     },
     "execution_count": 74,
     "metadata": {},
     "output_type": "execute_result"
    }
   ],
   "source": [
    "svc = SVC(C=20, gamma=0.02)\n",
    "svc.fit(x_train, y_train)"
   ]
  },
  {
   "cell_type": "code",
   "execution_count": 75,
   "id": "5349e207",
   "metadata": {},
   "outputs": [
    {
     "name": "stdout",
     "output_type": "stream",
     "text": [
      "82.0627802690583\n"
     ]
    }
   ],
   "source": [
    "Final_score = SVC(C=20, gamma=0.02)\n",
    "\n",
    "Final_score.fit(x_train, y_train)\n",
    "pred = Final_score.predict(x_test)\n",
    "acc = accuracy_score(y_test, pred)\n",
    "print(acc*100)"
   ]
  },
  {
   "cell_type": "markdown",
   "id": "b2b5b292",
   "metadata": {},
   "source": [
    "We got 82% accuracy."
   ]
  },
  {
   "cell_type": "code",
   "execution_count": null,
   "id": "470775b1",
   "metadata": {},
   "outputs": [],
   "source": []
  }
 ],
 "metadata": {
  "kernelspec": {
   "display_name": "Python 3 (ipykernel)",
   "language": "python",
   "name": "python3"
  },
  "language_info": {
   "codemirror_mode": {
    "name": "ipython",
    "version": 3
   },
   "file_extension": ".py",
   "mimetype": "text/x-python",
   "name": "python",
   "nbconvert_exporter": "python",
   "pygments_lexer": "ipython3",
   "version": "3.10.9"
  }
 },
 "nbformat": 4,
 "nbformat_minor": 5
}
