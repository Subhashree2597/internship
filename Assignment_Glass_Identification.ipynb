{
 "cells": [
  {
   "cell_type": "markdown",
   "id": "f97b839c",
   "metadata": {},
   "source": [
    "## Glass Identification"
   ]
  },
  {
   "cell_type": "markdown",
   "id": "ab683942",
   "metadata": {},
   "source": [
    "#### Problem Statement\n",
    "The dataset describes the chemical properties of glass and involves classifying samples of glass using their chemical properties as one of six classes. The dataset was credited to Vina Spiehler in 1987. The study of classification of types of glass was motivated by criminological investigation. At the scene of the crime, the glass left can be used as evidence...if it is correctly identified!"
   ]
  },
  {
   "cell_type": "markdown",
   "id": "bd2cee95",
   "metadata": {},
   "source": [
    "#### Importing necessary libraries"
   ]
  },
  {
   "cell_type": "code",
   "execution_count": 1,
   "id": "9dd3ca68",
   "metadata": {},
   "outputs": [],
   "source": [
    "import pandas as pd\n",
    "import numpy as np\n",
    "import matplotlib.pyplot as plt\n",
    "import seaborn as sns\n",
    "import warnings\n",
    "warnings.filterwarnings('ignore')"
   ]
  },
  {
   "cell_type": "markdown",
   "id": "780d5cbd",
   "metadata": {},
   "source": [
    "#### Importing Dataset"
   ]
  },
  {
   "cell_type": "code",
   "execution_count": 2,
   "id": "0160528f",
   "metadata": {},
   "outputs": [
    {
     "data": {
      "text/html": [
       "<div>\n",
       "<style scoped>\n",
       "    .dataframe tbody tr th:only-of-type {\n",
       "        vertical-align: middle;\n",
       "    }\n",
       "\n",
       "    .dataframe tbody tr th {\n",
       "        vertical-align: top;\n",
       "    }\n",
       "\n",
       "    .dataframe thead th {\n",
       "        text-align: right;\n",
       "    }\n",
       "</style>\n",
       "<table border=\"1\" class=\"dataframe\">\n",
       "  <thead>\n",
       "    <tr style=\"text-align: right;\">\n",
       "      <th></th>\n",
       "      <th>1</th>\n",
       "      <th>1.52101</th>\n",
       "      <th>13.64</th>\n",
       "      <th>4.49</th>\n",
       "      <th>1.10</th>\n",
       "      <th>71.78</th>\n",
       "      <th>0.06</th>\n",
       "      <th>8.75</th>\n",
       "      <th>0.00</th>\n",
       "      <th>0.00.1</th>\n",
       "      <th>1.1</th>\n",
       "    </tr>\n",
       "  </thead>\n",
       "  <tbody>\n",
       "    <tr>\n",
       "      <th>0</th>\n",
       "      <td>2</td>\n",
       "      <td>1.51761</td>\n",
       "      <td>13.89</td>\n",
       "      <td>3.60</td>\n",
       "      <td>1.36</td>\n",
       "      <td>72.73</td>\n",
       "      <td>0.48</td>\n",
       "      <td>7.83</td>\n",
       "      <td>0.00</td>\n",
       "      <td>0.00</td>\n",
       "      <td>1</td>\n",
       "    </tr>\n",
       "    <tr>\n",
       "      <th>1</th>\n",
       "      <td>3</td>\n",
       "      <td>1.51618</td>\n",
       "      <td>13.53</td>\n",
       "      <td>3.55</td>\n",
       "      <td>1.54</td>\n",
       "      <td>72.99</td>\n",
       "      <td>0.39</td>\n",
       "      <td>7.78</td>\n",
       "      <td>0.00</td>\n",
       "      <td>0.00</td>\n",
       "      <td>1</td>\n",
       "    </tr>\n",
       "    <tr>\n",
       "      <th>2</th>\n",
       "      <td>4</td>\n",
       "      <td>1.51766</td>\n",
       "      <td>13.21</td>\n",
       "      <td>3.69</td>\n",
       "      <td>1.29</td>\n",
       "      <td>72.61</td>\n",
       "      <td>0.57</td>\n",
       "      <td>8.22</td>\n",
       "      <td>0.00</td>\n",
       "      <td>0.00</td>\n",
       "      <td>1</td>\n",
       "    </tr>\n",
       "    <tr>\n",
       "      <th>3</th>\n",
       "      <td>5</td>\n",
       "      <td>1.51742</td>\n",
       "      <td>13.27</td>\n",
       "      <td>3.62</td>\n",
       "      <td>1.24</td>\n",
       "      <td>73.08</td>\n",
       "      <td>0.55</td>\n",
       "      <td>8.07</td>\n",
       "      <td>0.00</td>\n",
       "      <td>0.00</td>\n",
       "      <td>1</td>\n",
       "    </tr>\n",
       "    <tr>\n",
       "      <th>4</th>\n",
       "      <td>6</td>\n",
       "      <td>1.51596</td>\n",
       "      <td>12.79</td>\n",
       "      <td>3.61</td>\n",
       "      <td>1.62</td>\n",
       "      <td>72.97</td>\n",
       "      <td>0.64</td>\n",
       "      <td>8.07</td>\n",
       "      <td>0.00</td>\n",
       "      <td>0.26</td>\n",
       "      <td>1</td>\n",
       "    </tr>\n",
       "    <tr>\n",
       "      <th>...</th>\n",
       "      <td>...</td>\n",
       "      <td>...</td>\n",
       "      <td>...</td>\n",
       "      <td>...</td>\n",
       "      <td>...</td>\n",
       "      <td>...</td>\n",
       "      <td>...</td>\n",
       "      <td>...</td>\n",
       "      <td>...</td>\n",
       "      <td>...</td>\n",
       "      <td>...</td>\n",
       "    </tr>\n",
       "    <tr>\n",
       "      <th>208</th>\n",
       "      <td>210</td>\n",
       "      <td>1.51623</td>\n",
       "      <td>14.14</td>\n",
       "      <td>0.00</td>\n",
       "      <td>2.88</td>\n",
       "      <td>72.61</td>\n",
       "      <td>0.08</td>\n",
       "      <td>9.18</td>\n",
       "      <td>1.06</td>\n",
       "      <td>0.00</td>\n",
       "      <td>7</td>\n",
       "    </tr>\n",
       "    <tr>\n",
       "      <th>209</th>\n",
       "      <td>211</td>\n",
       "      <td>1.51685</td>\n",
       "      <td>14.92</td>\n",
       "      <td>0.00</td>\n",
       "      <td>1.99</td>\n",
       "      <td>73.06</td>\n",
       "      <td>0.00</td>\n",
       "      <td>8.40</td>\n",
       "      <td>1.59</td>\n",
       "      <td>0.00</td>\n",
       "      <td>7</td>\n",
       "    </tr>\n",
       "    <tr>\n",
       "      <th>210</th>\n",
       "      <td>212</td>\n",
       "      <td>1.52065</td>\n",
       "      <td>14.36</td>\n",
       "      <td>0.00</td>\n",
       "      <td>2.02</td>\n",
       "      <td>73.42</td>\n",
       "      <td>0.00</td>\n",
       "      <td>8.44</td>\n",
       "      <td>1.64</td>\n",
       "      <td>0.00</td>\n",
       "      <td>7</td>\n",
       "    </tr>\n",
       "    <tr>\n",
       "      <th>211</th>\n",
       "      <td>213</td>\n",
       "      <td>1.51651</td>\n",
       "      <td>14.38</td>\n",
       "      <td>0.00</td>\n",
       "      <td>1.94</td>\n",
       "      <td>73.61</td>\n",
       "      <td>0.00</td>\n",
       "      <td>8.48</td>\n",
       "      <td>1.57</td>\n",
       "      <td>0.00</td>\n",
       "      <td>7</td>\n",
       "    </tr>\n",
       "    <tr>\n",
       "      <th>212</th>\n",
       "      <td>214</td>\n",
       "      <td>1.51711</td>\n",
       "      <td>14.23</td>\n",
       "      <td>0.00</td>\n",
       "      <td>2.08</td>\n",
       "      <td>73.36</td>\n",
       "      <td>0.00</td>\n",
       "      <td>8.62</td>\n",
       "      <td>1.67</td>\n",
       "      <td>0.00</td>\n",
       "      <td>7</td>\n",
       "    </tr>\n",
       "  </tbody>\n",
       "</table>\n",
       "<p>213 rows × 11 columns</p>\n",
       "</div>"
      ],
      "text/plain": [
       "       1  1.52101  13.64  4.49  1.10  71.78  0.06  8.75  0.00  0.00.1  1.1\n",
       "0      2  1.51761  13.89  3.60  1.36  72.73  0.48  7.83  0.00    0.00    1\n",
       "1      3  1.51618  13.53  3.55  1.54  72.99  0.39  7.78  0.00    0.00    1\n",
       "2      4  1.51766  13.21  3.69  1.29  72.61  0.57  8.22  0.00    0.00    1\n",
       "3      5  1.51742  13.27  3.62  1.24  73.08  0.55  8.07  0.00    0.00    1\n",
       "4      6  1.51596  12.79  3.61  1.62  72.97  0.64  8.07  0.00    0.26    1\n",
       "..   ...      ...    ...   ...   ...    ...   ...   ...   ...     ...  ...\n",
       "208  210  1.51623  14.14  0.00  2.88  72.61  0.08  9.18  1.06    0.00    7\n",
       "209  211  1.51685  14.92  0.00  1.99  73.06  0.00  8.40  1.59    0.00    7\n",
       "210  212  1.52065  14.36  0.00  2.02  73.42  0.00  8.44  1.64    0.00    7\n",
       "211  213  1.51651  14.38  0.00  1.94  73.61  0.00  8.48  1.57    0.00    7\n",
       "212  214  1.51711  14.23  0.00  2.08  73.36  0.00  8.62  1.67    0.00    7\n",
       "\n",
       "[213 rows x 11 columns]"
      ]
     },
     "execution_count": 2,
     "metadata": {},
     "output_type": "execute_result"
    }
   ],
   "source": [
    "#Importing data set\n",
    "df = pd.read_csv('https://raw.githubusercontent.com/dsrscientist/dataset3/main/glass.csv')\n",
    "df"
   ]
  },
  {
   "cell_type": "markdown",
   "id": "959aeb96",
   "metadata": {},
   "source": [
    "We can see in the above dataset the columns are in numerical type which will make it difficult to identify later. Let's rename the columns."
   ]
  },
  {
   "cell_type": "code",
   "execution_count": 3,
   "id": "4545885f",
   "metadata": {},
   "outputs": [],
   "source": [
    "df.rename(columns = {'1':'Id number',\n",
    "                    '1.52101':'RI',\n",
    "                    '13.64':'Na',\n",
    "                    '4.49':'Mg',\n",
    "                    '1.10':'Al',\n",
    "                    '71.78':'Si',\n",
    "                    '0.06':'K',\n",
    "                    '8.75':'Ca',\n",
    "                    '0.00':'Ba',\n",
    "                    '0.00.1':'Fe',\n",
    "                    '1.1':'Type of glass'}, inplace = True)"
   ]
  },
  {
   "cell_type": "code",
   "execution_count": 4,
   "id": "94c825a6",
   "metadata": {},
   "outputs": [
    {
     "data": {
      "text/html": [
       "<div>\n",
       "<style scoped>\n",
       "    .dataframe tbody tr th:only-of-type {\n",
       "        vertical-align: middle;\n",
       "    }\n",
       "\n",
       "    .dataframe tbody tr th {\n",
       "        vertical-align: top;\n",
       "    }\n",
       "\n",
       "    .dataframe thead th {\n",
       "        text-align: right;\n",
       "    }\n",
       "</style>\n",
       "<table border=\"1\" class=\"dataframe\">\n",
       "  <thead>\n",
       "    <tr style=\"text-align: right;\">\n",
       "      <th></th>\n",
       "      <th>Id number</th>\n",
       "      <th>RI</th>\n",
       "      <th>Na</th>\n",
       "      <th>Mg</th>\n",
       "      <th>Al</th>\n",
       "      <th>Si</th>\n",
       "      <th>K</th>\n",
       "      <th>Ca</th>\n",
       "      <th>Ba</th>\n",
       "      <th>Fe</th>\n",
       "      <th>Type of glass</th>\n",
       "    </tr>\n",
       "  </thead>\n",
       "  <tbody>\n",
       "    <tr>\n",
       "      <th>0</th>\n",
       "      <td>2</td>\n",
       "      <td>1.51761</td>\n",
       "      <td>13.89</td>\n",
       "      <td>3.60</td>\n",
       "      <td>1.36</td>\n",
       "      <td>72.73</td>\n",
       "      <td>0.48</td>\n",
       "      <td>7.83</td>\n",
       "      <td>0.0</td>\n",
       "      <td>0.00</td>\n",
       "      <td>1</td>\n",
       "    </tr>\n",
       "    <tr>\n",
       "      <th>1</th>\n",
       "      <td>3</td>\n",
       "      <td>1.51618</td>\n",
       "      <td>13.53</td>\n",
       "      <td>3.55</td>\n",
       "      <td>1.54</td>\n",
       "      <td>72.99</td>\n",
       "      <td>0.39</td>\n",
       "      <td>7.78</td>\n",
       "      <td>0.0</td>\n",
       "      <td>0.00</td>\n",
       "      <td>1</td>\n",
       "    </tr>\n",
       "    <tr>\n",
       "      <th>2</th>\n",
       "      <td>4</td>\n",
       "      <td>1.51766</td>\n",
       "      <td>13.21</td>\n",
       "      <td>3.69</td>\n",
       "      <td>1.29</td>\n",
       "      <td>72.61</td>\n",
       "      <td>0.57</td>\n",
       "      <td>8.22</td>\n",
       "      <td>0.0</td>\n",
       "      <td>0.00</td>\n",
       "      <td>1</td>\n",
       "    </tr>\n",
       "    <tr>\n",
       "      <th>3</th>\n",
       "      <td>5</td>\n",
       "      <td>1.51742</td>\n",
       "      <td>13.27</td>\n",
       "      <td>3.62</td>\n",
       "      <td>1.24</td>\n",
       "      <td>73.08</td>\n",
       "      <td>0.55</td>\n",
       "      <td>8.07</td>\n",
       "      <td>0.0</td>\n",
       "      <td>0.00</td>\n",
       "      <td>1</td>\n",
       "    </tr>\n",
       "    <tr>\n",
       "      <th>4</th>\n",
       "      <td>6</td>\n",
       "      <td>1.51596</td>\n",
       "      <td>12.79</td>\n",
       "      <td>3.61</td>\n",
       "      <td>1.62</td>\n",
       "      <td>72.97</td>\n",
       "      <td>0.64</td>\n",
       "      <td>8.07</td>\n",
       "      <td>0.0</td>\n",
       "      <td>0.26</td>\n",
       "      <td>1</td>\n",
       "    </tr>\n",
       "  </tbody>\n",
       "</table>\n",
       "</div>"
      ],
      "text/plain": [
       "   Id number       RI     Na    Mg    Al     Si     K    Ca   Ba    Fe  \\\n",
       "0          2  1.51761  13.89  3.60  1.36  72.73  0.48  7.83  0.0  0.00   \n",
       "1          3  1.51618  13.53  3.55  1.54  72.99  0.39  7.78  0.0  0.00   \n",
       "2          4  1.51766  13.21  3.69  1.29  72.61  0.57  8.22  0.0  0.00   \n",
       "3          5  1.51742  13.27  3.62  1.24  73.08  0.55  8.07  0.0  0.00   \n",
       "4          6  1.51596  12.79  3.61  1.62  72.97  0.64  8.07  0.0  0.26   \n",
       "\n",
       "   Type of glass  \n",
       "0              1  \n",
       "1              1  \n",
       "2              1  \n",
       "3              1  \n",
       "4              1  "
      ]
     },
     "execution_count": 4,
     "metadata": {},
     "output_type": "execute_result"
    }
   ],
   "source": [
    "#Let's review our renamed dataset\n",
    "df.head()"
   ]
  },
  {
   "cell_type": "markdown",
   "id": "0455c90f",
   "metadata": {},
   "source": [
    "Our dataset is successfully renamed. Now we can move ahead."
   ]
  },
  {
   "cell_type": "markdown",
   "id": "204c5d3d",
   "metadata": {},
   "source": [
    "#### Attribute Information"
   ]
  },
  {
   "cell_type": "markdown",
   "id": "16c109d5",
   "metadata": {},
   "source": [
    "1.Id number: 1 to 214\n",
    "\n",
    "2.RI: refractive index\n",
    "\n",
    "3.Na: Sodium (unit measurement: weight percent in corresponding oxide, as are attributes 4-10)\n",
    "\n",
    "4Mg: Magnesium\n",
    "\n",
    "5.Al: Aluminum\n",
    "\n",
    "6.Si: Silicon\n",
    "\n",
    "7.K: Potassium\n",
    "\n",
    "8.Ca: Calcium\n",
    "\n",
    "9.Ba: Barium\n",
    "\n",
    "10.Fe: Iron\n",
    "\n",
    "11.Type of glass: (class attribute)\n",
    "\n",
    "•\t1- building_windows_float_processed\n",
    "\n",
    "•\t2- building_windows_non_float_processed\n",
    "\n",
    "•\t3- vehicle_windows_float_processed\n",
    "\n",
    "•\t4- vehicle_windows_non_float_processed (none in this database)\n",
    "\n",
    "•\t5- containers\n",
    "\n",
    "•\t6- tableware\n",
    "\n",
    "•\t7- headlamps\n",
    "\n"
   ]
  },
  {
   "cell_type": "markdown",
   "id": "43ae5d1a",
   "metadata": {},
   "source": [
    "#### To predict: \n",
    "Type of Glass "
   ]
  },
  {
   "cell_type": "markdown",
   "id": "612741d7",
   "metadata": {},
   "source": [
    "Here Id number is basically the serial number so we don't need it anyway. Let's just drop it. "
   ]
  },
  {
   "cell_type": "code",
   "execution_count": 5,
   "id": "b9c3e4ae",
   "metadata": {},
   "outputs": [],
   "source": [
    "df.drop('Id number',axis=1,inplace=True)"
   ]
  },
  {
   "cell_type": "code",
   "execution_count": 6,
   "id": "18652861",
   "metadata": {},
   "outputs": [
    {
     "data": {
      "text/html": [
       "<div>\n",
       "<style scoped>\n",
       "    .dataframe tbody tr th:only-of-type {\n",
       "        vertical-align: middle;\n",
       "    }\n",
       "\n",
       "    .dataframe tbody tr th {\n",
       "        vertical-align: top;\n",
       "    }\n",
       "\n",
       "    .dataframe thead th {\n",
       "        text-align: right;\n",
       "    }\n",
       "</style>\n",
       "<table border=\"1\" class=\"dataframe\">\n",
       "  <thead>\n",
       "    <tr style=\"text-align: right;\">\n",
       "      <th></th>\n",
       "      <th>RI</th>\n",
       "      <th>Na</th>\n",
       "      <th>Mg</th>\n",
       "      <th>Al</th>\n",
       "      <th>Si</th>\n",
       "      <th>K</th>\n",
       "      <th>Ca</th>\n",
       "      <th>Ba</th>\n",
       "      <th>Fe</th>\n",
       "      <th>Type of glass</th>\n",
       "    </tr>\n",
       "  </thead>\n",
       "  <tbody>\n",
       "    <tr>\n",
       "      <th>0</th>\n",
       "      <td>1.51761</td>\n",
       "      <td>13.89</td>\n",
       "      <td>3.60</td>\n",
       "      <td>1.36</td>\n",
       "      <td>72.73</td>\n",
       "      <td>0.48</td>\n",
       "      <td>7.83</td>\n",
       "      <td>0.0</td>\n",
       "      <td>0.00</td>\n",
       "      <td>1</td>\n",
       "    </tr>\n",
       "    <tr>\n",
       "      <th>1</th>\n",
       "      <td>1.51618</td>\n",
       "      <td>13.53</td>\n",
       "      <td>3.55</td>\n",
       "      <td>1.54</td>\n",
       "      <td>72.99</td>\n",
       "      <td>0.39</td>\n",
       "      <td>7.78</td>\n",
       "      <td>0.0</td>\n",
       "      <td>0.00</td>\n",
       "      <td>1</td>\n",
       "    </tr>\n",
       "    <tr>\n",
       "      <th>2</th>\n",
       "      <td>1.51766</td>\n",
       "      <td>13.21</td>\n",
       "      <td>3.69</td>\n",
       "      <td>1.29</td>\n",
       "      <td>72.61</td>\n",
       "      <td>0.57</td>\n",
       "      <td>8.22</td>\n",
       "      <td>0.0</td>\n",
       "      <td>0.00</td>\n",
       "      <td>1</td>\n",
       "    </tr>\n",
       "    <tr>\n",
       "      <th>3</th>\n",
       "      <td>1.51742</td>\n",
       "      <td>13.27</td>\n",
       "      <td>3.62</td>\n",
       "      <td>1.24</td>\n",
       "      <td>73.08</td>\n",
       "      <td>0.55</td>\n",
       "      <td>8.07</td>\n",
       "      <td>0.0</td>\n",
       "      <td>0.00</td>\n",
       "      <td>1</td>\n",
       "    </tr>\n",
       "    <tr>\n",
       "      <th>4</th>\n",
       "      <td>1.51596</td>\n",
       "      <td>12.79</td>\n",
       "      <td>3.61</td>\n",
       "      <td>1.62</td>\n",
       "      <td>72.97</td>\n",
       "      <td>0.64</td>\n",
       "      <td>8.07</td>\n",
       "      <td>0.0</td>\n",
       "      <td>0.26</td>\n",
       "      <td>1</td>\n",
       "    </tr>\n",
       "  </tbody>\n",
       "</table>\n",
       "</div>"
      ],
      "text/plain": [
       "        RI     Na    Mg    Al     Si     K    Ca   Ba    Fe  Type of glass\n",
       "0  1.51761  13.89  3.60  1.36  72.73  0.48  7.83  0.0  0.00              1\n",
       "1  1.51618  13.53  3.55  1.54  72.99  0.39  7.78  0.0  0.00              1\n",
       "2  1.51766  13.21  3.69  1.29  72.61  0.57  8.22  0.0  0.00              1\n",
       "3  1.51742  13.27  3.62  1.24  73.08  0.55  8.07  0.0  0.00              1\n",
       "4  1.51596  12.79  3.61  1.62  72.97  0.64  8.07  0.0  0.26              1"
      ]
     },
     "execution_count": 6,
     "metadata": {},
     "output_type": "execute_result"
    }
   ],
   "source": [
    "df.head()"
   ]
  },
  {
   "cell_type": "markdown",
   "id": "782cf0d0",
   "metadata": {},
   "source": [
    "#### Exploratory Data Analysis (EDA)"
   ]
  },
  {
   "cell_type": "code",
   "execution_count": 7,
   "id": "33b26a78",
   "metadata": {},
   "outputs": [
    {
     "data": {
      "text/plain": [
       "(213, 10)"
      ]
     },
     "execution_count": 7,
     "metadata": {},
     "output_type": "execute_result"
    }
   ],
   "source": [
    "#Checking for shape\n",
    "df.shape"
   ]
  },
  {
   "cell_type": "markdown",
   "id": "d657a810",
   "metadata": {},
   "source": [
    "We can see our dataset contains 213 rows and 10 columns, out of which 1 column is our target column and the rest are features."
   ]
  },
  {
   "cell_type": "code",
   "execution_count": 8,
   "id": "6e626286",
   "metadata": {},
   "outputs": [
    {
     "data": {
      "text/plain": [
       "RI               0\n",
       "Na               0\n",
       "Mg               0\n",
       "Al               0\n",
       "Si               0\n",
       "K                0\n",
       "Ca               0\n",
       "Ba               0\n",
       "Fe               0\n",
       "Type of glass    0\n",
       "dtype: int64"
      ]
     },
     "execution_count": 8,
     "metadata": {},
     "output_type": "execute_result"
    }
   ],
   "source": [
    "#Checking for missing values\n",
    "df.isna().sum()"
   ]
  },
  {
   "cell_type": "markdown",
   "id": "c722e653",
   "metadata": {},
   "source": [
    "We can see there are no missing values as of now. Let's move forward."
   ]
  },
  {
   "cell_type": "code",
   "execution_count": 9,
   "id": "05c2dc06",
   "metadata": {},
   "outputs": [
    {
     "data": {
      "text/plain": [
       "RI               177\n",
       "Na               142\n",
       "Mg                93\n",
       "Al               117\n",
       "Si               132\n",
       "K                 65\n",
       "Ca               143\n",
       "Ba                34\n",
       "Fe                32\n",
       "Type of glass      6\n",
       "dtype: int64"
      ]
     },
     "execution_count": 9,
     "metadata": {},
     "output_type": "execute_result"
    }
   ],
   "source": [
    "#Checking for unique values \n",
    "df.nunique()"
   ]
  },
  {
   "cell_type": "markdown",
   "id": "d9bfd53b",
   "metadata": {},
   "source": [
    "We can see the unique values in our dataset."
   ]
  },
  {
   "cell_type": "code",
   "execution_count": 10,
   "id": "7c089f16",
   "metadata": {},
   "outputs": [
    {
     "name": "stdout",
     "output_type": "stream",
     "text": [
      "1.52152    3\n",
      "1.51590    3\n",
      "1.51645    3\n",
      "1.51761    2\n",
      "1.51613    2\n",
      "          ..\n",
      "1.51625    1\n",
      "1.51569    1\n",
      "1.51605    1\n",
      "1.51588    1\n",
      "1.51651    1\n",
      "Name: RI, Length: 177, dtype: int64\n",
      "\n",
      "\n",
      "13.21    5\n",
      "13.02    5\n",
      "13.00    5\n",
      "12.85    4\n",
      "12.86    4\n",
      "        ..\n",
      "13.34    1\n",
      "13.31    1\n",
      "14.17    1\n",
      "13.51    1\n",
      "14.23    1\n",
      "Name: Na, Length: 142, dtype: int64\n",
      "\n",
      "\n",
      "0.00    42\n",
      "3.48     8\n",
      "3.58     8\n",
      "3.54     8\n",
      "3.52     7\n",
      "        ..\n",
      "3.46     1\n",
      "3.73     1\n",
      "3.97     1\n",
      "3.89     1\n",
      "1.78     1\n",
      "Name: Mg, Length: 93, dtype: int64\n",
      "\n",
      "\n",
      "1.54    8\n",
      "1.19    6\n",
      "1.56    5\n",
      "1.29    5\n",
      "1.43    5\n",
      "       ..\n",
      "1.61    1\n",
      "0.88    1\n",
      "1.05    1\n",
      "0.65    1\n",
      "1.94    1\n",
      "Name: Al, Length: 117, dtype: int64\n",
      "\n",
      "\n",
      "72.99    4\n",
      "73.10    4\n",
      "72.86    4\n",
      "73.28    4\n",
      "73.11    4\n",
      "        ..\n",
      "70.57    1\n",
      "73.81    1\n",
      "72.92    1\n",
      "73.55    1\n",
      "73.61    1\n",
      "Name: Si, Length: 132, dtype: int64\n",
      "\n",
      "\n",
      "0.00    30\n",
      "0.57    12\n",
      "0.56    11\n",
      "0.60    11\n",
      "0.58    10\n",
      "        ..\n",
      "0.44     1\n",
      "0.07     1\n",
      "0.73     1\n",
      "0.70     1\n",
      "1.41     1\n",
      "Name: K, Length: 65, dtype: int64\n",
      "\n",
      "\n",
      "8.03    5\n",
      "8.43    5\n",
      "8.44    4\n",
      "9.57    4\n",
      "8.79    4\n",
      "       ..\n",
      "8.90    1\n",
      "9.13    1\n",
      "7.78    1\n",
      "8.96    1\n",
      "8.62    1\n",
      "Name: Ca, Length: 143, dtype: int64\n",
      "\n",
      "\n",
      "0.00    175\n",
      "0.64      2\n",
      "1.57      2\n",
      "0.09      2\n",
      "1.59      2\n",
      "0.11      2\n",
      "3.15      1\n",
      "0.81      1\n",
      "1.64      1\n",
      "1.06      1\n",
      "0.54      1\n",
      "2.88      1\n",
      "1.38      1\n",
      "1.55      1\n",
      "0.67      1\n",
      "1.71      1\n",
      "0.56      1\n",
      "0.63      1\n",
      "0.53      1\n",
      "0.66      1\n",
      "0.61      1\n",
      "0.27      1\n",
      "0.69      1\n",
      "0.40      1\n",
      "0.14      1\n",
      "0.76      1\n",
      "1.68      1\n",
      "1.63      1\n",
      "1.19      1\n",
      "0.24      1\n",
      "2.20      1\n",
      "0.15      1\n",
      "0.06      1\n",
      "1.67      1\n",
      "Name: Ba, dtype: int64\n",
      "\n",
      "\n",
      "0.00    143\n",
      "0.24      7\n",
      "0.17      7\n",
      "0.09      6\n",
      "0.10      5\n",
      "0.11      4\n",
      "0.16      3\n",
      "0.28      3\n",
      "0.12      3\n",
      "0.22      3\n",
      "0.14      3\n",
      "0.07      3\n",
      "0.19      2\n",
      "0.15      2\n",
      "0.08      2\n",
      "0.06      1\n",
      "0.21      1\n",
      "0.05      1\n",
      "0.51      1\n",
      "0.37      1\n",
      "0.35      1\n",
      "0.25      1\n",
      "0.18      1\n",
      "0.34      1\n",
      "0.29      1\n",
      "0.30      1\n",
      "0.20      1\n",
      "0.32      1\n",
      "0.26      1\n",
      "0.03      1\n",
      "0.31      1\n",
      "0.01      1\n",
      "Name: Fe, dtype: int64\n",
      "\n",
      "\n",
      "2    76\n",
      "1    69\n",
      "7    29\n",
      "3    17\n",
      "5    13\n",
      "6     9\n",
      "Name: Type of glass, dtype: int64\n",
      "\n",
      "\n"
     ]
    }
   ],
   "source": [
    "#Checking the value count for each column to check if there are any missing values or white spaces\n",
    "for i in df.columns:\n",
    "    print(df[i].value_counts())\n",
    "    print(\"\\n\")"
   ]
  },
  {
   "cell_type": "markdown",
   "id": "e98b7b36",
   "metadata": {},
   "source": [
    "We can see there are no missing values as well as white spaces present in our dataset. Great! Let's move ahead."
   ]
  },
  {
   "cell_type": "code",
   "execution_count": 11,
   "id": "66b389d0",
   "metadata": {},
   "outputs": [
    {
     "name": "stdout",
     "output_type": "stream",
     "text": [
      "<class 'pandas.core.frame.DataFrame'>\n",
      "RangeIndex: 213 entries, 0 to 212\n",
      "Data columns (total 10 columns):\n",
      " #   Column         Non-Null Count  Dtype  \n",
      "---  ------         --------------  -----  \n",
      " 0   RI             213 non-null    float64\n",
      " 1   Na             213 non-null    float64\n",
      " 2   Mg             213 non-null    float64\n",
      " 3   Al             213 non-null    float64\n",
      " 4   Si             213 non-null    float64\n",
      " 5   K              213 non-null    float64\n",
      " 6   Ca             213 non-null    float64\n",
      " 7   Ba             213 non-null    float64\n",
      " 8   Fe             213 non-null    float64\n",
      " 9   Type of glass  213 non-null    int64  \n",
      "dtypes: float64(9), int64(1)\n",
      "memory usage: 16.8 KB\n"
     ]
    }
   ],
   "source": [
    "df.info()"
   ]
  },
  {
   "cell_type": "markdown",
   "id": "8625c419",
   "metadata": {},
   "source": [
    "It gives the information about the row count, column count, column names, data types, non-null count and memory usage."
   ]
  },
  {
   "cell_type": "code",
   "execution_count": 12,
   "id": "08386355",
   "metadata": {},
   "outputs": [
    {
     "data": {
      "text/html": [
       "<div>\n",
       "<style scoped>\n",
       "    .dataframe tbody tr th:only-of-type {\n",
       "        vertical-align: middle;\n",
       "    }\n",
       "\n",
       "    .dataframe tbody tr th {\n",
       "        vertical-align: top;\n",
       "    }\n",
       "\n",
       "    .dataframe thead th {\n",
       "        text-align: right;\n",
       "    }\n",
       "</style>\n",
       "<table border=\"1\" class=\"dataframe\">\n",
       "  <thead>\n",
       "    <tr style=\"text-align: right;\">\n",
       "      <th></th>\n",
       "      <th>RI</th>\n",
       "      <th>Na</th>\n",
       "      <th>Mg</th>\n",
       "      <th>Al</th>\n",
       "      <th>Si</th>\n",
       "      <th>K</th>\n",
       "      <th>Ca</th>\n",
       "      <th>Ba</th>\n",
       "      <th>Fe</th>\n",
       "      <th>Type of glass</th>\n",
       "    </tr>\n",
       "  </thead>\n",
       "  <tbody>\n",
       "    <tr>\n",
       "      <th>count</th>\n",
       "      <td>213.000000</td>\n",
       "      <td>213.000000</td>\n",
       "      <td>213.000000</td>\n",
       "      <td>213.000000</td>\n",
       "      <td>213.000000</td>\n",
       "      <td>213.000000</td>\n",
       "      <td>213.000000</td>\n",
       "      <td>213.000000</td>\n",
       "      <td>213.000000</td>\n",
       "      <td>213.000000</td>\n",
       "    </tr>\n",
       "    <tr>\n",
       "      <th>mean</th>\n",
       "      <td>1.518353</td>\n",
       "      <td>13.406761</td>\n",
       "      <td>2.676056</td>\n",
       "      <td>1.446526</td>\n",
       "      <td>72.655023</td>\n",
       "      <td>0.499108</td>\n",
       "      <td>8.957934</td>\n",
       "      <td>0.175869</td>\n",
       "      <td>0.057277</td>\n",
       "      <td>2.788732</td>\n",
       "    </tr>\n",
       "    <tr>\n",
       "      <th>std</th>\n",
       "      <td>0.003039</td>\n",
       "      <td>0.818371</td>\n",
       "      <td>1.440453</td>\n",
       "      <td>0.499882</td>\n",
       "      <td>0.774052</td>\n",
       "      <td>0.653035</td>\n",
       "      <td>1.426435</td>\n",
       "      <td>0.498245</td>\n",
       "      <td>0.097589</td>\n",
       "      <td>2.105130</td>\n",
       "    </tr>\n",
       "    <tr>\n",
       "      <th>min</th>\n",
       "      <td>1.511150</td>\n",
       "      <td>10.730000</td>\n",
       "      <td>0.000000</td>\n",
       "      <td>0.290000</td>\n",
       "      <td>69.810000</td>\n",
       "      <td>0.000000</td>\n",
       "      <td>5.430000</td>\n",
       "      <td>0.000000</td>\n",
       "      <td>0.000000</td>\n",
       "      <td>1.000000</td>\n",
       "    </tr>\n",
       "    <tr>\n",
       "      <th>25%</th>\n",
       "      <td>1.516520</td>\n",
       "      <td>12.900000</td>\n",
       "      <td>2.090000</td>\n",
       "      <td>1.190000</td>\n",
       "      <td>72.280000</td>\n",
       "      <td>0.130000</td>\n",
       "      <td>8.240000</td>\n",
       "      <td>0.000000</td>\n",
       "      <td>0.000000</td>\n",
       "      <td>1.000000</td>\n",
       "    </tr>\n",
       "    <tr>\n",
       "      <th>50%</th>\n",
       "      <td>1.517680</td>\n",
       "      <td>13.300000</td>\n",
       "      <td>3.480000</td>\n",
       "      <td>1.360000</td>\n",
       "      <td>72.790000</td>\n",
       "      <td>0.560000</td>\n",
       "      <td>8.600000</td>\n",
       "      <td>0.000000</td>\n",
       "      <td>0.000000</td>\n",
       "      <td>2.000000</td>\n",
       "    </tr>\n",
       "    <tr>\n",
       "      <th>75%</th>\n",
       "      <td>1.519150</td>\n",
       "      <td>13.830000</td>\n",
       "      <td>3.600000</td>\n",
       "      <td>1.630000</td>\n",
       "      <td>73.090000</td>\n",
       "      <td>0.610000</td>\n",
       "      <td>9.180000</td>\n",
       "      <td>0.000000</td>\n",
       "      <td>0.100000</td>\n",
       "      <td>3.000000</td>\n",
       "    </tr>\n",
       "    <tr>\n",
       "      <th>max</th>\n",
       "      <td>1.533930</td>\n",
       "      <td>17.380000</td>\n",
       "      <td>3.980000</td>\n",
       "      <td>3.500000</td>\n",
       "      <td>75.410000</td>\n",
       "      <td>6.210000</td>\n",
       "      <td>16.190000</td>\n",
       "      <td>3.150000</td>\n",
       "      <td>0.510000</td>\n",
       "      <td>7.000000</td>\n",
       "    </tr>\n",
       "  </tbody>\n",
       "</table>\n",
       "</div>"
      ],
      "text/plain": [
       "               RI          Na          Mg          Al          Si           K  \\\n",
       "count  213.000000  213.000000  213.000000  213.000000  213.000000  213.000000   \n",
       "mean     1.518353   13.406761    2.676056    1.446526   72.655023    0.499108   \n",
       "std      0.003039    0.818371    1.440453    0.499882    0.774052    0.653035   \n",
       "min      1.511150   10.730000    0.000000    0.290000   69.810000    0.000000   \n",
       "25%      1.516520   12.900000    2.090000    1.190000   72.280000    0.130000   \n",
       "50%      1.517680   13.300000    3.480000    1.360000   72.790000    0.560000   \n",
       "75%      1.519150   13.830000    3.600000    1.630000   73.090000    0.610000   \n",
       "max      1.533930   17.380000    3.980000    3.500000   75.410000    6.210000   \n",
       "\n",
       "               Ca          Ba          Fe  Type of glass  \n",
       "count  213.000000  213.000000  213.000000     213.000000  \n",
       "mean     8.957934    0.175869    0.057277       2.788732  \n",
       "std      1.426435    0.498245    0.097589       2.105130  \n",
       "min      5.430000    0.000000    0.000000       1.000000  \n",
       "25%      8.240000    0.000000    0.000000       1.000000  \n",
       "50%      8.600000    0.000000    0.000000       2.000000  \n",
       "75%      9.180000    0.000000    0.100000       3.000000  \n",
       "max     16.190000    3.150000    0.510000       7.000000  "
      ]
     },
     "execution_count": 12,
     "metadata": {},
     "output_type": "execute_result"
    }
   ],
   "source": [
    "df.describe()"
   ]
  },
  {
   "cell_type": "markdown",
   "id": "a64f2791",
   "metadata": {},
   "source": [
    "It gives the statistical information about the dataset about no. of count, mean values, standard deviation, min values, 25% quantile, 50% and 75% quantile and max values in the dataset."
   ]
  },
  {
   "cell_type": "markdown",
   "id": "87599036",
   "metadata": {},
   "source": [
    "#### Checking for Correlation"
   ]
  },
  {
   "cell_type": "code",
   "execution_count": 13,
   "id": "e6a65d0e",
   "metadata": {},
   "outputs": [
    {
     "data": {
      "text/html": [
       "<div>\n",
       "<style scoped>\n",
       "    .dataframe tbody tr th:only-of-type {\n",
       "        vertical-align: middle;\n",
       "    }\n",
       "\n",
       "    .dataframe tbody tr th {\n",
       "        vertical-align: top;\n",
       "    }\n",
       "\n",
       "    .dataframe thead th {\n",
       "        text-align: right;\n",
       "    }\n",
       "</style>\n",
       "<table border=\"1\" class=\"dataframe\">\n",
       "  <thead>\n",
       "    <tr style=\"text-align: right;\">\n",
       "      <th></th>\n",
       "      <th>RI</th>\n",
       "      <th>Na</th>\n",
       "      <th>Mg</th>\n",
       "      <th>Al</th>\n",
       "      <th>Si</th>\n",
       "      <th>K</th>\n",
       "      <th>Ca</th>\n",
       "      <th>Ba</th>\n",
       "      <th>Fe</th>\n",
       "      <th>Type of glass</th>\n",
       "    </tr>\n",
       "  </thead>\n",
       "  <tbody>\n",
       "    <tr>\n",
       "      <th>RI</th>\n",
       "      <td>1.000000</td>\n",
       "      <td>-0.193436</td>\n",
       "      <td>-0.128118</td>\n",
       "      <td>-0.405671</td>\n",
       "      <td>-0.540010</td>\n",
       "      <td>-0.287900</td>\n",
       "      <td>0.812495</td>\n",
       "      <td>0.001062</td>\n",
       "      <td>0.145791</td>\n",
       "      <td>-0.161322</td>\n",
       "    </tr>\n",
       "    <tr>\n",
       "      <th>Na</th>\n",
       "      <td>-0.193436</td>\n",
       "      <td>1.000000</td>\n",
       "      <td>-0.276486</td>\n",
       "      <td>0.157928</td>\n",
       "      <td>-0.068519</td>\n",
       "      <td>-0.265520</td>\n",
       "      <td>-0.275314</td>\n",
       "      <td>0.327233</td>\n",
       "      <td>-0.240802</td>\n",
       "      <td>0.504983</td>\n",
       "    </tr>\n",
       "    <tr>\n",
       "      <th>Mg</th>\n",
       "      <td>-0.128118</td>\n",
       "      <td>-0.276486</td>\n",
       "      <td>1.000000</td>\n",
       "      <td>-0.480035</td>\n",
       "      <td>-0.160359</td>\n",
       "      <td>0.009397</td>\n",
       "      <td>-0.444559</td>\n",
       "      <td>-0.492149</td>\n",
       "      <td>0.086906</td>\n",
       "      <td>-0.744004</td>\n",
       "    </tr>\n",
       "    <tr>\n",
       "      <th>Al</th>\n",
       "      <td>-0.405671</td>\n",
       "      <td>0.157928</td>\n",
       "      <td>-0.480035</td>\n",
       "      <td>1.000000</td>\n",
       "      <td>-0.009226</td>\n",
       "      <td>0.324484</td>\n",
       "      <td>-0.260372</td>\n",
       "      <td>0.478936</td>\n",
       "      <td>-0.076456</td>\n",
       "      <td>0.597754</td>\n",
       "    </tr>\n",
       "    <tr>\n",
       "      <th>Si</th>\n",
       "      <td>-0.540010</td>\n",
       "      <td>-0.068519</td>\n",
       "      <td>-0.160359</td>\n",
       "      <td>-0.009226</td>\n",
       "      <td>1.000000</td>\n",
       "      <td>-0.197684</td>\n",
       "      <td>-0.210141</td>\n",
       "      <td>-0.104361</td>\n",
       "      <td>-0.097674</td>\n",
       "      <td>0.147767</td>\n",
       "    </tr>\n",
       "    <tr>\n",
       "      <th>K</th>\n",
       "      <td>-0.287900</td>\n",
       "      <td>-0.265520</td>\n",
       "      <td>0.009397</td>\n",
       "      <td>0.324484</td>\n",
       "      <td>-0.197684</td>\n",
       "      <td>1.000000</td>\n",
       "      <td>-0.318649</td>\n",
       "      <td>-0.043790</td>\n",
       "      <td>-0.009586</td>\n",
       "      <td>-0.012765</td>\n",
       "    </tr>\n",
       "    <tr>\n",
       "      <th>Ca</th>\n",
       "      <td>0.812495</td>\n",
       "      <td>-0.275314</td>\n",
       "      <td>-0.444559</td>\n",
       "      <td>-0.260372</td>\n",
       "      <td>-0.210141</td>\n",
       "      <td>-0.318649</td>\n",
       "      <td>1.000000</td>\n",
       "      <td>-0.113121</td>\n",
       "      <td>0.124674</td>\n",
       "      <td>0.000372</td>\n",
       "    </tr>\n",
       "    <tr>\n",
       "      <th>Ba</th>\n",
       "      <td>0.001062</td>\n",
       "      <td>0.327233</td>\n",
       "      <td>-0.492149</td>\n",
       "      <td>0.478936</td>\n",
       "      <td>-0.104361</td>\n",
       "      <td>-0.043790</td>\n",
       "      <td>-0.113121</td>\n",
       "      <td>1.000000</td>\n",
       "      <td>-0.059729</td>\n",
       "      <td>0.574896</td>\n",
       "    </tr>\n",
       "    <tr>\n",
       "      <th>Fe</th>\n",
       "      <td>0.145791</td>\n",
       "      <td>-0.240802</td>\n",
       "      <td>0.086906</td>\n",
       "      <td>-0.076456</td>\n",
       "      <td>-0.097674</td>\n",
       "      <td>-0.009586</td>\n",
       "      <td>0.124674</td>\n",
       "      <td>-0.059729</td>\n",
       "      <td>1.000000</td>\n",
       "      <td>-0.191090</td>\n",
       "    </tr>\n",
       "    <tr>\n",
       "      <th>Type of glass</th>\n",
       "      <td>-0.161322</td>\n",
       "      <td>0.504983</td>\n",
       "      <td>-0.744004</td>\n",
       "      <td>0.597754</td>\n",
       "      <td>0.147767</td>\n",
       "      <td>-0.012765</td>\n",
       "      <td>0.000372</td>\n",
       "      <td>0.574896</td>\n",
       "      <td>-0.191090</td>\n",
       "      <td>1.000000</td>\n",
       "    </tr>\n",
       "  </tbody>\n",
       "</table>\n",
       "</div>"
      ],
      "text/plain": [
       "                     RI        Na        Mg        Al        Si         K  \\\n",
       "RI             1.000000 -0.193436 -0.128118 -0.405671 -0.540010 -0.287900   \n",
       "Na            -0.193436  1.000000 -0.276486  0.157928 -0.068519 -0.265520   \n",
       "Mg            -0.128118 -0.276486  1.000000 -0.480035 -0.160359  0.009397   \n",
       "Al            -0.405671  0.157928 -0.480035  1.000000 -0.009226  0.324484   \n",
       "Si            -0.540010 -0.068519 -0.160359 -0.009226  1.000000 -0.197684   \n",
       "K             -0.287900 -0.265520  0.009397  0.324484 -0.197684  1.000000   \n",
       "Ca             0.812495 -0.275314 -0.444559 -0.260372 -0.210141 -0.318649   \n",
       "Ba             0.001062  0.327233 -0.492149  0.478936 -0.104361 -0.043790   \n",
       "Fe             0.145791 -0.240802  0.086906 -0.076456 -0.097674 -0.009586   \n",
       "Type of glass -0.161322  0.504983 -0.744004  0.597754  0.147767 -0.012765   \n",
       "\n",
       "                     Ca        Ba        Fe  Type of glass  \n",
       "RI             0.812495  0.001062  0.145791      -0.161322  \n",
       "Na            -0.275314  0.327233 -0.240802       0.504983  \n",
       "Mg            -0.444559 -0.492149  0.086906      -0.744004  \n",
       "Al            -0.260372  0.478936 -0.076456       0.597754  \n",
       "Si            -0.210141 -0.104361 -0.097674       0.147767  \n",
       "K             -0.318649 -0.043790 -0.009586      -0.012765  \n",
       "Ca             1.000000 -0.113121  0.124674       0.000372  \n",
       "Ba            -0.113121  1.000000 -0.059729       0.574896  \n",
       "Fe             0.124674 -0.059729  1.000000      -0.191090  \n",
       "Type of glass  0.000372  0.574896 -0.191090       1.000000  "
      ]
     },
     "execution_count": 13,
     "metadata": {},
     "output_type": "execute_result"
    }
   ],
   "source": [
    "df.corr()"
   ]
  },
  {
   "cell_type": "code",
   "execution_count": 14,
   "id": "d6f49d50",
   "metadata": {},
   "outputs": [
    {
     "data": {
      "image/png": "[encoded data removed]",
      "text/plain": [
       "<Figure size 1000x600 with 2 Axes>"
      ]
     },
     "metadata": {},
     "output_type": "display_data"
    }
   ],
   "source": [
    "#Let's plot a heatmap for visualizing the correlation between features and label\n",
    "plt.figure(figsize=(10, 6))\n",
    "sns.heatmap(df.corr(), annot=True, linewidth=0.5, cmap='Blues_r')\n",
    "plt.show()"
   ]
  },
  {
   "cell_type": "markdown",
   "id": "a657a13f",
   "metadata": {},
   "source": [
    "Here we can see Barium has 57% positive correlation with Type of glass where as Silicon has only 15% positive correlation."
   ]
  },
  {
   "cell_type": "markdown",
   "id": "1ff0731f",
   "metadata": {},
   "source": [
    "#### Data Visualization"
   ]
  },
  {
   "cell_type": "code",
   "execution_count": 15,
   "id": "55330c03",
   "metadata": {},
   "outputs": [
    {
     "name": "stdout",
     "output_type": "stream",
     "text": [
      "2    76\n",
      "1    69\n",
      "7    29\n",
      "3    17\n",
      "5    13\n",
      "6     9\n",
      "Name: Type of glass, dtype: int64\n"
     ]
    },
    {
     "data": {
      "image/png": "[encoded data removed]",
      "text/plain": [
       "<Figure size 640x480 with 1 Axes>"
      ]
     },
     "metadata": {},
     "output_type": "display_data"
    }
   ],
   "source": [
    "#Visualizing Type of glass\n",
    "ax = sns.countplot(x='Type of glass', data=df)\n",
    "print(df['Type of glass'].value_counts())\n",
    "plt.show()"
   ]
  },
  {
   "cell_type": "markdown",
   "id": "ce763930",
   "metadata": {},
   "source": [
    "Here we can see that type 1 & 2 glasses are more in number followed by type 7. Type 1 & 2 for windows and type 7 for headlamps."
   ]
  },
  {
   "cell_type": "code",
   "execution_count": 19,
   "id": "fccb8210",
   "metadata": {},
   "outputs": [
    {
     "data": {
      "image/png": "[encoded data removed]",
      "text/plain": [
       "<Figure size 640x480 with 1 Axes>"
      ]
     },
     "metadata": {},
     "output_type": "display_data"
    }
   ],
   "source": [
    "#Comparing RI with Type of glass\n",
    "sns.barplot(x='Type of glass', y='RI', data=df, palette='colorblind') \n",
    "plt.show()"
   ]
  },
  {
   "cell_type": "markdown",
   "id": "e5561c07",
   "metadata": {},
   "source": [
    "We can see that type 5 has more RI w.r.t others."
   ]
  },
  {
   "cell_type": "code",
   "execution_count": 20,
   "id": "66d13a32",
   "metadata": {},
   "outputs": [
    {
     "data": {
      "image/png": "[encoded data removed]",
      "text/plain": [
       "<Figure size 640x480 with 1 Axes>"
      ]
     },
     "metadata": {},
     "output_type": "display_data"
    }
   ],
   "source": [
    "#Comparing Na with Type of glass\n",
    "sns.barplot(x='Type of glass', y='Na', data=df, palette='colorblind')\n",
    "plt.show()"
   ]
  },
  {
   "cell_type": "markdown",
   "id": "05e19af1",
   "metadata": {},
   "source": [
    "Here, type 6 & 7 contain more amount of Na as compared to others."
   ]
  },
  {
   "cell_type": "code",
   "execution_count": 21,
   "id": "1b7c4c45",
   "metadata": {},
   "outputs": [
    {
     "data": {
      "image/png": "[encoded data removed]",
      "text/plain": [
       "<Figure size 640x480 with 1 Axes>"
      ]
     },
     "metadata": {},
     "output_type": "display_data"
    }
   ],
   "source": [
    "#Comparing Mg with Type of glass\n",
    "sns.barplot(x='Type of glass', y='Mg', data=df, palette='colorblind')\n",
    "plt.show()"
   ]
  },
  {
   "cell_type": "markdown",
   "id": "f20bfd12",
   "metadata": {},
   "source": [
    "Here, we can see that type 1 & 3 contain more amount of Mg followed by type 2."
   ]
  },
  {
   "cell_type": "code",
   "execution_count": 22,
   "id": "9f6d7789",
   "metadata": {},
   "outputs": [
    {
     "data": {
      "text/plain": [
       "<Axes: xlabel='Type of glass', ylabel='Al'>"
      ]
     },
     "execution_count": 22,
     "metadata": {},
     "output_type": "execute_result"
    },
    {
     "data": {
      "image/png": "[encoded data removed]",
      "text/plain": [
       "<Figure size 640x480 with 1 Axes>"
      ]
     },
     "metadata": {},
     "output_type": "display_data"
    }
   ],
   "source": [
    "#Comparing Al with Type of glass\n",
    "sns.barplot(x='Type of glass', y='Al', data=df, palette='colorblind')"
   ]
  },
  {
   "cell_type": "markdown",
   "id": "d9a0c6f3",
   "metadata": {},
   "source": [
    "Here, we can see that type 5 & type 7 contain more Aluminium than others."
   ]
  },
  {
   "cell_type": "code",
   "execution_count": 23,
   "id": "a5b311a8",
   "metadata": {},
   "outputs": [
    {
     "data": {
      "text/plain": [
       "<Axes: xlabel='Type of glass', ylabel='Si'>"
      ]
     },
     "execution_count": 23,
     "metadata": {},
     "output_type": "execute_result"
    },
    {
     "data": {
      "image/png": "[encoded data removed]",
      "text/plain": [
       "<Figure size 640x480 with 1 Axes>"
      ]
     },
     "metadata": {},
     "output_type": "display_data"
    }
   ],
   "source": [
    "#Comparing Si with Type of glass\n",
    "sns.barplot(x='Type of glass', y='Si', data=df, palette='colorblind')"
   ]
  },
  {
   "cell_type": "markdown",
   "id": "d2604be5",
   "metadata": {},
   "source": [
    "We can see that silicon is relatively equally distributed with every type."
   ]
  },
  {
   "cell_type": "code",
   "execution_count": 24,
   "id": "a5c5dc60",
   "metadata": {},
   "outputs": [
    {
     "data": {
      "text/plain": [
       "<Axes: xlabel='Type of glass', ylabel='K'>"
      ]
     },
     "execution_count": 24,
     "metadata": {},
     "output_type": "execute_result"
    },
    {
     "data": {
      "image/png": "[encoded data removed]",
      "text/plain": [
       "<Figure size 640x480 with 1 Axes>"
      ]
     },
     "metadata": {},
     "output_type": "display_data"
    }
   ],
   "source": [
    "#Comparing K with Type of glass\n",
    "sns.barplot(x='Type of glass', y='K', data=df, palette='colorblind')"
   ]
  },
  {
   "cell_type": "markdown",
   "id": "268eef0f",
   "metadata": {},
   "source": [
    "Here, we can see that the glasses contains very least amount of Potassium and type 5 contains more among others."
   ]
  },
  {
   "cell_type": "code",
   "execution_count": 25,
   "id": "805da54a",
   "metadata": {},
   "outputs": [
    {
     "data": {
      "text/plain": [
       "<Axes: xlabel='Type of glass', ylabel='Ca'>"
      ]
     },
     "execution_count": 25,
     "metadata": {},
     "output_type": "execute_result"
    },
    {
     "data": {
      "image/png": "[encoded data removed]",
      "text/plain": [
       "<Figure size 640x480 with 1 Axes>"
      ]
     },
     "metadata": {},
     "output_type": "display_data"
    }
   ],
   "source": [
    "#Comparing Ca with Type of glass\n",
    "sns.barplot(x='Type of glass', y='Ca', data=df, palette='colorblind')"
   ]
  },
  {
   "cell_type": "markdown",
   "id": "c685f5ca",
   "metadata": {},
   "source": [
    "Here, we can see that type 5 contains more amount of Calcium than others followed by type 6."
   ]
  },
  {
   "cell_type": "code",
   "execution_count": 29,
   "id": "67d7015e",
   "metadata": {},
   "outputs": [
    {
     "data": {
      "text/plain": [
       "<Axes: xlabel='Type of glass', ylabel='Ba'>"
      ]
     },
     "execution_count": 29,
     "metadata": {},
     "output_type": "execute_result"
    },
    {
     "data": {
      "image/png": "[encoded data removed]",
      "text/plain": [
       "<Figure size 640x480 with 1 Axes>"
      ]
     },
     "metadata": {},
     "output_type": "display_data"
    }
   ],
   "source": [
    "#Comparing Ba with Type of glass\n",
    "sns.barplot(x='Type of glass', y='Ba', data=df, palette='colorblind')"
   ]
  },
  {
   "cell_type": "markdown",
   "id": "a1227969",
   "metadata": {},
   "source": [
    "Here, we can see that only type 7 contains Barium."
   ]
  },
  {
   "cell_type": "code",
   "execution_count": 31,
   "id": "6466037f",
   "metadata": {},
   "outputs": [
    {
     "data": {
      "text/plain": [
       "<Axes: xlabel='Type of glass', ylabel='Fe'>"
      ]
     },
     "execution_count": 31,
     "metadata": {},
     "output_type": "execute_result"
    },
    {
     "data": {
      "image/png": "[encoded data removed]",
      "text/plain": [
       "<Figure size 640x480 with 1 Axes>"
      ]
     },
     "metadata": {},
     "output_type": "display_data"
    }
   ],
   "source": [
    "#Comparing Fe with Type of glass\n",
    "sns.barplot(x='Type of glass', y='Fe', data=df, palette='colorblind')"
   ]
  },
  {
   "cell_type": "markdown",
   "id": "c46b5fe8",
   "metadata": {},
   "source": [
    "Here, we can see that type 1, 2 & 3 contain Iron w.r.t. others."
   ]
  },
  {
   "cell_type": "markdown",
   "id": "24bb1498",
   "metadata": {},
   "source": [
    "#### Checking for Outliers"
   ]
  },
  {
   "cell_type": "code",
   "execution_count": 7,
   "id": "58277611",
   "metadata": {
    "scrolled": false
   },
   "outputs": [
    {
     "data": {
      "image/png": "[encoded data removed]",
      "text/plain": [
       "<Figure size 1000x2500 with 10 Axes>"
      ]
     },
     "metadata": {},
     "output_type": "display_data"
    }
   ],
   "source": [
    "#Visualizing data using dist plot\n",
    "plt.figure(figsize= (10,25), facecolor='white')\n",
    "plotnumber=1\n",
    "for col in df:\n",
    "    if plotnumber<=10:\n",
    "        ax = plt.subplot(5,2, plotnumber)\n",
    "        sns.distplot(df[col], color = \"m\")\n",
    "        plt.xlabel(col, fontsize = 10)\n",
    "        plt.yticks(rotation=0, fontsize=8)\n",
    "    plotnumber+=1\n",
    "    plt.tight_layout()"
   ]
  },
  {
   "cell_type": "code",
   "execution_count": 8,
   "id": "13003aab",
   "metadata": {
    "scrolled": false
   },
   "outputs": [
    {
     "data": {
      "image/png": "[encoded data removed]",
      "text/plain": [
       "<Figure size 1500x3000 with 10 Axes>"
      ]
     },
     "metadata": {},
     "output_type": "display_data"
    }
   ],
   "source": [
    "#Checking for outliers by box plot\n",
    "plt.figure(figsize= (15, 30), facecolor=\"white\")\n",
    "plotnumber=1\n",
    "for col in df:\n",
    "    if plotnumber<=10:\n",
    "        ax = plt.subplot(5,2,plotnumber)\n",
    "        sns.boxplot(df[col], palette = \"Set2_r\")\n",
    "        plt.xlabel(col, fontsize=15)\n",
    "        plt.yticks(rotation=0, fontsize=10)\n",
    "    plotnumber+=1\n",
    "plt.tight_layout()    "
   ]
  },
  {
   "cell_type": "markdown",
   "id": "5474fb8c",
   "metadata": {},
   "source": [
    "We can see there are alot of outliers in K, Ca, Ba and Fe. Let's deal with them."
   ]
  },
  {
   "cell_type": "markdown",
   "id": "8d1ac2e0",
   "metadata": {},
   "source": [
    "#### Checking for skewness"
   ]
  },
  {
   "cell_type": "code",
   "execution_count": 7,
   "id": "19e2527c",
   "metadata": {},
   "outputs": [
    {
     "data": {
      "text/plain": [
       "RI               1.639658\n",
       "Na               0.457318\n",
       "Mg              -1.154323\n",
       "Al               0.900017\n",
       "Si              -0.744546\n",
       "K                6.549276\n",
       "Ca               2.040591\n",
       "Ba               3.406749\n",
       "Fe               1.747173\n",
       "Type of glass    1.108861\n",
       "dtype: float64"
      ]
     },
     "execution_count": 7,
     "metadata": {},
     "output_type": "execute_result"
    }
   ],
   "source": [
    "df.skew()"
   ]
  },
  {
   "cell_type": "markdown",
   "id": "11bf72a9",
   "metadata": {},
   "source": [
    "We can see there are alot of skewness in our dataset, let's just remove it."
   ]
  },
  {
   "cell_type": "code",
   "execution_count": 8,
   "id": "4b144a61",
   "metadata": {},
   "outputs": [],
   "source": [
    "#Removing skewness using transformation methods\n",
    "df['RI'] = np.cbrt(df['RI'])\n",
    "\n",
    "df['Al'] = np.cbrt(df['Al'])\n",
    "\n",
    "df['K'] = np.cbrt(df['K'])\n",
    "\n",
    "df['Ca'] = np.log(df['Ca'])\n",
    "\n",
    "df['Ba'] = np.cbrt(df['Ba'])\n",
    "\n",
    "df['Fe'] = np.cbrt(df['Fe'])\n",
    "\n",
    "df['Type of glass'] = np.cbrt(df['Type of glass'])"
   ]
  },
  {
   "cell_type": "markdown",
   "id": "27de6e95",
   "metadata": {},
   "source": [
    "We have removed skewness from those columns. Let's check."
   ]
  },
  {
   "cell_type": "code",
   "execution_count": 9,
   "id": "20ac7694",
   "metadata": {},
   "outputs": [
    {
     "data": {
      "text/plain": [
       "RI               1.631276\n",
       "Na               0.457318\n",
       "Mg              -1.154323\n",
       "Al              -0.212025\n",
       "Si              -0.744546\n",
       "K               -0.602542\n",
       "Ca               1.062738\n",
       "Ba               2.065220\n",
       "Fe               0.887382\n",
       "Type of glass    0.714229\n",
       "dtype: float64"
      ]
     },
     "execution_count": 9,
     "metadata": {},
     "output_type": "execute_result"
    }
   ],
   "source": [
    "df.skew()"
   ]
  },
  {
   "cell_type": "code",
   "execution_count": 10,
   "id": "f62cf3b8",
   "metadata": {},
   "outputs": [],
   "source": [
    "#Removing skewness from target variable\n",
    "df['Type of glass'] = np.cbrt(df['Type of glass'])"
   ]
  },
  {
   "cell_type": "code",
   "execution_count": 11,
   "id": "df9e6d3d",
   "metadata": {},
   "outputs": [],
   "source": [
    "df['RI'] = np.cbrt(df['RI'])\n",
    "df['Ca'] = np.cbrt(df['Ca'])\n",
    "df['Ba'] = np.cbrt(df['Ba'])\n",
    "df['Fe'] = np.cbrt(df['Fe'])"
   ]
  },
  {
   "cell_type": "code",
   "execution_count": 12,
   "id": "48b4988b",
   "metadata": {},
   "outputs": [
    {
     "data": {
      "text/plain": [
       "RI               1.628486\n",
       "Na               0.457318\n",
       "Mg              -1.154323\n",
       "Al              -0.212025\n",
       "Si              -0.744546\n",
       "K               -0.602542\n",
       "Ca               0.736782\n",
       "Ba               1.748815\n",
       "Fe               0.755148\n",
       "Type of glass    0.548898\n",
       "dtype: float64"
      ]
     },
     "execution_count": 12,
     "metadata": {},
     "output_type": "execute_result"
    }
   ],
   "source": [
    "df.skew()"
   ]
  },
  {
   "cell_type": "markdown",
   "id": "b08a6167",
   "metadata": {},
   "source": [
    "Now our data looks good, let's move ahead."
   ]
  },
  {
   "cell_type": "markdown",
   "id": "f6c12fd9",
   "metadata": {},
   "source": [
    "#### Z-Score"
   ]
  },
  {
   "cell_type": "code",
   "execution_count": 13,
   "id": "eaa7fdb3",
   "metadata": {},
   "outputs": [
    {
     "data": {
      "text/plain": [
       "(213, 10)"
      ]
     },
     "execution_count": 13,
     "metadata": {},
     "output_type": "execute_result"
    }
   ],
   "source": [
    "from scipy.stats import zscore\n",
    "\n",
    "z = np.abs(zscore(df))\n",
    "z.shape"
   ]
  },
  {
   "cell_type": "code",
   "execution_count": 14,
   "id": "3af81436",
   "metadata": {},
   "outputs": [
    {
     "name": "stdout",
     "output_type": "stream",
     "text": [
      "(array([ 20, 105, 105, 105, 106, 106, 106, 109, 110, 111, 111, 162, 162,\n",
      "       162, 170, 171, 183, 183, 183, 184, 185, 187, 200], dtype=int64), array([3, 0, 1, 4, 0, 4, 6, 6, 6, 0, 6, 3, 4, 6, 5, 5, 1, 3, 4, 6, 6, 4,\n",
      "       4], dtype=int64))\n"
     ]
    }
   ],
   "source": [
    "threshold = 3\n",
    "print(np.where(z>3))"
   ]
  },
  {
   "cell_type": "markdown",
   "id": "b84de1b8",
   "metadata": {},
   "source": [
    "#### Separating Features and Label"
   ]
  },
  {
   "cell_type": "code",
   "execution_count": 15,
   "id": "b07378a9",
   "metadata": {},
   "outputs": [],
   "source": [
    "x = df.drop(\"Type of glass\", axis=1)\n",
    "y = df[\"Type of glass\"]"
   ]
  },
  {
   "cell_type": "markdown",
   "id": "4e6b3222",
   "metadata": {},
   "source": [
    "#### Feature Scaling using Standard Scaler"
   ]
  },
  {
   "cell_type": "code",
   "execution_count": 16,
   "id": "cc3469c5",
   "metadata": {},
   "outputs": [
    {
     "data": {
      "text/html": [
       "<div>\n",
       "<style scoped>\n",
       "    .dataframe tbody tr th:only-of-type {\n",
       "        vertical-align: middle;\n",
       "    }\n",
       "\n",
       "    .dataframe tbody tr th {\n",
       "        vertical-align: top;\n",
       "    }\n",
       "\n",
       "    .dataframe thead th {\n",
       "        text-align: right;\n",
       "    }\n",
       "</style>\n",
       "<table border=\"1\" class=\"dataframe\">\n",
       "  <thead>\n",
       "    <tr style=\"text-align: right;\">\n",
       "      <th></th>\n",
       "      <th>RI</th>\n",
       "      <th>Na</th>\n",
       "      <th>Mg</th>\n",
       "      <th>Al</th>\n",
       "      <th>Si</th>\n",
       "      <th>K</th>\n",
       "      <th>Ca</th>\n",
       "      <th>Ba</th>\n",
       "      <th>Fe</th>\n",
       "    </tr>\n",
       "  </thead>\n",
       "  <tbody>\n",
       "    <tr>\n",
       "      <th>0</th>\n",
       "      <td>-0.244619</td>\n",
       "      <td>0.591880</td>\n",
       "      <td>0.642937</td>\n",
       "      <td>-0.060224</td>\n",
       "      <td>0.097091</td>\n",
       "      <td>0.342041</td>\n",
       "      <td>-0.867806</td>\n",
       "      <td>-0.462443</td>\n",
       "      <td>-0.697338</td>\n",
       "    </tr>\n",
       "    <tr>\n",
       "      <th>1</th>\n",
       "      <td>-0.717425</td>\n",
       "      <td>0.150946</td>\n",
       "      <td>0.608144</td>\n",
       "      <td>0.296823</td>\n",
       "      <td>0.433777</td>\n",
       "      <td>0.184051</td>\n",
       "      <td>-0.914871</td>\n",
       "      <td>-0.462443</td>\n",
       "      <td>-0.697338</td>\n",
       "    </tr>\n",
       "    <tr>\n",
       "      <th>2</th>\n",
       "      <td>-0.228095</td>\n",
       "      <td>-0.240996</td>\n",
       "      <td>0.705564</td>\n",
       "      <td>-0.207590</td>\n",
       "      <td>-0.058303</td>\n",
       "      <td>0.481328</td>\n",
       "      <td>-0.513830</td>\n",
       "      <td>-0.462443</td>\n",
       "      <td>-0.697338</td>\n",
       "    </tr>\n",
       "    <tr>\n",
       "      <th>3</th>\n",
       "      <td>-0.307417</td>\n",
       "      <td>-0.167507</td>\n",
       "      <td>0.656854</td>\n",
       "      <td>-0.316148</td>\n",
       "      <td>0.550322</td>\n",
       "      <td>0.451717</td>\n",
       "      <td>-0.647299</td>\n",
       "      <td>-0.462443</td>\n",
       "      <td>-0.697338</td>\n",
       "    </tr>\n",
       "    <tr>\n",
       "      <th>4</th>\n",
       "      <td>-0.790200</td>\n",
       "      <td>-0.755419</td>\n",
       "      <td>0.649895</td>\n",
       "      <td>0.446593</td>\n",
       "      <td>0.407878</td>\n",
       "      <td>0.579815</td>\n",
       "      <td>-0.647299</td>\n",
       "      <td>-0.462443</td>\n",
       "      <td>1.555639</td>\n",
       "    </tr>\n",
       "    <tr>\n",
       "      <th>...</th>\n",
       "      <td>...</td>\n",
       "      <td>...</td>\n",
       "      <td>...</td>\n",
       "      <td>...</td>\n",
       "      <td>...</td>\n",
       "      <td>...</td>\n",
       "      <td>...</td>\n",
       "      <td>...</td>\n",
       "      <td>...</td>\n",
       "    </tr>\n",
       "    <tr>\n",
       "      <th>208</th>\n",
       "      <td>-0.700887</td>\n",
       "      <td>0.898085</td>\n",
       "      <td>-1.862164</td>\n",
       "      <td>2.338124</td>\n",
       "      <td>-0.058303</td>\n",
       "      <td>-0.720352</td>\n",
       "      <td>0.270773</td>\n",
       "      <td>2.257625</td>\n",
       "      <td>-0.697338</td>\n",
       "    </tr>\n",
       "    <tr>\n",
       "      <th>209</th>\n",
       "      <td>-0.495852</td>\n",
       "      <td>1.853443</td>\n",
       "      <td>-1.862164</td>\n",
       "      <td>1.081611</td>\n",
       "      <td>0.524423</td>\n",
       "      <td>-2.020518</td>\n",
       "      <td>-0.357838</td>\n",
       "      <td>2.382971</td>\n",
       "      <td>-0.697338</td>\n",
       "    </tr>\n",
       "    <tr>\n",
       "      <th>210</th>\n",
       "      <td>0.759193</td>\n",
       "      <td>1.167545</td>\n",
       "      <td>-1.862164</td>\n",
       "      <td>1.129522</td>\n",
       "      <td>0.990604</td>\n",
       "      <td>-2.020518</td>\n",
       "      <td>-0.323769</td>\n",
       "      <td>2.392777</td>\n",
       "      <td>-0.697338</td>\n",
       "    </tr>\n",
       "    <tr>\n",
       "      <th>211</th>\n",
       "      <td>-0.608281</td>\n",
       "      <td>1.192041</td>\n",
       "      <td>-1.862164</td>\n",
       "      <td>1.000677</td>\n",
       "      <td>1.236644</td>\n",
       "      <td>-2.020518</td>\n",
       "      <td>-0.289911</td>\n",
       "      <td>2.378972</td>\n",
       "      <td>-0.697338</td>\n",
       "    </tr>\n",
       "    <tr>\n",
       "      <th>212</th>\n",
       "      <td>-0.409891</td>\n",
       "      <td>1.008318</td>\n",
       "      <td>-1.862164</td>\n",
       "      <td>1.223940</td>\n",
       "      <td>0.912907</td>\n",
       "      <td>-2.020518</td>\n",
       "      <td>-0.173038</td>\n",
       "      <td>2.398534</td>\n",
       "      <td>-0.697338</td>\n",
       "    </tr>\n",
       "  </tbody>\n",
       "</table>\n",
       "<p>213 rows × 9 columns</p>\n",
       "</div>"
      ],
      "text/plain": [
       "           RI        Na        Mg        Al        Si         K        Ca  \\\n",
       "0   -0.244619  0.591880  0.642937 -0.060224  0.097091  0.342041 -0.867806   \n",
       "1   -0.717425  0.150946  0.608144  0.296823  0.433777  0.184051 -0.914871   \n",
       "2   -0.228095 -0.240996  0.705564 -0.207590 -0.058303  0.481328 -0.513830   \n",
       "3   -0.307417 -0.167507  0.656854 -0.316148  0.550322  0.451717 -0.647299   \n",
       "4   -0.790200 -0.755419  0.649895  0.446593  0.407878  0.579815 -0.647299   \n",
       "..        ...       ...       ...       ...       ...       ...       ...   \n",
       "208 -0.700887  0.898085 -1.862164  2.338124 -0.058303 -0.720352  0.270773   \n",
       "209 -0.495852  1.853443 -1.862164  1.081611  0.524423 -2.020518 -0.357838   \n",
       "210  0.759193  1.167545 -1.862164  1.129522  0.990604 -2.020518 -0.323769   \n",
       "211 -0.608281  1.192041 -1.862164  1.000677  1.236644 -2.020518 -0.289911   \n",
       "212 -0.409891  1.008318 -1.862164  1.223940  0.912907 -2.020518 -0.173038   \n",
       "\n",
       "           Ba        Fe  \n",
       "0   -0.462443 -0.697338  \n",
       "1   -0.462443 -0.697338  \n",
       "2   -0.462443 -0.697338  \n",
       "3   -0.462443 -0.697338  \n",
       "4   -0.462443  1.555639  \n",
       "..        ...       ...  \n",
       "208  2.257625 -0.697338  \n",
       "209  2.382971 -0.697338  \n",
       "210  2.392777 -0.697338  \n",
       "211  2.378972 -0.697338  \n",
       "212  2.398534 -0.697338  \n",
       "\n",
       "[213 rows x 9 columns]"
      ]
     },
     "execution_count": 16,
     "metadata": {},
     "output_type": "execute_result"
    }
   ],
   "source": [
    "from sklearn.preprocessing import StandardScaler\n",
    "scaler = StandardScaler()\n",
    "x_scaled = pd.DataFrame(scaler.fit_transform(x), columns = x.columns)\n",
    "x_scaled"
   ]
  },
  {
   "cell_type": "markdown",
   "id": "b7f54108",
   "metadata": {},
   "source": [
    "We have scaled our data to remove biasness."
   ]
  },
  {
   "cell_type": "markdown",
   "id": "836d3a64",
   "metadata": {},
   "source": [
    "#### Checking for VIF"
   ]
  },
  {
   "cell_type": "code",
   "execution_count": 17,
   "id": "50e33bc9",
   "metadata": {},
   "outputs": [
    {
     "data": {
      "text/html": [
       "<div>\n",
       "<style scoped>\n",
       "    .dataframe tbody tr th:only-of-type {\n",
       "        vertical-align: middle;\n",
       "    }\n",
       "\n",
       "    .dataframe tbody tr th {\n",
       "        vertical-align: top;\n",
       "    }\n",
       "\n",
       "    .dataframe thead th {\n",
       "        text-align: right;\n",
       "    }\n",
       "</style>\n",
       "<table border=\"1\" class=\"dataframe\">\n",
       "  <thead>\n",
       "    <tr style=\"text-align: right;\">\n",
       "      <th></th>\n",
       "      <th>VIF values</th>\n",
       "      <th>Features</th>\n",
       "    </tr>\n",
       "  </thead>\n",
       "  <tbody>\n",
       "    <tr>\n",
       "      <th>0</th>\n",
       "      <td>7.061349</td>\n",
       "      <td>RI</td>\n",
       "    </tr>\n",
       "    <tr>\n",
       "      <th>1</th>\n",
       "      <td>3.969234</td>\n",
       "      <td>Na</td>\n",
       "    </tr>\n",
       "    <tr>\n",
       "      <th>2</th>\n",
       "      <td>4.452290</td>\n",
       "      <td>Mg</td>\n",
       "    </tr>\n",
       "    <tr>\n",
       "      <th>3</th>\n",
       "      <td>3.089279</td>\n",
       "      <td>Al</td>\n",
       "    </tr>\n",
       "    <tr>\n",
       "      <th>4</th>\n",
       "      <td>3.589829</td>\n",
       "      <td>Si</td>\n",
       "    </tr>\n",
       "    <tr>\n",
       "      <th>5</th>\n",
       "      <td>3.749456</td>\n",
       "      <td>K</td>\n",
       "    </tr>\n",
       "    <tr>\n",
       "      <th>6</th>\n",
       "      <td>7.845554</td>\n",
       "      <td>Ca</td>\n",
       "    </tr>\n",
       "    <tr>\n",
       "      <th>7</th>\n",
       "      <td>2.582034</td>\n",
       "      <td>Ba</td>\n",
       "    </tr>\n",
       "    <tr>\n",
       "      <th>8</th>\n",
       "      <td>1.101162</td>\n",
       "      <td>Fe</td>\n",
       "    </tr>\n",
       "  </tbody>\n",
       "</table>\n",
       "</div>"
      ],
      "text/plain": [
       "   VIF values Features\n",
       "0    7.061349       RI\n",
       "1    3.969234       Na\n",
       "2    4.452290       Mg\n",
       "3    3.089279       Al\n",
       "4    3.589829       Si\n",
       "5    3.749456        K\n",
       "6    7.845554       Ca\n",
       "7    2.582034       Ba\n",
       "8    1.101162       Fe"
      ]
     },
     "execution_count": 17,
     "metadata": {},
     "output_type": "execute_result"
    }
   ],
   "source": [
    "from statsmodels.stats.outliers_influence import variance_inflation_factor\n",
    "vif = pd.DataFrame()\n",
    "vif[\"VIF values\"] = [variance_inflation_factor(x_scaled, i) for i in range(x_scaled.shape[1])]\n",
    "vif[\"Features\"] = x.columns\n",
    "\n",
    "vif"
   ]
  },
  {
   "cell_type": "markdown",
   "id": "f9bc8874",
   "metadata": {},
   "source": [
    "As we can see the VIF values are <10 we can proceed further."
   ]
  },
  {
   "cell_type": "code",
   "execution_count": 18,
   "id": "3842ee52",
   "metadata": {},
   "outputs": [
    {
     "data": {
      "text/plain": [
       "1.080060    76\n",
       "1.000000    69\n",
       "1.241366    29\n",
       "1.129831    17\n",
       "1.195813    13\n",
       "1.220285     9\n",
       "Name: Type of glass, dtype: int64"
      ]
     },
     "execution_count": 18,
     "metadata": {},
     "output_type": "execute_result"
    }
   ],
   "source": [
    "y.value_counts()"
   ]
  },
  {
   "cell_type": "code",
   "execution_count": 19,
   "id": "09477037",
   "metadata": {},
   "outputs": [
    {
     "data": {
      "text/plain": [
       "(213,)"
      ]
     },
     "execution_count": 19,
     "metadata": {},
     "output_type": "execute_result"
    }
   ],
   "source": [
    "y.shape"
   ]
  },
  {
   "cell_type": "markdown",
   "id": "b68df5a6",
   "metadata": {},
   "source": [
    "#### Model Training"
   ]
  },
  {
   "cell_type": "markdown",
   "id": "34d7db5d",
   "metadata": {},
   "source": [
    "Since our data contains continuous data, it will create problem if we don't deal with it. Let's use Label Encoder to encode it."
   ]
  },
  {
   "cell_type": "code",
   "execution_count": 20,
   "id": "ea8c157e",
   "metadata": {},
   "outputs": [],
   "source": [
    "from sklearn.preprocessing import LabelEncoder\n",
    "\n",
    "lab = LabelEncoder()\n",
    "\n",
    "df['Type of glass'] = lab.fit_transform(df['Type of glass'])"
   ]
  },
  {
   "cell_type": "code",
   "execution_count": 21,
   "id": "164848a1",
   "metadata": {},
   "outputs": [
    {
     "data": {
      "text/html": [
       "<div>\n",
       "<style scoped>\n",
       "    .dataframe tbody tr th:only-of-type {\n",
       "        vertical-align: middle;\n",
       "    }\n",
       "\n",
       "    .dataframe tbody tr th {\n",
       "        vertical-align: top;\n",
       "    }\n",
       "\n",
       "    .dataframe thead th {\n",
       "        text-align: right;\n",
       "    }\n",
       "</style>\n",
       "<table border=\"1\" class=\"dataframe\">\n",
       "  <thead>\n",
       "    <tr style=\"text-align: right;\">\n",
       "      <th></th>\n",
       "      <th>RI</th>\n",
       "      <th>Na</th>\n",
       "      <th>Mg</th>\n",
       "      <th>Al</th>\n",
       "      <th>Si</th>\n",
       "      <th>K</th>\n",
       "      <th>Ca</th>\n",
       "      <th>Ba</th>\n",
       "      <th>Fe</th>\n",
       "      <th>Type of glass</th>\n",
       "    </tr>\n",
       "  </thead>\n",
       "  <tbody>\n",
       "    <tr>\n",
       "      <th>0</th>\n",
       "      <td>1.047439</td>\n",
       "      <td>13.89</td>\n",
       "      <td>3.60</td>\n",
       "      <td>1.107932</td>\n",
       "      <td>72.73</td>\n",
       "      <td>0.782974</td>\n",
       "      <td>1.271977</td>\n",
       "      <td>0.0</td>\n",
       "      <td>0.000000</td>\n",
       "      <td>0</td>\n",
       "    </tr>\n",
       "    <tr>\n",
       "      <th>1</th>\n",
       "      <td>1.047330</td>\n",
       "      <td>13.53</td>\n",
       "      <td>3.55</td>\n",
       "      <td>1.154800</td>\n",
       "      <td>72.99</td>\n",
       "      <td>0.730614</td>\n",
       "      <td>1.270655</td>\n",
       "      <td>0.0</td>\n",
       "      <td>0.000000</td>\n",
       "      <td>0</td>\n",
       "    </tr>\n",
       "    <tr>\n",
       "      <th>2</th>\n",
       "      <td>1.047443</td>\n",
       "      <td>13.21</td>\n",
       "      <td>3.69</td>\n",
       "      <td>1.088587</td>\n",
       "      <td>72.61</td>\n",
       "      <td>0.829134</td>\n",
       "      <td>1.281913</td>\n",
       "      <td>0.0</td>\n",
       "      <td>0.000000</td>\n",
       "      <td>0</td>\n",
       "    </tr>\n",
       "    <tr>\n",
       "      <th>3</th>\n",
       "      <td>1.047425</td>\n",
       "      <td>13.27</td>\n",
       "      <td>3.62</td>\n",
       "      <td>1.074337</td>\n",
       "      <td>73.08</td>\n",
       "      <td>0.819321</td>\n",
       "      <td>1.278167</td>\n",
       "      <td>0.0</td>\n",
       "      <td>0.000000</td>\n",
       "      <td>0</td>\n",
       "    </tr>\n",
       "    <tr>\n",
       "      <th>4</th>\n",
       "      <td>1.047313</td>\n",
       "      <td>12.79</td>\n",
       "      <td>3.61</td>\n",
       "      <td>1.174460</td>\n",
       "      <td>72.97</td>\n",
       "      <td>0.861774</td>\n",
       "      <td>1.278167</td>\n",
       "      <td>0.0</td>\n",
       "      <td>0.860988</td>\n",
       "      <td>0</td>\n",
       "    </tr>\n",
       "  </tbody>\n",
       "</table>\n",
       "</div>"
      ],
      "text/plain": [
       "         RI     Na    Mg        Al     Si         K        Ca   Ba        Fe  \\\n",
       "0  1.047439  13.89  3.60  1.107932  72.73  0.782974  1.271977  0.0  0.000000   \n",
       "1  1.047330  13.53  3.55  1.154800  72.99  0.730614  1.270655  0.0  0.000000   \n",
       "2  1.047443  13.21  3.69  1.088587  72.61  0.829134  1.281913  0.0  0.000000   \n",
       "3  1.047425  13.27  3.62  1.074337  73.08  0.819321  1.278167  0.0  0.000000   \n",
       "4  1.047313  12.79  3.61  1.174460  72.97  0.861774  1.278167  0.0  0.860988   \n",
       "\n",
       "   Type of glass  \n",
       "0              0  \n",
       "1              0  \n",
       "2              0  \n",
       "3              0  \n",
       "4              0  "
      ]
     },
     "execution_count": 21,
     "metadata": {},
     "output_type": "execute_result"
    }
   ],
   "source": [
    "#Let's check\n",
    "df.head()"
   ]
  },
  {
   "cell_type": "code",
   "execution_count": 22,
   "id": "493436fd",
   "metadata": {},
   "outputs": [
    {
     "data": {
      "text/html": [
       "<div>\n",
       "<style scoped>\n",
       "    .dataframe tbody tr th:only-of-type {\n",
       "        vertical-align: middle;\n",
       "    }\n",
       "\n",
       "    .dataframe tbody tr th {\n",
       "        vertical-align: top;\n",
       "    }\n",
       "\n",
       "    .dataframe thead th {\n",
       "        text-align: right;\n",
       "    }\n",
       "</style>\n",
       "<table border=\"1\" class=\"dataframe\">\n",
       "  <thead>\n",
       "    <tr style=\"text-align: right;\">\n",
       "      <th></th>\n",
       "      <th>RI</th>\n",
       "      <th>Na</th>\n",
       "      <th>Mg</th>\n",
       "      <th>Al</th>\n",
       "      <th>Si</th>\n",
       "      <th>K</th>\n",
       "      <th>Ca</th>\n",
       "      <th>Ba</th>\n",
       "      <th>Fe</th>\n",
       "      <th>Type of glass</th>\n",
       "    </tr>\n",
       "  </thead>\n",
       "  <tbody>\n",
       "    <tr>\n",
       "      <th>208</th>\n",
       "      <td>1.047334</td>\n",
       "      <td>14.14</td>\n",
       "      <td>0.0</td>\n",
       "      <td>1.422757</td>\n",
       "      <td>72.61</td>\n",
       "      <td>0.430887</td>\n",
       "      <td>1.303938</td>\n",
       "      <td>1.006495</td>\n",
       "      <td>0.0</td>\n",
       "      <td>5</td>\n",
       "    </tr>\n",
       "    <tr>\n",
       "      <th>209</th>\n",
       "      <td>1.047381</td>\n",
       "      <td>14.92</td>\n",
       "      <td>0.0</td>\n",
       "      <td>1.257818</td>\n",
       "      <td>73.06</td>\n",
       "      <td>0.000000</td>\n",
       "      <td>1.286292</td>\n",
       "      <td>1.052877</td>\n",
       "      <td>0.0</td>\n",
       "      <td>5</td>\n",
       "    </tr>\n",
       "    <tr>\n",
       "      <th>210</th>\n",
       "      <td>1.047672</td>\n",
       "      <td>14.36</td>\n",
       "      <td>0.0</td>\n",
       "      <td>1.264107</td>\n",
       "      <td>73.42</td>\n",
       "      <td>0.000000</td>\n",
       "      <td>1.287249</td>\n",
       "      <td>1.056505</td>\n",
       "      <td>0.0</td>\n",
       "      <td>5</td>\n",
       "    </tr>\n",
       "    <tr>\n",
       "      <th>211</th>\n",
       "      <td>1.047355</td>\n",
       "      <td>14.38</td>\n",
       "      <td>0.0</td>\n",
       "      <td>1.247194</td>\n",
       "      <td>73.61</td>\n",
       "      <td>0.000000</td>\n",
       "      <td>1.288199</td>\n",
       "      <td>1.051397</td>\n",
       "      <td>0.0</td>\n",
       "      <td>5</td>\n",
       "    </tr>\n",
       "    <tr>\n",
       "      <th>212</th>\n",
       "      <td>1.047401</td>\n",
       "      <td>14.23</td>\n",
       "      <td>0.0</td>\n",
       "      <td>1.276501</td>\n",
       "      <td>73.36</td>\n",
       "      <td>0.000000</td>\n",
       "      <td>1.291480</td>\n",
       "      <td>1.058635</td>\n",
       "      <td>0.0</td>\n",
       "      <td>5</td>\n",
       "    </tr>\n",
       "  </tbody>\n",
       "</table>\n",
       "</div>"
      ],
      "text/plain": [
       "           RI     Na   Mg        Al     Si         K        Ca        Ba   Fe  \\\n",
       "208  1.047334  14.14  0.0  1.422757  72.61  0.430887  1.303938  1.006495  0.0   \n",
       "209  1.047381  14.92  0.0  1.257818  73.06  0.000000  1.286292  1.052877  0.0   \n",
       "210  1.047672  14.36  0.0  1.264107  73.42  0.000000  1.287249  1.056505  0.0   \n",
       "211  1.047355  14.38  0.0  1.247194  73.61  0.000000  1.288199  1.051397  0.0   \n",
       "212  1.047401  14.23  0.0  1.276501  73.36  0.000000  1.291480  1.058635  0.0   \n",
       "\n",
       "     Type of glass  \n",
       "208              5  \n",
       "209              5  \n",
       "210              5  \n",
       "211              5  \n",
       "212              5  "
      ]
     },
     "execution_count": 22,
     "metadata": {},
     "output_type": "execute_result"
    }
   ],
   "source": [
    "df.tail()"
   ]
  },
  {
   "cell_type": "markdown",
   "id": "9e66f872",
   "metadata": {},
   "source": [
    "We have successfully converted our data. Let's move forward."
   ]
  },
  {
   "cell_type": "markdown",
   "id": "8d534f1e",
   "metadata": {},
   "source": [
    "#### Creating Train Test Split"
   ]
  },
  {
   "cell_type": "code",
   "execution_count": 23,
   "id": "e11cf3ce",
   "metadata": {},
   "outputs": [],
   "source": [
    "from sklearn.model_selection import train_test_split"
   ]
  },
  {
   "cell_type": "code",
   "execution_count": 24,
   "id": "230974e1",
   "metadata": {},
   "outputs": [],
   "source": [
    "x_train, x_test, y_train, y_test = train_test_split(x,y, test_size=0.25, random_state=41)"
   ]
  },
  {
   "cell_type": "code",
   "execution_count": 25,
   "id": "654df44f",
   "metadata": {},
   "outputs": [
    {
     "data": {
      "text/html": [
       "<div>\n",
       "<style scoped>\n",
       "    .dataframe tbody tr th:only-of-type {\n",
       "        vertical-align: middle;\n",
       "    }\n",
       "\n",
       "    .dataframe tbody tr th {\n",
       "        vertical-align: top;\n",
       "    }\n",
       "\n",
       "    .dataframe thead th {\n",
       "        text-align: right;\n",
       "    }\n",
       "</style>\n",
       "<table border=\"1\" class=\"dataframe\">\n",
       "  <thead>\n",
       "    <tr style=\"text-align: right;\">\n",
       "      <th></th>\n",
       "      <th>RI</th>\n",
       "      <th>Na</th>\n",
       "      <th>Mg</th>\n",
       "      <th>Al</th>\n",
       "      <th>Si</th>\n",
       "      <th>K</th>\n",
       "      <th>Ca</th>\n",
       "      <th>Ba</th>\n",
       "      <th>Fe</th>\n",
       "    </tr>\n",
       "  </thead>\n",
       "  <tbody>\n",
       "    <tr>\n",
       "      <th>137</th>\n",
       "      <td>1.047373</td>\n",
       "      <td>12.79</td>\n",
       "      <td>3.52</td>\n",
       "      <td>1.154800</td>\n",
       "      <td>73.36</td>\n",
       "      <td>0.870659</td>\n",
       "      <td>1.273808</td>\n",
       "      <td>0.000000</td>\n",
       "      <td>0.000000</td>\n",
       "    </tr>\n",
       "    <tr>\n",
       "      <th>55</th>\n",
       "      <td>1.047020</td>\n",
       "      <td>12.99</td>\n",
       "      <td>3.47</td>\n",
       "      <td>1.038499</td>\n",
       "      <td>72.98</td>\n",
       "      <td>0.852702</td>\n",
       "      <td>1.285088</td>\n",
       "      <td>0.000000</td>\n",
       "      <td>0.877980</td>\n",
       "    </tr>\n",
       "    <tr>\n",
       "      <th>90</th>\n",
       "      <td>1.047320</td>\n",
       "      <td>12.90</td>\n",
       "      <td>3.44</td>\n",
       "      <td>1.131851</td>\n",
       "      <td>73.06</td>\n",
       "      <td>0.760590</td>\n",
       "      <td>1.283142</td>\n",
       "      <td>0.000000</td>\n",
       "      <td>0.000000</td>\n",
       "    </tr>\n",
       "    <tr>\n",
       "      <th>112</th>\n",
       "      <td>1.047540</td>\n",
       "      <td>13.46</td>\n",
       "      <td>3.83</td>\n",
       "      <td>1.080082</td>\n",
       "      <td>72.55</td>\n",
       "      <td>0.829134</td>\n",
       "      <td>1.281666</td>\n",
       "      <td>0.000000</td>\n",
       "      <td>0.803758</td>\n",
       "    </tr>\n",
       "    <tr>\n",
       "      <th>199</th>\n",
       "      <td>1.047245</td>\n",
       "      <td>15.15</td>\n",
       "      <td>0.00</td>\n",
       "      <td>1.310371</td>\n",
       "      <td>73.50</td>\n",
       "      <td>0.000000</td>\n",
       "      <td>1.284846</td>\n",
       "      <td>0.949958</td>\n",
       "      <td>0.000000</td>\n",
       "    </tr>\n",
       "    <tr>\n",
       "      <th>...</th>\n",
       "      <td>...</td>\n",
       "      <td>...</td>\n",
       "      <td>...</td>\n",
       "      <td>...</td>\n",
       "      <td>...</td>\n",
       "      <td>...</td>\n",
       "      <td>...</td>\n",
       "      <td>...</td>\n",
       "      <td>...</td>\n",
       "    </tr>\n",
       "    <tr>\n",
       "      <th>65</th>\n",
       "      <td>1.047739</td>\n",
       "      <td>13.05</td>\n",
       "      <td>3.65</td>\n",
       "      <td>0.954640</td>\n",
       "      <td>72.22</td>\n",
       "      <td>0.574890</td>\n",
       "      <td>1.317605</td>\n",
       "      <td>0.000000</td>\n",
       "      <td>0.821286</td>\n",
       "    </tr>\n",
       "    <tr>\n",
       "      <th>80</th>\n",
       "      <td>1.047311</td>\n",
       "      <td>13.25</td>\n",
       "      <td>3.45</td>\n",
       "      <td>1.126623</td>\n",
       "      <td>73.17</td>\n",
       "      <td>0.848093</td>\n",
       "      <td>1.272764</td>\n",
       "      <td>0.000000</td>\n",
       "      <td>0.000000</td>\n",
       "    </tr>\n",
       "    <tr>\n",
       "      <th>140</th>\n",
       "      <td>1.047508</td>\n",
       "      <td>13.20</td>\n",
       "      <td>3.63</td>\n",
       "      <td>1.022809</td>\n",
       "      <td>72.83</td>\n",
       "      <td>0.829134</td>\n",
       "      <td>1.286532</td>\n",
       "      <td>0.765252</td>\n",
       "      <td>0.821286</td>\n",
       "    </tr>\n",
       "    <tr>\n",
       "      <th>163</th>\n",
       "      <td>1.047557</td>\n",
       "      <td>12.73</td>\n",
       "      <td>1.85</td>\n",
       "      <td>1.229809</td>\n",
       "      <td>72.69</td>\n",
       "      <td>0.843433</td>\n",
       "      <td>1.322211</td>\n",
       "      <td>0.000000</td>\n",
       "      <td>0.000000</td>\n",
       "    </tr>\n",
       "    <tr>\n",
       "      <th>192</th>\n",
       "      <td>1.047407</td>\n",
       "      <td>14.75</td>\n",
       "      <td>0.00</td>\n",
       "      <td>1.259921</td>\n",
       "      <td>73.02</td>\n",
       "      <td>0.000000</td>\n",
       "      <td>1.289379</td>\n",
       "      <td>1.052877</td>\n",
       "      <td>0.755303</td>\n",
       "    </tr>\n",
       "  </tbody>\n",
       "</table>\n",
       "<p>159 rows × 9 columns</p>\n",
       "</div>"
      ],
      "text/plain": [
       "           RI     Na    Mg        Al     Si         K        Ca        Ba  \\\n",
       "137  1.047373  12.79  3.52  1.154800  73.36  0.870659  1.273808  0.000000   \n",
       "55   1.047020  12.99  3.47  1.038499  72.98  0.852702  1.285088  0.000000   \n",
       "90   1.047320  12.90  3.44  1.131851  73.06  0.760590  1.283142  0.000000   \n",
       "112  1.047540  13.46  3.83  1.080082  72.55  0.829134  1.281666  0.000000   \n",
       "199  1.047245  15.15  0.00  1.310371  73.50  0.000000  1.284846  0.949958   \n",
       "..        ...    ...   ...       ...    ...       ...       ...       ...   \n",
       "65   1.047739  13.05  3.65  0.954640  72.22  0.574890  1.317605  0.000000   \n",
       "80   1.047311  13.25  3.45  1.126623  73.17  0.848093  1.272764  0.000000   \n",
       "140  1.047508  13.20  3.63  1.022809  72.83  0.829134  1.286532  0.765252   \n",
       "163  1.047557  12.73  1.85  1.229809  72.69  0.843433  1.322211  0.000000   \n",
       "192  1.047407  14.75  0.00  1.259921  73.02  0.000000  1.289379  1.052877   \n",
       "\n",
       "           Fe  \n",
       "137  0.000000  \n",
       "55   0.877980  \n",
       "90   0.000000  \n",
       "112  0.803758  \n",
       "199  0.000000  \n",
       "..        ...  \n",
       "65   0.821286  \n",
       "80   0.000000  \n",
       "140  0.821286  \n",
       "163  0.000000  \n",
       "192  0.755303  \n",
       "\n",
       "[159 rows x 9 columns]"
      ]
     },
     "execution_count": 25,
     "metadata": {},
     "output_type": "execute_result"
    }
   ],
   "source": [
    "x_train"
   ]
  },
  {
   "cell_type": "code",
   "execution_count": 26,
   "id": "5dfae867",
   "metadata": {},
   "outputs": [
    {
     "data": {
      "text/plain": [
       "137    1.080060\n",
       "55     1.000000\n",
       "90     1.080060\n",
       "112    1.080060\n",
       "199    1.241366\n",
       "         ...   \n",
       "65     1.000000\n",
       "80     1.080060\n",
       "140    1.080060\n",
       "163    1.195813\n",
       "192    1.241366\n",
       "Name: Type of glass, Length: 159, dtype: float64"
      ]
     },
     "execution_count": 26,
     "metadata": {},
     "output_type": "execute_result"
    }
   ],
   "source": [
    "y_train"
   ]
  },
  {
   "cell_type": "markdown",
   "id": "55b9e424",
   "metadata": {},
   "source": [
    "#### Data Modelling"
   ]
  },
  {
   "cell_type": "code",
   "execution_count": 27,
   "id": "1960649b",
   "metadata": {},
   "outputs": [],
   "source": [
    "#Importing necessary libraries\n",
    "from sklearn.metrics import r2_score\n",
    "from sklearn.metrics import mean_squared_error, mean_absolute_error\n",
    "from sklearn.linear_model import LinearRegression\n",
    "from sklearn.ensemble import RandomForestRegressor\n",
    "from sklearn.tree import DecisionTreeRegressor\n",
    "from sklearn.neighbors import KNeighborsRegressor\n",
    "from sklearn.linear_model import Lasso, Ridge\n",
    "from sklearn.ensemble import GradientBoostingRegressor\n",
    "from sklearn.ensemble import ExtraTreesRegressor \n",
    "from sklearn.svm import SVR"
   ]
  },
  {
   "cell_type": "markdown",
   "id": "0a01d6ea",
   "metadata": {},
   "source": [
    "##### Linear Regression"
   ]
  },
  {
   "cell_type": "code",
   "execution_count": 28,
   "id": "7ff7fd67",
   "metadata": {},
   "outputs": [
    {
     "name": "stdout",
     "output_type": "stream",
     "text": [
      "R2 Score: 0.6960442650117642\n",
      "R2 Score on training data: 64.54203652865888\n",
      "Mean Absolute Error: 0.03888740995441694\n",
      "Mean Squared Error: 0.002113608078732792\n",
      "Root Mean Squared Error: 0.04597399350429318\n"
     ]
    }
   ],
   "source": [
    "LR = LinearRegression()\n",
    "LR.fit(x_train, y_train)\n",
    "pred_LR = LR.predict(x_test)\n",
    "pred_train = LR.predict(x_train)\n",
    "print('R2 Score:', r2_score(y_test, pred_LR))\n",
    "print('R2 Score on training data:', r2_score(y_train, pred_train)*100)\n",
    "print('Mean Absolute Error:', mean_absolute_error(y_test, pred_LR))\n",
    "print('Mean Squared Error:', mean_squared_error(y_test, pred_LR))\n",
    "print('Root Mean Squared Error:', np.sqrt(mean_squared_error(y_test, pred_LR)))"
   ]
  },
  {
   "cell_type": "code",
   "execution_count": 29,
   "id": "9ba568c1",
   "metadata": {},
   "outputs": [
    {
     "name": "stdout",
     "output_type": "stream",
     "text": [
      "R2 Score: 0.6994550967866469\n",
      "R2 Score on training data: 95.49334745425536\n",
      "Mean Absolute Error: 0.03453380202517063\n",
      "Mean Squared Error: 0.0020898902778665918\n",
      "Root Mean Squared Error: 0.04571531775965898\n"
     ]
    }
   ],
   "source": [
    "RFR = RandomForestRegressor()\n",
    "RFR.fit(x_train, y_train)\n",
    "pred_RFR = RFR.predict(x_test)\n",
    "pred_train = RFR.predict(x_train)\n",
    "print('R2 Score:', r2_score(y_test, pred_RFR))\n",
    "print('R2 Score on training data:', r2_score(y_train, pred_train)*100)\n",
    "print('Mean Absolute Error:', mean_absolute_error(y_test, pred_RFR))\n",
    "print('Mean Squared Error:', mean_squared_error(y_test, pred_RFR))\n",
    "print('Root Mean Squared Error:', np.sqrt(mean_squared_error(y_test, pred_RFR)))"
   ]
  },
  {
   "cell_type": "code",
   "execution_count": 30,
   "id": "bd17b0a8",
   "metadata": {},
   "outputs": [
    {
     "name": "stdout",
     "output_type": "stream",
     "text": [
      "R2 Score: 0.5904253922361202\n",
      "R2 Score on training data: 100.0\n",
      "Mean Absolute Error: 0.02913162293317333\n",
      "Mean Squared Error: 0.0028480469363312256\n",
      "Root Mean Squared Error: 0.05336709600803875\n"
     ]
    }
   ],
   "source": [
    "DT = DecisionTreeRegressor()\n",
    "DT.fit(x_train, y_train)\n",
    "pred_DT = DT.predict(x_test)\n",
    "pred_train = DT.predict(x_train)\n",
    "print('R2 Score:', r2_score(y_test, pred_DT))\n",
    "print('R2 Score on training data:', r2_score(y_train, pred_train)*100)\n",
    "print('Mean Absolute Error:', mean_absolute_error(y_test, pred_DT))\n",
    "print('Mean Squared Error:', mean_squared_error(y_test, pred_DT))\n",
    "print('Root Mean Squared Error:', np.sqrt(mean_squared_error(y_test, pred_DT)))"
   ]
  },
  {
   "cell_type": "code",
   "execution_count": 33,
   "id": "c60b5e09",
   "metadata": {},
   "outputs": [
    {
     "name": "stdout",
     "output_type": "stream",
     "text": [
      "R2 Score: 0.6548081016895266\n",
      "R2 Score on training data: 70.2961870354319\n",
      "Mean Absolute Error: 0.039181087980194776\n",
      "Mean Squared Error: 0.0024003507780840623\n",
      "Root Mean Squared Error: 0.04899337483868673\n"
     ]
    }
   ],
   "source": [
    "KN = KNeighborsRegressor()\n",
    "KN.fit(x_train, y_train)\n",
    "pred_KN = KN.predict(x_test)\n",
    "pred_train = KN.predict(x_train)\n",
    "print('R2 Score:', r2_score(y_test, pred_KN))\n",
    "print('R2 Score on training data:', r2_score(y_train, pred_train)*100)\n",
    "print('Mean Absolute Error:', mean_absolute_error(y_test, pred_KN))\n",
    "print('Mean Squared Error:', mean_squared_error(y_test, pred_KN))\n",
    "print('Root Mean Squared Error:', np.sqrt(mean_squared_error(y_test, pred_KN)))"
   ]
  },
  {
   "cell_type": "code",
   "execution_count": 34,
   "id": "952f1ddb",
   "metadata": {},
   "outputs": [
    {
     "name": "stdout",
     "output_type": "stream",
     "text": [
      "R2 Score: -0.03545558491454304\n",
      "R2 Score on training data: 0.0\n",
      "Mean Absolute Error: 0.07107893122701135\n",
      "Mean Squared Error: 0.007200217128750907\n",
      "Root Mean Squared Error: 0.08485409317617451\n"
     ]
    }
   ],
   "source": [
    "LS = Lasso()\n",
    "LS.fit(x_train, y_train)\n",
    "pred_LS = LS.predict(x_test)\n",
    "pred_train = LS.predict(x_train)\n",
    "print('R2 Score:', r2_score(y_test, pred_LS))\n",
    "print('R2 Score on training data:', r2_score(y_train, pred_train)*100)\n",
    "print('Mean Absolute Error:', mean_absolute_error(y_test, pred_LS))\n",
    "print('Mean Squared Error:', mean_squared_error(y_test, pred_LS))\n",
    "print('Root Mean Squared Error:', np.sqrt(mean_squared_error(y_test, pred_LS)))"
   ]
  },
  {
   "cell_type": "code",
   "execution_count": 35,
   "id": "2322911d",
   "metadata": {},
   "outputs": [
    {
     "name": "stdout",
     "output_type": "stream",
     "text": [
      "R2 Score: 0.6899328852880733\n",
      "R2 Score on training data: 63.5326951627707\n",
      "Mean Absolute Error: 0.04058157797130518\n",
      "Mean Squared Error: 0.0021561046006579225\n",
      "Root Mean Squared Error: 0.046433873418636126\n"
     ]
    }
   ],
   "source": [
    "RD = Ridge()\n",
    "RD.fit(x_train, y_train)\n",
    "pred_RD = RD.predict(x_test)\n",
    "pred_train = RD.predict(x_train)\n",
    "print('R2 Score:', r2_score(y_test, pred_RD))\n",
    "print('R2 Score on training data:', r2_score(y_train, pred_train)*100)\n",
    "print('Mean Absolute Error:', mean_absolute_error(y_test, pred_RD))\n",
    "print('Mean Squared Error:', mean_squared_error(y_test, pred_RD))\n",
    "print('Root Mean Squared Error:', np.sqrt(mean_squared_error(y_test, pred_RD)))"
   ]
  },
  {
   "cell_type": "code",
   "execution_count": 36,
   "id": "9083d34d",
   "metadata": {},
   "outputs": [
    {
     "name": "stdout",
     "output_type": "stream",
     "text": [
      "R2 Score: 0.5860236168953195\n",
      "R2 Score on training data: 98.28911300097528\n",
      "Mean Absolute Error: 0.039362230613282846\n",
      "Mean Squared Error: 0.0028786554324053116\n",
      "Root Mean Squared Error: 0.05365310272859634\n"
     ]
    }
   ],
   "source": [
    "GB = GradientBoostingRegressor()\n",
    "GB.fit(x_train, y_train)\n",
    "pred_GB = GB.predict(x_test)\n",
    "pred_train = GB.predict(x_train)\n",
    "print('R2 Score:', r2_score(y_test, pred_GB))\n",
    "print('R2 Score on training data:', r2_score(y_train, pred_train)*100)\n",
    "print('Mean Absolute Error:', mean_absolute_error(y_test, pred_GB))\n",
    "print('Mean Squared Error:', mean_squared_error(y_test, pred_GB))\n",
    "print('Root Mean Squared Error:', np.sqrt(mean_squared_error(y_test, pred_GB)))"
   ]
  },
  {
   "cell_type": "code",
   "execution_count": 37,
   "id": "576f101d",
   "metadata": {},
   "outputs": [
    {
     "name": "stdout",
     "output_type": "stream",
     "text": [
      "R2 Score: 0.7077624243854367\n",
      "R2 Score on training data: 100.0\n",
      "Mean Absolute Error: 0.03325420477316481\n",
      "Mean Squared Error: 0.002032123857614111\n",
      "Root Mean Squared Error: 0.045079084480655895\n"
     ]
    }
   ],
   "source": [
    "ET = ExtraTreesRegressor()\n",
    "ET.fit(x_train, y_train)\n",
    "pred_ET = ET.predict(x_test)\n",
    "pred_train = ET.predict(x_train)\n",
    "print('R2 Score:', r2_score(y_test, pred_ET))\n",
    "print('R2 Score on training data:', r2_score(y_train, pred_train)*100)\n",
    "print('Mean Absolute Error:', mean_absolute_error(y_test, pred_ET))\n",
    "print('Mean Squared Error:', mean_squared_error(y_test, pred_ET))\n",
    "print('Root Mean Squared Error:', np.sqrt(mean_squared_error(y_test, pred_ET)))"
   ]
  },
  {
   "cell_type": "code",
   "execution_count": 38,
   "id": "5c420f61",
   "metadata": {},
   "outputs": [
    {
     "name": "stdout",
     "output_type": "stream",
     "text": [
      "R2 Score: 0.16468550347042243\n",
      "R2 Score on training data: 22.402707292704783\n",
      "Mean Absolute Error: 0.0665831889681205\n",
      "Mean Squared Error: 0.005808501913003426\n",
      "Root Mean Squared Error: 0.07621352841197832\n"
     ]
    }
   ],
   "source": [
    "SV = SVR()\n",
    "SV.fit(x_train, y_train)\n",
    "pred_SV = SV.predict(x_test)\n",
    "pred_train = SV.predict(x_train)\n",
    "print('R2 Score:', r2_score(y_test, pred_SV))\n",
    "print('R2 Score on training data:', r2_score(y_train, pred_train)*100)\n",
    "print('Mean Absolute Error:', mean_absolute_error(y_test, pred_SV))\n",
    "print('Mean Squared Error:', mean_squared_error(y_test, pred_SV))\n",
    "print('Root Mean Squared Error:', np.sqrt(mean_squared_error(y_test, pred_SV)))"
   ]
  },
  {
   "cell_type": "markdown",
   "id": "e150f33e",
   "metadata": {},
   "source": [
    "Here, we can see that our Extra Trees Regressor works better with 70% R2 score."
   ]
  },
  {
   "cell_type": "markdown",
   "id": "0c8f1219",
   "metadata": {},
   "source": [
    "### Cross Validation Score"
   ]
  },
  {
   "cell_type": "code",
   "execution_count": 31,
   "id": "1c291a6f",
   "metadata": {},
   "outputs": [],
   "source": [
    "from sklearn.model_selection import cross_val_score"
   ]
  },
  {
   "cell_type": "code",
   "execution_count": 32,
   "id": "443919c6",
   "metadata": {},
   "outputs": [
    {
     "name": "stdout",
     "output_type": "stream",
     "text": [
      "[ 0.00000000e+00 -4.34282420e-01 -5.14013392e+28 -2.34524828e+00\n",
      " -4.43392291e+01]\n",
      "-1.028026783424766e+28\n",
      "Difference between R2 score and cross validation score is: 1.028026783424766e+30\n"
     ]
    }
   ],
   "source": [
    "#Linear Regression\n",
    "score = cross_val_score(LR, x, y)\n",
    "print(score)\n",
    "print(score.mean())\n",
    "print(\"Difference between R2 score and cross validation score is:\", (r2_score(y_test, pred_LR) - score.mean())*100)"
   ]
  },
  {
   "cell_type": "code",
   "execution_count": 33,
   "id": "064fb0ad",
   "metadata": {},
   "outputs": [
    {
     "name": "stdout",
     "output_type": "stream",
     "text": [
      "[ 0.00000000e+00 -1.70515131e+00 -5.79540224e+28 -1.46331720e+00\n",
      " -5.14016516e+01]\n",
      "-1.159080448224908e+28\n",
      "Difference between R2 score and cross validation score is: 1.1590804482249079e+30\n"
     ]
    }
   ],
   "source": [
    "#Random Forest\n",
    "score = cross_val_score(RFR, x, y)\n",
    "print(score)\n",
    "print(score.mean())\n",
    "print(\"Difference between R2 score and cross validation score is:\", (r2_score(y_test, pred_RFR) - score.mean())*100)"
   ]
  },
  {
   "cell_type": "code",
   "execution_count": 34,
   "id": "fd52e0ac",
   "metadata": {},
   "outputs": [
    {
     "name": "stdout",
     "output_type": "stream",
     "text": [
      "[ 0.00000000e+00 -1.42716568e+00 -1.26890692e+29 -2.92910206e+00\n",
      " -5.19913448e+01]\n",
      "-2.537813833507563e+28\n",
      "Difference between R2 score and cross validation score is: 2.537813833507563e+30\n"
     ]
    }
   ],
   "source": [
    "#Decision Tree\n",
    "score = cross_val_score(DT, x, y)\n",
    "print(score)\n",
    "print(score.mean())\n",
    "print(\"Difference between R2 score and cross validation score is:\", (r2_score(y_test, pred_DT) - score.mean())*100)"
   ]
  },
  {
   "cell_type": "code",
   "execution_count": 43,
   "id": "3fa4b0f5",
   "metadata": {},
   "outputs": [
    {
     "name": "stdout",
     "output_type": "stream",
     "text": [
      "[ 0.00000000e+00 -1.78924819e+00 -8.66179312e+28 -2.75091625e+00\n",
      " -6.82227908e+01]\n",
      "-1.7323586239478841e+28\n",
      "Difference between R2 score and cross validation score is: 1.732358623947884e+30\n"
     ]
    }
   ],
   "source": [
    "#KNeighbors\n",
    "score = cross_val_score(KN, x, y)\n",
    "print(score)\n",
    "print(score.mean())\n",
    "print(\"Difference between R2 score and cross validation score is:\", (r2_score(y_test, pred_KN) - score.mean())*100)"
   ]
  },
  {
   "cell_type": "code",
   "execution_count": 44,
   "id": "3ff89def",
   "metadata": {},
   "outputs": [
    {
     "name": "stdout",
     "output_type": "stream",
     "text": [
      "[ 0.00000000e+00 -3.86230852e+00 -5.37206949e+27 -8.55140817e-01\n",
      " -1.40730982e+02]\n",
      "-1.074413897776282e+27\n",
      "Difference between R2 score and cross validation score is: 1.074413897776282e+29\n"
     ]
    }
   ],
   "source": [
    "#Lasso\n",
    "score = cross_val_score(LS, x, y)\n",
    "print(score)\n",
    "print(score.mean())\n",
    "print(\"Difference between R2 score and cross validation score is:\", (r2_score(y_test, pred_LS) - score.mean())*100)"
   ]
  },
  {
   "cell_type": "code",
   "execution_count": 45,
   "id": "266a0598",
   "metadata": {},
   "outputs": [
    {
     "name": "stdout",
     "output_type": "stream",
     "text": [
      "[ 0.00000000e+00 -5.80352969e-01 -5.53223103e+28 -1.85819991e+00\n",
      " -4.87025051e+01]\n",
      "-1.1064462066997541e+28\n",
      "Difference between R2 score and cross validation score is: 1.1064462066997541e+30\n"
     ]
    }
   ],
   "source": [
    "#Ridge\n",
    "score = cross_val_score(RD, x, y)\n",
    "print(score)\n",
    "print(score.mean())\n",
    "print(\"Difference between R2 score and cross validation score is:\", (r2_score(y_test, pred_RD) - score.mean())*100)"
   ]
  },
  {
   "cell_type": "code",
   "execution_count": 46,
   "id": "10ccb1d1",
   "metadata": {},
   "outputs": [
    {
     "name": "stdout",
     "output_type": "stream",
     "text": [
      "[ 0.00000000e+00 -1.83329098e+00 -9.86905293e+28 -1.74111620e+00\n",
      " -4.95171506e+01]\n",
      "-1.9738105864290005e+28\n",
      "Difference between R2 score and cross validation score is: 1.9738105864290004e+30\n"
     ]
    }
   ],
   "source": [
    "#Gradient Boosting\n",
    "score = cross_val_score(GB, x, y)\n",
    "print(score)\n",
    "print(score.mean())\n",
    "print(\"Difference between R2 score and cross validation score is:\", (r2_score(y_test, pred_GB) - score.mean())*100)"
   ]
  },
  {
   "cell_type": "code",
   "execution_count": 47,
   "id": "ceb678e0",
   "metadata": {},
   "outputs": [
    {
     "name": "stdout",
     "output_type": "stream",
     "text": [
      "[ 0.00000000e+00 -2.24078718e+00 -5.03056799e+28 -1.58839803e+00\n",
      " -5.50910858e+01]\n",
      "-1.0061135982683092e+28\n",
      "Difference between R2 score and cross validation score is: 1.0061135982683092e+30\n"
     ]
    }
   ],
   "source": [
    "#Extra Trees\n",
    "score = cross_val_score(ET, x, y)\n",
    "print(score)\n",
    "print(score.mean())\n",
    "print(\"Difference between R2 score and cross validation score is:\", (r2_score(y_test, pred_ET) - score.mean())*100)"
   ]
  },
  {
   "cell_type": "code",
   "execution_count": 48,
   "id": "411d00aa",
   "metadata": {},
   "outputs": [
    {
     "name": "stdout",
     "output_type": "stream",
     "text": [
      "[ 0.00000000e+00 -3.12199444e+00 -1.82399027e+28  7.49960854e-02\n",
      " -8.44945300e+01]\n",
      "-3.6479805383997777e+27\n",
      "Difference between R2 score and cross validation score is: 3.647980538399777e+29\n"
     ]
    }
   ],
   "source": [
    "#SVM\n",
    "score = cross_val_score(SV, x, y)\n",
    "print(score)\n",
    "print(score.mean())\n",
    "print(\"Difference between R2 score and cross validation score is:\", (r2_score(y_test, pred_SV) - score.mean())*100)"
   ]
  },
  {
   "cell_type": "markdown",
   "id": "053d2471",
   "metadata": {},
   "source": [
    "We can see Extra Trees Regressor has the least difference between R2 score and cross validation. Let's perform Hyper parameter tuning to increase the score."
   ]
  },
  {
   "cell_type": "markdown",
   "id": "cfaa1f53",
   "metadata": {},
   "source": [
    "### Hyper parameter Tuning"
   ]
  },
  {
   "cell_type": "code",
   "execution_count": 51,
   "id": "164c3acb",
   "metadata": {},
   "outputs": [],
   "source": [
    "from sklearn.model_selection import GridSearchCV"
   ]
  },
  {
   "cell_type": "code",
   "execution_count": 52,
   "id": "1544e211",
   "metadata": {},
   "outputs": [],
   "source": [
    "parameters = {'n_estimators': [50,100,200],\n",
    "             'criterion' : ['squared_error', 'absolute_error'],\n",
    "             'max_depth' : [0,1,2],\n",
    "             'min_samples_split': [0,1,2],\n",
    "             'min_samples_leaf': [0,1,2]}"
   ]
  },
  {
   "cell_type": "code",
   "execution_count": 53,
   "id": "e136c6aa",
   "metadata": {},
   "outputs": [],
   "source": [
    "GCV = GridSearchCV(ExtraTreesRegressor(), parameters, cv=5)"
   ]
  },
  {
   "cell_type": "code",
   "execution_count": 54,
   "id": "771e5f4d",
   "metadata": {},
   "outputs": [
    {
     "data": {
      "text/html": [
       "<style>#sk-container-id-1 {color: black;background-color: white;}#sk-container-id-1 pre{padding: 0;}#sk-container-id-1 div.sk-toggleable {background-color: white;}#sk-container-id-1 label.sk-toggleable__label {cursor: pointer;display: block;width: 100%;margin-bottom: 0;padding: 0.3em;box-sizing: border-box;text-align: center;}#sk-container-id-1 label.sk-toggleable__label-arrow:before {content: \"▸\";float: left;margin-right: 0.25em;color: #696969;}#sk-container-id-1 label.sk-toggleable__label-arrow:hover:before {color: black;}#sk-container-id-1 div.sk-estimator:hover label.sk-toggleable__label-arrow:before {color: black;}#sk-container-id-1 div.sk-toggleable__content {max-height: 0;max-width: 0;overflow: hidden;text-align: left;background-color: #f0f8ff;}#sk-container-id-1 div.sk-toggleable__content pre {margin: 0.2em;color: black;border-radius: 0.25em;background-color: #f0f8ff;}#sk-container-id-1 input.sk-toggleable__control:checked~div.sk-toggleable__content {max-height: 200px;max-width: 100%;overflow: auto;}#sk-container-id-1 input.sk-toggleable__control:checked~label.sk-toggleable__label-arrow:before {content: \"▾\";}#sk-container-id-1 div.sk-estimator input.sk-toggleable__control:checked~label.sk-toggleable__label {background-color: #d4ebff;}#sk-container-id-1 div.sk-label input.sk-toggleable__control:checked~label.sk-toggleable__label {background-color: #d4ebff;}#sk-container-id-1 input.sk-hidden--visually {border: 0;clip: rect(1px 1px 1px 1px);clip: rect(1px, 1px, 1px, 1px);height: 1px;margin: -1px;overflow: hidden;padding: 0;position: absolute;width: 1px;}#sk-container-id-1 div.sk-estimator {font-family: monospace;background-color: #f0f8ff;border: 1px dotted black;border-radius: 0.25em;box-sizing: border-box;margin-bottom: 0.5em;}#sk-container-id-1 div.sk-estimator:hover {background-color: #d4ebff;}#sk-container-id-1 div.sk-parallel-item::after {content: \"\";width: 100%;border-bottom: 1px solid gray;flex-grow: 1;}#sk-container-id-1 div.sk-label:hover label.sk-toggleable__label {background-color: #d4ebff;}#sk-container-id-1 div.sk-serial::before {content: \"\";position: absolute;border-left: 1px solid gray;box-sizing: border-box;top: 0;bottom: 0;left: 50%;z-index: 0;}#sk-container-id-1 div.sk-serial {display: flex;flex-direction: column;align-items: center;background-color: white;padding-right: 0.2em;padding-left: 0.2em;position: relative;}#sk-container-id-1 div.sk-item {position: relative;z-index: 1;}#sk-container-id-1 div.sk-parallel {display: flex;align-items: stretch;justify-content: center;background-color: white;position: relative;}#sk-container-id-1 div.sk-item::before, #sk-container-id-1 div.sk-parallel-item::before {content: \"\";position: absolute;border-left: 1px solid gray;box-sizing: border-box;top: 0;bottom: 0;left: 50%;z-index: -1;}#sk-container-id-1 div.sk-parallel-item {display: flex;flex-direction: column;z-index: 1;position: relative;background-color: white;}#sk-container-id-1 div.sk-parallel-item:first-child::after {align-self: flex-end;width: 50%;}#sk-container-id-1 div.sk-parallel-item:last-child::after {align-self: flex-start;width: 50%;}#sk-container-id-1 div.sk-parallel-item:only-child::after {width: 0;}#sk-container-id-1 div.sk-dashed-wrapped {border: 1px dashed gray;margin: 0 0.4em 0.5em 0.4em;box-sizing: border-box;padding-bottom: 0.4em;background-color: white;}#sk-container-id-1 div.sk-label label {font-family: monospace;font-weight: bold;display: inline-block;line-height: 1.2em;}#sk-container-id-1 div.sk-label-container {text-align: center;}#sk-container-id-1 div.sk-container {/* jupyter's `normalize.less` sets `[hidden] { display: none; }` but bootstrap.min.css set `[hidden] { display: none !important; }` so we also need the `!important` here to be able to override the default hidden behavior on the sphinx rendered scikit-learn.org. See: https://github.com/scikit-learn/scikit-learn/issues/21755 */display: inline-block !important;position: relative;}#sk-container-id-1 div.sk-text-repr-fallback {display: none;}</style><div id=\"sk-container-id-1\" class=\"sk-top-container\"><div class=\"sk-text-repr-fallback\"><pre>GridSearchCV(cv=5, estimator=ExtraTreesRegressor(),\n",
       "             param_grid={&#x27;criterion&#x27;: [&#x27;squared_error&#x27;, &#x27;absolute_error&#x27;],\n",
       "                         &#x27;max_depth&#x27;: [0, 1, 2], &#x27;min_samples_leaf&#x27;: [0, 1, 2],\n",
       "                         &#x27;min_samples_split&#x27;: [0, 1, 2],\n",
       "                         &#x27;n_estimators&#x27;: [50, 100, 200]})</pre><b>In a Jupyter environment, please rerun this cell to show the HTML representation or trust the notebook. <br />On GitHub, the HTML representation is unable to render, please try loading this page with nbviewer.org.</b></div><div class=\"sk-container\" hidden><div class=\"sk-item sk-dashed-wrapped\"><div class=\"sk-label-container\"><div class=\"sk-label sk-toggleable\"><input class=\"sk-toggleable__control sk-hidden--visually\" id=\"sk-estimator-id-1\" type=\"checkbox\" ><label for=\"sk-estimator-id-1\" class=\"sk-toggleable__label sk-toggleable__label-arrow\">GridSearchCV</label><div class=\"sk-toggleable__content\"><pre>GridSearchCV(cv=5, estimator=ExtraTreesRegressor(),\n",
       "             param_grid={&#x27;criterion&#x27;: [&#x27;squared_error&#x27;, &#x27;absolute_error&#x27;],\n",
       "                         &#x27;max_depth&#x27;: [0, 1, 2], &#x27;min_samples_leaf&#x27;: [0, 1, 2],\n",
       "                         &#x27;min_samples_split&#x27;: [0, 1, 2],\n",
       "                         &#x27;n_estimators&#x27;: [50, 100, 200]})</pre></div></div></div><div class=\"sk-parallel\"><div class=\"sk-parallel-item\"><div class=\"sk-item\"><div class=\"sk-label-container\"><div class=\"sk-label sk-toggleable\"><input class=\"sk-toggleable__control sk-hidden--visually\" id=\"sk-estimator-id-2\" type=\"checkbox\" ><label for=\"sk-estimator-id-2\" class=\"sk-toggleable__label sk-toggleable__label-arrow\">estimator: ExtraTreesRegressor</label><div class=\"sk-toggleable__content\"><pre>ExtraTreesRegressor()</pre></div></div></div><div class=\"sk-serial\"><div class=\"sk-item\"><div class=\"sk-estimator sk-toggleable\"><input class=\"sk-toggleable__control sk-hidden--visually\" id=\"sk-estimator-id-3\" type=\"checkbox\" ><label for=\"sk-estimator-id-3\" class=\"sk-toggleable__label sk-toggleable__label-arrow\">ExtraTreesRegressor</label><div class=\"sk-toggleable__content\"><pre>ExtraTreesRegressor()</pre></div></div></div></div></div></div></div></div></div></div>"
      ],
      "text/plain": [
       "GridSearchCV(cv=5, estimator=ExtraTreesRegressor(),\n",
       "             param_grid={'criterion': ['squared_error', 'absolute_error'],\n",
       "                         'max_depth': [0, 1, 2], 'min_samples_leaf': [0, 1, 2],\n",
       "                         'min_samples_split': [0, 1, 2],\n",
       "                         'n_estimators': [50, 100, 200]})"
      ]
     },
     "execution_count": 54,
     "metadata": {},
     "output_type": "execute_result"
    }
   ],
   "source": [
    "GCV.fit(x_train, y_train)"
   ]
  },
  {
   "cell_type": "code",
   "execution_count": 55,
   "id": "149a5a6e",
   "metadata": {},
   "outputs": [
    {
     "data": {
      "text/plain": [
       "{'criterion': 'squared_error',\n",
       " 'max_depth': 2,\n",
       " 'min_samples_leaf': 1,\n",
       " 'min_samples_split': 2,\n",
       " 'n_estimators': 50}"
      ]
     },
     "execution_count": 55,
     "metadata": {},
     "output_type": "execute_result"
    }
   ],
   "source": [
    "GCV.best_params_"
   ]
  },
  {
   "cell_type": "code",
   "execution_count": 57,
   "id": "db0dcb64",
   "metadata": {},
   "outputs": [
    {
     "data": {
      "text/plain": [
       "0.6291297189257401"
      ]
     },
     "execution_count": 57,
     "metadata": {},
     "output_type": "execute_result"
    }
   ],
   "source": [
    "final_scores = ExtraTreesRegressor(criterion = 'squared_error',\n",
    "                                 max_depth = 2,\n",
    "                                  min_samples_leaf = 1,\n",
    "                                  min_samples_split = 2,\n",
    "                                  n_estimators = 50).fit(x_train, y_train)\n",
    "final_scores.score(x_test, y_test)"
   ]
  },
  {
   "cell_type": "code",
   "execution_count": 58,
   "id": "62fa119b",
   "metadata": {},
   "outputs": [
    {
     "name": "stdout",
     "output_type": "stream",
     "text": [
      "R2 score: 0.6291297189257401\n",
      "Mean Absolute Error: 0.04507833939053939\n",
      "Mean Squared Error: 0.0025789097951081463\n",
      "Root Mean Squared Error: 0.05078296756894132\n"
     ]
    }
   ],
   "source": [
    "pred = final_scores.predict(x_test)\n",
    "print('R2 score:', r2_score(y_test, pred))\n",
    "print('Mean Absolute Error:', mean_absolute_error(y_test, pred))\n",
    "print('Mean Squared Error:', mean_squared_error(y_test, pred))\n",
    "print('Root Mean Squared Error:', np.sqrt(mean_squared_error(y_test, pred)))"
   ]
  },
  {
   "cell_type": "markdown",
   "id": "862f14e1",
   "metadata": {},
   "source": [
    "So, after hyper parameter tuning we got 62% scores only."
   ]
  },
  {
   "cell_type": "markdown",
   "id": "df76980f",
   "metadata": {},
   "source": [
    "#### Saving the model"
   ]
  },
  {
   "cell_type": "code",
   "execution_count": 59,
   "id": "01c991bf",
   "metadata": {},
   "outputs": [],
   "source": [
    "import pickle"
   ]
  },
  {
   "cell_type": "code",
   "execution_count": 60,
   "id": "1ae40585",
   "metadata": {},
   "outputs": [],
   "source": [
    "filename = 'Glass_identification.pkl'\n",
    "pickle.dump(final_scores, open(filename, 'wb'))\n",
    "#Model saved"
   ]
  },
  {
   "cell_type": "code",
   "execution_count": 61,
   "id": "27ac7406",
   "metadata": {},
   "outputs": [
    {
     "name": "stdout",
     "output_type": "stream",
     "text": [
      "62.91297189257401\n"
     ]
    }
   ],
   "source": [
    "loaded_model = pickle.load(open ('Glass_identification.pkl','rb'))\n",
    "result = loaded_model.score(x_test, y_test)\n",
    "print(result*100)"
   ]
  },
  {
   "cell_type": "code",
   "execution_count": 62,
   "id": "5e26ad0d",
   "metadata": {},
   "outputs": [
    {
     "data": {
      "text/html": [
       "<div>\n",
       "<style scoped>\n",
       "    .dataframe tbody tr th:only-of-type {\n",
       "        vertical-align: middle;\n",
       "    }\n",
       "\n",
       "    .dataframe tbody tr th {\n",
       "        vertical-align: top;\n",
       "    }\n",
       "\n",
       "    .dataframe thead th {\n",
       "        text-align: right;\n",
       "    }\n",
       "</style>\n",
       "<table border=\"1\" class=\"dataframe\">\n",
       "  <thead>\n",
       "    <tr style=\"text-align: right;\">\n",
       "      <th></th>\n",
       "      <th>0</th>\n",
       "      <th>1</th>\n",
       "      <th>2</th>\n",
       "      <th>3</th>\n",
       "      <th>4</th>\n",
       "      <th>5</th>\n",
       "      <th>6</th>\n",
       "      <th>7</th>\n",
       "      <th>8</th>\n",
       "      <th>9</th>\n",
       "      <th>...</th>\n",
       "      <th>44</th>\n",
       "      <th>45</th>\n",
       "      <th>46</th>\n",
       "      <th>47</th>\n",
       "      <th>48</th>\n",
       "      <th>49</th>\n",
       "      <th>50</th>\n",
       "      <th>51</th>\n",
       "      <th>52</th>\n",
       "      <th>53</th>\n",
       "    </tr>\n",
       "  </thead>\n",
       "  <tbody>\n",
       "    <tr>\n",
       "      <th>Predicted</th>\n",
       "      <td>1.223601</td>\n",
       "      <td>1.062728</td>\n",
       "      <td>1.183886</td>\n",
       "      <td>1.054982</td>\n",
       "      <td>1.054982</td>\n",
       "      <td>1.096061</td>\n",
       "      <td>1.056955</td>\n",
       "      <td>1.204911</td>\n",
       "      <td>1.067628</td>\n",
       "      <td>1.064201</td>\n",
       "      <td>...</td>\n",
       "      <td>1.059437</td>\n",
       "      <td>1.082547</td>\n",
       "      <td>1.063836</td>\n",
       "      <td>1.07925</td>\n",
       "      <td>1.185121</td>\n",
       "      <td>1.057583</td>\n",
       "      <td>1.075022</td>\n",
       "      <td>1.185251</td>\n",
       "      <td>1.055581</td>\n",
       "      <td>1.064984</td>\n",
       "    </tr>\n",
       "    <tr>\n",
       "      <th>Original</th>\n",
       "      <td>1.241366</td>\n",
       "      <td>1.080060</td>\n",
       "      <td>1.080060</td>\n",
       "      <td>1.000000</td>\n",
       "      <td>1.000000</td>\n",
       "      <td>1.080060</td>\n",
       "      <td>1.080060</td>\n",
       "      <td>1.241366</td>\n",
       "      <td>1.080060</td>\n",
       "      <td>1.000000</td>\n",
       "      <td>...</td>\n",
       "      <td>1.000000</td>\n",
       "      <td>1.000000</td>\n",
       "      <td>1.080060</td>\n",
       "      <td>1.08006</td>\n",
       "      <td>1.195813</td>\n",
       "      <td>1.000000</td>\n",
       "      <td>1.000000</td>\n",
       "      <td>1.241366</td>\n",
       "      <td>1.000000</td>\n",
       "      <td>1.080060</td>\n",
       "    </tr>\n",
       "  </tbody>\n",
       "</table>\n",
       "<p>2 rows × 54 columns</p>\n",
       "</div>"
      ],
      "text/plain": [
       "                 0         1         2         3         4         5   \\\n",
       "Predicted  1.223601  1.062728  1.183886  1.054982  1.054982  1.096061   \n",
       "Original   1.241366  1.080060  1.080060  1.000000  1.000000  1.080060   \n",
       "\n",
       "                 6         7         8         9   ...        44        45  \\\n",
       "Predicted  1.056955  1.204911  1.067628  1.064201  ...  1.059437  1.082547   \n",
       "Original   1.080060  1.241366  1.080060  1.000000  ...  1.000000  1.000000   \n",
       "\n",
       "                 46       47        48        49        50        51  \\\n",
       "Predicted  1.063836  1.07925  1.185121  1.057583  1.075022  1.185251   \n",
       "Original   1.080060  1.08006  1.195813  1.000000  1.000000  1.241366   \n",
       "\n",
       "                 52        53  \n",
       "Predicted  1.055581  1.064984  \n",
       "Original   1.000000  1.080060  \n",
       "\n",
       "[2 rows x 54 columns]"
      ]
     },
     "execution_count": 62,
     "metadata": {},
     "output_type": "execute_result"
    }
   ],
   "source": [
    "conclusion = pd.DataFrame([loaded_model.predict(x_test)[:], y_test[:]], index=[\"Predicted\", \"Original\"])\n",
    "conclusion"
   ]
  },
  {
   "cell_type": "markdown",
   "id": "e1e08089",
   "metadata": {},
   "source": [
    "Done!"
   ]
  },
  {
   "cell_type": "code",
   "execution_count": null,
   "id": "e29c6767",
   "metadata": {},
   "outputs": [],
   "source": []
  }
 ],
 "metadata": {
  "kernelspec": {
   "display_name": "Python 3 (ipykernel)",
   "language": "python",
   "name": "python3"
  },
  "language_info": {
   "codemirror_mode": {
    "name": "ipython",
    "version": 3
   },
   "file_extension": ".py",
   "mimetype": "text/x-python",
   "name": "python",
   "nbconvert_exporter": "python",
   "pygments_lexer": "ipython3",
   "version": "3.10.9"
  }
 },
 "nbformat": 4,
 "nbformat_minor": 5
}
